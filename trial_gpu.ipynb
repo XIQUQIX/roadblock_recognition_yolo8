{
 "cells": [
  {
   "cell_type": "markdown",
   "id": "91a9b3ed",
   "metadata": {},
   "source": [
    "# 识别路障"
   ]
  },
  {
   "cell_type": "code",
   "execution_count": 4,
   "id": "d27c8fcb",
   "metadata": {},
   "outputs": [],
   "source": [
    "from ultralytics import YOLO\n",
    "\n",
    "# 加载预训练模型\n",
    "model = YOLO(\"yolov8n.pt\")"
   ]
  },
  {
   "cell_type": "code",
   "execution_count": 5,
   "id": "a92103b6",
   "metadata": {},
   "outputs": [
    {
     "name": "stdout",
     "output_type": "stream",
     "text": [
      "New https://pypi.org/project/ultralytics/8.3.167 available  Update with 'pip install -U ultralytics'\n",
      "Ultralytics 8.3.166  Python-3.10.11 torch-2.7.1+cu126 CUDA:0 (NVIDIA GeForce RTX 3060 Laptop GPU, 6144MiB)\n",
      "\u001b[34m\u001b[1mengine\\trainer: \u001b[0magnostic_nms=False, amp=True, augment=False, auto_augment=randaugment, batch=8, bgr=0.0, box=7.5, cache=False, cfg=None, classes=None, close_mosaic=10, cls=0.5, conf=None, copy_paste=0.0, copy_paste_mode=flip, cos_lr=False, cutmix=0.0, data=block_data/data.yaml, degrees=0.0, deterministic=True, device=0, dfl=1.5, dnn=False, dropout=0.0, dynamic=False, embed=None, epochs=50, erasing=0.4, exist_ok=False, fliplr=0.5, flipud=0.0, format=torchscript, fraction=1.0, freeze=None, half=False, hsv_h=0.015, hsv_s=0.7, hsv_v=0.4, imgsz=416, int8=False, iou=0.7, keras=False, kobj=1.0, line_width=None, lr0=0.01, lrf=0.01, mask_ratio=4, max_det=300, mixup=0.0, mode=train, model=yolov8n.pt, momentum=0.937, mosaic=1.0, multi_scale=False, name=train16, nbs=64, nms=False, opset=None, optimize=False, optimizer=auto, overlap_mask=True, patience=100, perspective=0.0, plots=True, pose=12.0, pretrained=True, profile=False, project=None, rect=False, resume=False, retina_masks=False, save=True, save_conf=False, save_crop=False, save_dir=runs\\detect\\train16, save_frames=False, save_json=False, save_period=-1, save_txt=False, scale=0.5, seed=0, shear=0.0, show=False, show_boxes=True, show_conf=True, show_labels=True, simplify=True, single_cls=False, source=None, split=val, stream_buffer=False, task=detect, time=None, tracker=botsort.yaml, translate=0.1, val=True, verbose=True, vid_stride=1, visualize=False, warmup_bias_lr=0.1, warmup_epochs=3.0, warmup_momentum=0.8, weight_decay=0.0005, workers=8, workspace=None\n",
      "Overriding model.yaml nc=80 with nc=1\n",
      "\n",
      "                   from  n    params  module                                       arguments                     \n",
      "  0                  -1  1       464  ultralytics.nn.modules.conv.Conv             [3, 16, 3, 2]                 \n",
      "  1                  -1  1      4672  ultralytics.nn.modules.conv.Conv             [16, 32, 3, 2]                \n",
      "  2                  -1  1      7360  ultralytics.nn.modules.block.C2f             [32, 32, 1, True]             \n",
      "  3                  -1  1     18560  ultralytics.nn.modules.conv.Conv             [32, 64, 3, 2]                \n",
      "  4                  -1  2     49664  ultralytics.nn.modules.block.C2f             [64, 64, 2, True]             \n",
      "  5                  -1  1     73984  ultralytics.nn.modules.conv.Conv             [64, 128, 3, 2]               \n",
      "  6                  -1  2    197632  ultralytics.nn.modules.block.C2f             [128, 128, 2, True]           \n",
      "  7                  -1  1    295424  ultralytics.nn.modules.conv.Conv             [128, 256, 3, 2]              \n",
      "  8                  -1  1    460288  ultralytics.nn.modules.block.C2f             [256, 256, 1, True]           \n",
      "  9                  -1  1    164608  ultralytics.nn.modules.block.SPPF            [256, 256, 5]                 \n",
      " 10                  -1  1         0  torch.nn.modules.upsampling.Upsample         [None, 2, 'nearest']          \n",
      " 11             [-1, 6]  1         0  ultralytics.nn.modules.conv.Concat           [1]                           \n",
      " 12                  -1  1    148224  ultralytics.nn.modules.block.C2f             [384, 128, 1]                 \n",
      " 13                  -1  1         0  torch.nn.modules.upsampling.Upsample         [None, 2, 'nearest']          \n",
      " 14             [-1, 4]  1         0  ultralytics.nn.modules.conv.Concat           [1]                           \n",
      " 15                  -1  1     37248  ultralytics.nn.modules.block.C2f             [192, 64, 1]                  \n",
      " 16                  -1  1     36992  ultralytics.nn.modules.conv.Conv             [64, 64, 3, 2]                \n",
      " 17            [-1, 12]  1         0  ultralytics.nn.modules.conv.Concat           [1]                           \n",
      " 18                  -1  1    123648  ultralytics.nn.modules.block.C2f             [192, 128, 1]                 \n",
      " 19                  -1  1    147712  ultralytics.nn.modules.conv.Conv             [128, 128, 3, 2]              \n",
      " 20             [-1, 9]  1         0  ultralytics.nn.modules.conv.Concat           [1]                           \n",
      " 21                  -1  1    493056  ultralytics.nn.modules.block.C2f             [384, 256, 1]                 \n",
      " 22        [15, 18, 21]  1    751507  ultralytics.nn.modules.head.Detect           [1, [64, 128, 256]]           \n",
      "Model summary: 129 layers, 3,011,043 parameters, 3,011,027 gradients, 8.2 GFLOPs\n",
      "\n",
      "Transferred 319/355 items from pretrained weights\n",
      "Freezing layer 'model.22.dfl.conv.weight'\n",
      "\u001b[34m\u001b[1mAMP: \u001b[0mrunning Automatic Mixed Precision (AMP) checks...\n",
      "\u001b[34m\u001b[1mAMP: \u001b[0mchecks passed \n",
      "\u001b[34m\u001b[1mtrain: \u001b[0mFast image access  (ping: 0.10.0 ms, read: 133.333.9 MB/s, size: 74.5 KB)\n"
     ]
    },
    {
     "name": "stderr",
     "output_type": "stream",
     "text": [
      "\u001b[34m\u001b[1mtrain: \u001b[0mScanning E:\\杂项\\实习经历\\SMT\\yolo_roadblock\\block_data\\labels\\train.cache... 210 images, 0 backgrounds, 0 corrupt: 100%|██████████| 210/210 [00:00<?, ?it/s]"
     ]
    },
    {
     "name": "stdout",
     "output_type": "stream",
     "text": [
      "\u001b[34m\u001b[1mtrain: \u001b[0mE:\\\\\\SMT\\yolo_roadblock\\block_data\\images\\train\\49.jpg: corrupt JPEG restored and saved\n"
     ]
    },
    {
     "name": "stderr",
     "output_type": "stream",
     "text": [
      "\n"
     ]
    },
    {
     "name": "stdout",
     "output_type": "stream",
     "text": [
      "\u001b[34m\u001b[1mval: \u001b[0mFast image access  (ping: 0.10.0 ms, read: 180.349.5 MB/s, size: 106.3 KB)\n"
     ]
    },
    {
     "name": "stderr",
     "output_type": "stream",
     "text": [
      "\u001b[34m\u001b[1mval: \u001b[0mScanning E:\\杂项\\实习经历\\SMT\\yolo_roadblock\\block_data\\labels\\val.cache... 26 images, 0 backgrounds, 0 corrupt: 100%|██████████| 26/26 [00:00<?, ?it/s]\n"
     ]
    },
    {
     "name": "stdout",
     "output_type": "stream",
     "text": [
      "Plotting labels to runs\\detect\\train16\\labels.jpg... \n",
      "\u001b[34m\u001b[1moptimizer:\u001b[0m 'optimizer=auto' found, ignoring 'lr0=0.01' and 'momentum=0.937' and determining best 'optimizer', 'lr0' and 'momentum' automatically... \n",
      "\u001b[34m\u001b[1moptimizer:\u001b[0m AdamW(lr=0.002, momentum=0.9) with parameter groups 57 weight(decay=0.0), 64 weight(decay=0.0005), 63 bias(decay=0.0)\n",
      "Image sizes 416 train, 416 val\n",
      "Using 8 dataloader workers\n",
      "Logging results to \u001b[1mruns\\detect\\train16\u001b[0m\n",
      "Starting training for 50 epochs...\n",
      "\n",
      "      Epoch    GPU_mem   box_loss   cls_loss   dfl_loss  Instances       Size\n"
     ]
    },
    {
     "name": "stderr",
     "output_type": "stream",
     "text": [
      "       1/50     0.502G      1.471      2.278      1.321          6        416: 100%|██████████| 27/27 [00:03<00:00,  8.27it/s]\n",
      "                 Class     Images  Instances      Box(P          R      mAP50  mAP50-95): 100%|██████████| 2/2 [00:00<00:00,  7.13it/s]"
     ]
    },
    {
     "name": "stdout",
     "output_type": "stream",
     "text": [
      "                   all         26        187      0.876      0.139       0.25      0.168\n"
     ]
    },
    {
     "name": "stderr",
     "output_type": "stream",
     "text": [
      "\n"
     ]
    },
    {
     "name": "stdout",
     "output_type": "stream",
     "text": [
      "\n",
      "      Epoch    GPU_mem   box_loss   cls_loss   dfl_loss  Instances       Size\n"
     ]
    },
    {
     "name": "stderr",
     "output_type": "stream",
     "text": [
      "       2/50     0.613G      1.257      1.328      1.181          9        416: 100%|██████████| 27/27 [00:01<00:00, 17.55it/s]\n",
      "                 Class     Images  Instances      Box(P          R      mAP50  mAP50-95): 100%|██████████| 2/2 [00:00<00:00, 16.11it/s]\n"
     ]
    },
    {
     "name": "stdout",
     "output_type": "stream",
     "text": [
      "                   all         26        187      0.759      0.202      0.385      0.226\n",
      "\n",
      "      Epoch    GPU_mem   box_loss   cls_loss   dfl_loss  Instances       Size\n"
     ]
    },
    {
     "name": "stderr",
     "output_type": "stream",
     "text": [
      "       3/50     0.633G      1.259      1.176      1.137         29        416: 100%|██████████| 27/27 [00:01<00:00, 18.20it/s]\n",
      "                 Class     Images  Instances      Box(P          R      mAP50  mAP50-95): 100%|██████████| 2/2 [00:00<00:00, 16.92it/s]"
     ]
    },
    {
     "name": "stdout",
     "output_type": "stream",
     "text": [
      "                   all         26        187       0.54      0.214      0.254      0.157\n"
     ]
    },
    {
     "name": "stderr",
     "output_type": "stream",
     "text": [
      "\n"
     ]
    },
    {
     "name": "stdout",
     "output_type": "stream",
     "text": [
      "\n",
      "      Epoch    GPU_mem   box_loss   cls_loss   dfl_loss  Instances       Size\n"
     ]
    },
    {
     "name": "stderr",
     "output_type": "stream",
     "text": [
      "       4/50     0.648G      1.331      1.175      1.238         11        416: 100%|██████████| 27/27 [00:01<00:00, 18.33it/s]\n",
      "                 Class     Images  Instances      Box(P          R      mAP50  mAP50-95): 100%|██████████| 2/2 [00:00<00:00, 17.12it/s]\n"
     ]
    },
    {
     "name": "stdout",
     "output_type": "stream",
     "text": [
      "                   all         26        187      0.466      0.262      0.331      0.193\n",
      "\n",
      "      Epoch    GPU_mem   box_loss   cls_loss   dfl_loss  Instances       Size\n"
     ]
    },
    {
     "name": "stderr",
     "output_type": "stream",
     "text": [
      "       5/50     0.666G      1.272      1.147      1.194         11        416: 100%|██████████| 27/27 [00:01<00:00, 18.10it/s]\n",
      "                 Class     Images  Instances      Box(P          R      mAP50  mAP50-95): 100%|██████████| 2/2 [00:00<00:00, 17.55it/s]"
     ]
    },
    {
     "name": "stdout",
     "output_type": "stream",
     "text": [
      "                   all         26        187      0.499      0.428      0.443       0.26\n"
     ]
    },
    {
     "name": "stderr",
     "output_type": "stream",
     "text": [
      "\n"
     ]
    },
    {
     "name": "stdout",
     "output_type": "stream",
     "text": [
      "\n",
      "      Epoch    GPU_mem   box_loss   cls_loss   dfl_loss  Instances       Size\n"
     ]
    },
    {
     "name": "stderr",
     "output_type": "stream",
     "text": [
      "       6/50     0.686G      1.198      1.104      1.196         29        416: 100%|██████████| 27/27 [00:01<00:00, 17.85it/s]\n",
      "                 Class     Images  Instances      Box(P          R      mAP50  mAP50-95): 100%|██████████| 2/2 [00:00<00:00, 16.60it/s]"
     ]
    },
    {
     "name": "stdout",
     "output_type": "stream",
     "text": [
      "                   all         26        187      0.644      0.591      0.598      0.344\n"
     ]
    },
    {
     "name": "stderr",
     "output_type": "stream",
     "text": [
      "\n"
     ]
    },
    {
     "name": "stdout",
     "output_type": "stream",
     "text": [
      "\n",
      "      Epoch    GPU_mem   box_loss   cls_loss   dfl_loss  Instances       Size\n"
     ]
    },
    {
     "name": "stderr",
     "output_type": "stream",
     "text": [
      "       7/50     0.701G      1.206       1.02      1.155         24        416: 100%|██████████| 27/27 [00:01<00:00, 17.88it/s]\n",
      "                 Class     Images  Instances      Box(P          R      mAP50  mAP50-95): 100%|██████████| 2/2 [00:00<00:00, 17.10it/s]"
     ]
    },
    {
     "name": "stdout",
     "output_type": "stream",
     "text": [
      "                   all         26        187      0.682      0.528      0.619      0.377\n"
     ]
    },
    {
     "name": "stderr",
     "output_type": "stream",
     "text": [
      "\n"
     ]
    },
    {
     "name": "stdout",
     "output_type": "stream",
     "text": [
      "\n",
      "      Epoch    GPU_mem   box_loss   cls_loss   dfl_loss  Instances       Size\n"
     ]
    },
    {
     "name": "stderr",
     "output_type": "stream",
     "text": [
      "       8/50     0.701G      1.154     0.9705      1.132         12        416: 100%|██████████| 27/27 [00:01<00:00, 18.50it/s]\n",
      "                 Class     Images  Instances      Box(P          R      mAP50  mAP50-95): 100%|██████████| 2/2 [00:00<00:00, 16.93it/s]"
     ]
    },
    {
     "name": "stdout",
     "output_type": "stream",
     "text": [
      "                   all         26        187       0.73       0.68      0.722       0.41\n"
     ]
    },
    {
     "name": "stderr",
     "output_type": "stream",
     "text": [
      "\n"
     ]
    },
    {
     "name": "stdout",
     "output_type": "stream",
     "text": [
      "\n",
      "      Epoch    GPU_mem   box_loss   cls_loss   dfl_loss  Instances       Size\n"
     ]
    },
    {
     "name": "stderr",
     "output_type": "stream",
     "text": [
      "       9/50     0.701G       1.14      1.025      1.135          4        416: 100%|██████████| 27/27 [00:01<00:00, 18.31it/s]\n",
      "                 Class     Images  Instances      Box(P          R      mAP50  mAP50-95): 100%|██████████| 2/2 [00:00<00:00, 17.03it/s]"
     ]
    },
    {
     "name": "stdout",
     "output_type": "stream",
     "text": [
      "                   all         26        187      0.773      0.528      0.588      0.322\n"
     ]
    },
    {
     "name": "stderr",
     "output_type": "stream",
     "text": [
      "\n"
     ]
    },
    {
     "name": "stdout",
     "output_type": "stream",
     "text": [
      "\n",
      "      Epoch    GPU_mem   box_loss   cls_loss   dfl_loss  Instances       Size\n"
     ]
    },
    {
     "name": "stderr",
     "output_type": "stream",
     "text": [
      "      10/50     0.701G      1.209     0.9391       1.12         20        416: 100%|██████████| 27/27 [00:01<00:00, 18.61it/s]\n",
      "                 Class     Images  Instances      Box(P          R      mAP50  mAP50-95): 100%|██████████| 2/2 [00:00<00:00, 17.20it/s]"
     ]
    },
    {
     "name": "stdout",
     "output_type": "stream",
     "text": [
      "                   all         26        187      0.743      0.695      0.709      0.366\n"
     ]
    },
    {
     "name": "stderr",
     "output_type": "stream",
     "text": [
      "\n"
     ]
    },
    {
     "name": "stdout",
     "output_type": "stream",
     "text": [
      "\n",
      "      Epoch    GPU_mem   box_loss   cls_loss   dfl_loss  Instances       Size\n"
     ]
    },
    {
     "name": "stderr",
     "output_type": "stream",
     "text": [
      "      11/50     0.701G      1.193      1.009      1.186         11        416: 100%|██████████| 27/27 [00:01<00:00, 18.88it/s]\n",
      "                 Class     Images  Instances      Box(P          R      mAP50  mAP50-95): 100%|██████████| 2/2 [00:00<00:00, 15.86it/s]"
     ]
    },
    {
     "name": "stdout",
     "output_type": "stream",
     "text": [
      "                   all         26        187       0.66      0.572      0.596      0.354\n"
     ]
    },
    {
     "name": "stderr",
     "output_type": "stream",
     "text": [
      "\n"
     ]
    },
    {
     "name": "stdout",
     "output_type": "stream",
     "text": [
      "\n",
      "      Epoch    GPU_mem   box_loss   cls_loss   dfl_loss  Instances       Size\n"
     ]
    },
    {
     "name": "stderr",
     "output_type": "stream",
     "text": [
      "      12/50     0.701G      1.122     0.9197       1.13         20        416: 100%|██████████| 27/27 [00:01<00:00, 18.38it/s]\n",
      "                 Class     Images  Instances      Box(P          R      mAP50  mAP50-95): 100%|██████████| 2/2 [00:00<00:00, 15.46it/s]"
     ]
    },
    {
     "name": "stdout",
     "output_type": "stream",
     "text": [
      "                   all         26        187      0.795      0.746      0.777      0.414\n"
     ]
    },
    {
     "name": "stderr",
     "output_type": "stream",
     "text": [
      "\n"
     ]
    },
    {
     "name": "stdout",
     "output_type": "stream",
     "text": [
      "\n",
      "      Epoch    GPU_mem   box_loss   cls_loss   dfl_loss  Instances       Size\n"
     ]
    },
    {
     "name": "stderr",
     "output_type": "stream",
     "text": [
      "      13/50     0.701G      1.129     0.8829      1.099          6        416: 100%|██████████| 27/27 [00:01<00:00, 18.22it/s]\n",
      "                 Class     Images  Instances      Box(P          R      mAP50  mAP50-95): 100%|██████████| 2/2 [00:00<00:00, 16.95it/s]"
     ]
    },
    {
     "name": "stdout",
     "output_type": "stream",
     "text": [
      "                   all         26        187      0.805      0.695      0.759      0.408\n"
     ]
    },
    {
     "name": "stderr",
     "output_type": "stream",
     "text": [
      "\n"
     ]
    },
    {
     "name": "stdout",
     "output_type": "stream",
     "text": [
      "\n",
      "      Epoch    GPU_mem   box_loss   cls_loss   dfl_loss  Instances       Size\n"
     ]
    },
    {
     "name": "stderr",
     "output_type": "stream",
     "text": [
      "      14/50     0.717G      1.072     0.8542      1.079         20        416: 100%|██████████| 27/27 [00:01<00:00, 18.76it/s]\n",
      "                 Class     Images  Instances      Box(P          R      mAP50  mAP50-95): 100%|██████████| 2/2 [00:00<00:00, 17.52it/s]"
     ]
    },
    {
     "name": "stdout",
     "output_type": "stream",
     "text": [
      "                   all         26        187      0.772      0.711      0.771      0.436\n"
     ]
    },
    {
     "name": "stderr",
     "output_type": "stream",
     "text": [
      "\n"
     ]
    },
    {
     "name": "stdout",
     "output_type": "stream",
     "text": [
      "\n",
      "      Epoch    GPU_mem   box_loss   cls_loss   dfl_loss  Instances       Size\n"
     ]
    },
    {
     "name": "stderr",
     "output_type": "stream",
     "text": [
      "      15/50     0.734G      1.057     0.8278      1.075         20        416: 100%|██████████| 27/27 [00:01<00:00, 18.46it/s]\n",
      "                 Class     Images  Instances      Box(P          R      mAP50  mAP50-95): 100%|██████████| 2/2 [00:00<00:00, 17.54it/s]"
     ]
    },
    {
     "name": "stdout",
     "output_type": "stream",
     "text": [
      "                   all         26        187      0.799      0.674      0.745      0.423\n"
     ]
    },
    {
     "name": "stderr",
     "output_type": "stream",
     "text": [
      "\n"
     ]
    },
    {
     "name": "stdout",
     "output_type": "stream",
     "text": [
      "\n",
      "      Epoch    GPU_mem   box_loss   cls_loss   dfl_loss  Instances       Size\n"
     ]
    },
    {
     "name": "stderr",
     "output_type": "stream",
     "text": [
      "      16/50      0.75G      1.098     0.8624      1.115          9        416: 100%|██████████| 27/27 [00:01<00:00, 18.87it/s]\n",
      "                 Class     Images  Instances      Box(P          R      mAP50  mAP50-95): 100%|██████████| 2/2 [00:00<00:00, 17.71it/s]"
     ]
    },
    {
     "name": "stdout",
     "output_type": "stream",
     "text": [
      "                   all         26        187      0.856      0.652      0.739      0.444\n"
     ]
    },
    {
     "name": "stderr",
     "output_type": "stream",
     "text": [
      "\n"
     ]
    },
    {
     "name": "stdout",
     "output_type": "stream",
     "text": [
      "\n",
      "      Epoch    GPU_mem   box_loss   cls_loss   dfl_loss  Instances       Size\n"
     ]
    },
    {
     "name": "stderr",
     "output_type": "stream",
     "text": [
      "      17/50     0.768G      1.041     0.8274      1.094         12        416: 100%|██████████| 27/27 [00:01<00:00, 18.49it/s]\n",
      "                 Class     Images  Instances      Box(P          R      mAP50  mAP50-95): 100%|██████████| 2/2 [00:00<00:00, 13.33it/s]"
     ]
    },
    {
     "name": "stdout",
     "output_type": "stream",
     "text": [
      "                   all         26        187      0.826       0.71      0.788      0.458\n"
     ]
    },
    {
     "name": "stderr",
     "output_type": "stream",
     "text": [
      "\n"
     ]
    },
    {
     "name": "stdout",
     "output_type": "stream",
     "text": [
      "\n",
      "      Epoch    GPU_mem   box_loss   cls_loss   dfl_loss  Instances       Size\n"
     ]
    },
    {
     "name": "stderr",
     "output_type": "stream",
     "text": [
      "      18/50     0.785G       1.06     0.8135      1.089         16        416: 100%|██████████| 27/27 [00:01<00:00, 18.66it/s]\n",
      "                 Class     Images  Instances      Box(P          R      mAP50  mAP50-95): 100%|██████████| 2/2 [00:00<00:00, 17.35it/s]"
     ]
    },
    {
     "name": "stdout",
     "output_type": "stream",
     "text": [
      "                   all         26        187      0.878      0.733      0.817      0.486\n"
     ]
    },
    {
     "name": "stderr",
     "output_type": "stream",
     "text": [
      "\n"
     ]
    },
    {
     "name": "stdout",
     "output_type": "stream",
     "text": [
      "\n",
      "      Epoch    GPU_mem   box_loss   cls_loss   dfl_loss  Instances       Size\n"
     ]
    },
    {
     "name": "stderr",
     "output_type": "stream",
     "text": [
      "      19/50     0.801G      1.037     0.8127      1.102         13        416: 100%|██████████| 27/27 [00:01<00:00, 18.79it/s]\n",
      "                 Class     Images  Instances      Box(P          R      mAP50  mAP50-95): 100%|██████████| 2/2 [00:00<00:00, 16.59it/s]"
     ]
    },
    {
     "name": "stdout",
     "output_type": "stream",
     "text": [
      "                   all         26        187      0.832      0.739      0.812      0.436\n"
     ]
    },
    {
     "name": "stderr",
     "output_type": "stream",
     "text": [
      "\n"
     ]
    },
    {
     "name": "stdout",
     "output_type": "stream",
     "text": [
      "\n",
      "      Epoch    GPU_mem   box_loss   cls_loss   dfl_loss  Instances       Size\n"
     ]
    },
    {
     "name": "stderr",
     "output_type": "stream",
     "text": [
      "      20/50     0.818G     0.9779     0.7803      1.065          9        416: 100%|██████████| 27/27 [00:01<00:00, 18.94it/s]\n",
      "                 Class     Images  Instances      Box(P          R      mAP50  mAP50-95): 100%|██████████| 2/2 [00:00<00:00, 16.98it/s]"
     ]
    },
    {
     "name": "stdout",
     "output_type": "stream",
     "text": [
      "                   all         26        187      0.865       0.72      0.808      0.471\n"
     ]
    },
    {
     "name": "stderr",
     "output_type": "stream",
     "text": [
      "\n"
     ]
    },
    {
     "name": "stdout",
     "output_type": "stream",
     "text": [
      "\n",
      "      Epoch    GPU_mem   box_loss   cls_loss   dfl_loss  Instances       Size\n"
     ]
    },
    {
     "name": "stderr",
     "output_type": "stream",
     "text": [
      "      21/50      0.84G     0.9951     0.7787      1.073         28        416: 100%|██████████| 27/27 [00:01<00:00, 18.59it/s]\n",
      "                 Class     Images  Instances      Box(P          R      mAP50  mAP50-95): 100%|██████████| 2/2 [00:00<00:00, 17.49it/s]"
     ]
    },
    {
     "name": "stdout",
     "output_type": "stream",
     "text": [
      "                   all         26        187      0.818      0.767      0.813       0.46\n"
     ]
    },
    {
     "name": "stderr",
     "output_type": "stream",
     "text": [
      "\n"
     ]
    },
    {
     "name": "stdout",
     "output_type": "stream",
     "text": [
      "\n",
      "      Epoch    GPU_mem   box_loss   cls_loss   dfl_loss  Instances       Size\n"
     ]
    },
    {
     "name": "stderr",
     "output_type": "stream",
     "text": [
      "      22/50      0.84G      1.006     0.7627       1.06         11        416: 100%|██████████| 27/27 [00:01<00:00, 18.65it/s]\n",
      "                 Class     Images  Instances      Box(P          R      mAP50  mAP50-95): 100%|██████████| 2/2 [00:00<00:00, 17.48it/s]"
     ]
    },
    {
     "name": "stdout",
     "output_type": "stream",
     "text": [
      "                   all         26        187      0.824      0.797      0.838      0.495\n"
     ]
    },
    {
     "name": "stderr",
     "output_type": "stream",
     "text": [
      "\n"
     ]
    },
    {
     "name": "stdout",
     "output_type": "stream",
     "text": [
      "\n",
      "      Epoch    GPU_mem   box_loss   cls_loss   dfl_loss  Instances       Size\n"
     ]
    },
    {
     "name": "stderr",
     "output_type": "stream",
     "text": [
      "      23/50      0.84G      1.001     0.7519      1.051         12        416: 100%|██████████| 27/27 [00:01<00:00, 18.46it/s]\n",
      "                 Class     Images  Instances      Box(P          R      mAP50  mAP50-95): 100%|██████████| 2/2 [00:00<00:00, 16.12it/s]"
     ]
    },
    {
     "name": "stdout",
     "output_type": "stream",
     "text": [
      "                   all         26        187       0.83      0.755      0.802      0.511\n"
     ]
    },
    {
     "name": "stderr",
     "output_type": "stream",
     "text": [
      "\n"
     ]
    },
    {
     "name": "stdout",
     "output_type": "stream",
     "text": [
      "\n",
      "      Epoch    GPU_mem   box_loss   cls_loss   dfl_loss  Instances       Size\n"
     ]
    },
    {
     "name": "stderr",
     "output_type": "stream",
     "text": [
      "      24/50      0.84G          1      0.756      1.064         35        416: 100%|██████████| 27/27 [00:01<00:00, 18.84it/s]\n",
      "                 Class     Images  Instances      Box(P          R      mAP50  mAP50-95): 100%|██████████| 2/2 [00:00<00:00, 18.06it/s]"
     ]
    },
    {
     "name": "stdout",
     "output_type": "stream",
     "text": [
      "                   all         26        187      0.845      0.761      0.804      0.472\n"
     ]
    },
    {
     "name": "stderr",
     "output_type": "stream",
     "text": [
      "\n"
     ]
    },
    {
     "name": "stdout",
     "output_type": "stream",
     "text": [
      "\n",
      "      Epoch    GPU_mem   box_loss   cls_loss   dfl_loss  Instances       Size\n"
     ]
    },
    {
     "name": "stderr",
     "output_type": "stream",
     "text": [
      "      25/50      0.84G      1.007     0.7783      1.095          4        416: 100%|██████████| 27/27 [00:01<00:00, 18.62it/s]\n",
      "                 Class     Images  Instances      Box(P          R      mAP50  mAP50-95): 100%|██████████| 2/2 [00:00<00:00, 17.99it/s]"
     ]
    },
    {
     "name": "stdout",
     "output_type": "stream",
     "text": [
      "                   all         26        187      0.851        0.7      0.806      0.506\n"
     ]
    },
    {
     "name": "stderr",
     "output_type": "stream",
     "text": [
      "\n"
     ]
    },
    {
     "name": "stdout",
     "output_type": "stream",
     "text": [
      "\n",
      "      Epoch    GPU_mem   box_loss   cls_loss   dfl_loss  Instances       Size\n"
     ]
    },
    {
     "name": "stderr",
     "output_type": "stream",
     "text": [
      "      26/50      0.84G     0.9616     0.7296      1.061          2        416: 100%|██████████| 27/27 [00:01<00:00, 18.82it/s]\n",
      "                 Class     Images  Instances      Box(P          R      mAP50  mAP50-95): 100%|██████████| 2/2 [00:00<00:00, 17.52it/s]"
     ]
    },
    {
     "name": "stdout",
     "output_type": "stream",
     "text": [
      "                   all         26        187      0.839      0.752      0.829      0.511\n"
     ]
    },
    {
     "name": "stderr",
     "output_type": "stream",
     "text": [
      "\n"
     ]
    },
    {
     "name": "stdout",
     "output_type": "stream",
     "text": [
      "\n",
      "      Epoch    GPU_mem   box_loss   cls_loss   dfl_loss  Instances       Size\n"
     ]
    },
    {
     "name": "stderr",
     "output_type": "stream",
     "text": [
      "      27/50      0.84G     0.9797     0.7118      1.059         17        416: 100%|██████████| 27/27 [00:01<00:00, 18.48it/s]\n",
      "                 Class     Images  Instances      Box(P          R      mAP50  mAP50-95): 100%|██████████| 2/2 [00:00<00:00, 16.98it/s]"
     ]
    },
    {
     "name": "stdout",
     "output_type": "stream",
     "text": [
      "                   all         26        187      0.805      0.759      0.812      0.478\n"
     ]
    },
    {
     "name": "stderr",
     "output_type": "stream",
     "text": [
      "\n"
     ]
    },
    {
     "name": "stdout",
     "output_type": "stream",
     "text": [
      "\n",
      "      Epoch    GPU_mem   box_loss   cls_loss   dfl_loss  Instances       Size\n"
     ]
    },
    {
     "name": "stderr",
     "output_type": "stream",
     "text": [
      "      28/50      0.84G      0.937     0.6944      1.035          8        416: 100%|██████████| 27/27 [00:01<00:00, 18.87it/s]\n",
      "                 Class     Images  Instances      Box(P          R      mAP50  mAP50-95): 100%|██████████| 2/2 [00:00<00:00, 17.44it/s]"
     ]
    },
    {
     "name": "stdout",
     "output_type": "stream",
     "text": [
      "                   all         26        187      0.805      0.738      0.809      0.504\n"
     ]
    },
    {
     "name": "stderr",
     "output_type": "stream",
     "text": [
      "\n"
     ]
    },
    {
     "name": "stdout",
     "output_type": "stream",
     "text": [
      "\n",
      "      Epoch    GPU_mem   box_loss   cls_loss   dfl_loss  Instances       Size\n"
     ]
    },
    {
     "name": "stderr",
     "output_type": "stream",
     "text": [
      "      29/50      0.84G     0.9188     0.7026      1.051          5        416: 100%|██████████| 27/27 [00:01<00:00, 19.07it/s]\n",
      "                 Class     Images  Instances      Box(P          R      mAP50  mAP50-95): 100%|██████████| 2/2 [00:00<00:00, 18.43it/s]"
     ]
    },
    {
     "name": "stdout",
     "output_type": "stream",
     "text": [
      "                   all         26        187      0.862      0.749      0.848      0.502\n"
     ]
    },
    {
     "name": "stderr",
     "output_type": "stream",
     "text": [
      "\n"
     ]
    },
    {
     "name": "stdout",
     "output_type": "stream",
     "text": [
      "\n",
      "      Epoch    GPU_mem   box_loss   cls_loss   dfl_loss  Instances       Size\n"
     ]
    },
    {
     "name": "stderr",
     "output_type": "stream",
     "text": [
      "      30/50      0.84G     0.9252     0.7054      1.044         17        416: 100%|██████████| 27/27 [00:01<00:00, 18.82it/s]\n",
      "                 Class     Images  Instances      Box(P          R      mAP50  mAP50-95): 100%|██████████| 2/2 [00:00<00:00, 18.60it/s]"
     ]
    },
    {
     "name": "stdout",
     "output_type": "stream",
     "text": [
      "                   all         26        187       0.89      0.733      0.835      0.517\n"
     ]
    },
    {
     "name": "stderr",
     "output_type": "stream",
     "text": [
      "\n"
     ]
    },
    {
     "name": "stdout",
     "output_type": "stream",
     "text": [
      "\n",
      "      Epoch    GPU_mem   box_loss   cls_loss   dfl_loss  Instances       Size\n"
     ]
    },
    {
     "name": "stderr",
     "output_type": "stream",
     "text": [
      "      31/50      0.84G     0.8982     0.6863      1.028         33        416: 100%|██████████| 27/27 [00:01<00:00, 18.61it/s]\n",
      "                 Class     Images  Instances      Box(P          R      mAP50  mAP50-95): 100%|██████████| 2/2 [00:00<00:00, 17.69it/s]"
     ]
    },
    {
     "name": "stdout",
     "output_type": "stream",
     "text": [
      "                   all         26        187      0.865      0.755      0.843      0.499\n"
     ]
    },
    {
     "name": "stderr",
     "output_type": "stream",
     "text": [
      "\n"
     ]
    },
    {
     "name": "stdout",
     "output_type": "stream",
     "text": [
      "\n",
      "      Epoch    GPU_mem   box_loss   cls_loss   dfl_loss  Instances       Size\n"
     ]
    },
    {
     "name": "stderr",
     "output_type": "stream",
     "text": [
      "      32/50      0.84G     0.9179     0.6719      1.039          9        416: 100%|██████████| 27/27 [00:01<00:00, 19.04it/s]\n",
      "                 Class     Images  Instances      Box(P          R      mAP50  mAP50-95): 100%|██████████| 2/2 [00:00<00:00, 18.14it/s]"
     ]
    },
    {
     "name": "stdout",
     "output_type": "stream",
     "text": [
      "                   all         26        187      0.836       0.77      0.826      0.515\n"
     ]
    },
    {
     "name": "stderr",
     "output_type": "stream",
     "text": [
      "\n"
     ]
    },
    {
     "name": "stdout",
     "output_type": "stream",
     "text": [
      "\n",
      "      Epoch    GPU_mem   box_loss   cls_loss   dfl_loss  Instances       Size\n"
     ]
    },
    {
     "name": "stderr",
     "output_type": "stream",
     "text": [
      "      33/50      0.84G       0.88     0.6998      1.025          2        416: 100%|██████████| 27/27 [00:01<00:00, 18.19it/s]\n",
      "                 Class     Images  Instances      Box(P          R      mAP50  mAP50-95): 100%|██████████| 2/2 [00:00<00:00, 17.21it/s]"
     ]
    },
    {
     "name": "stdout",
     "output_type": "stream",
     "text": [
      "                   all         26        187      0.814      0.797      0.846      0.503\n"
     ]
    },
    {
     "name": "stderr",
     "output_type": "stream",
     "text": [
      "\n"
     ]
    },
    {
     "name": "stdout",
     "output_type": "stream",
     "text": [
      "\n",
      "      Epoch    GPU_mem   box_loss   cls_loss   dfl_loss  Instances       Size\n"
     ]
    },
    {
     "name": "stderr",
     "output_type": "stream",
     "text": [
      "      34/50      0.84G     0.8628     0.6432      1.004         15        416: 100%|██████████| 27/27 [00:01<00:00, 18.33it/s]\n",
      "                 Class     Images  Instances      Box(P          R      mAP50  mAP50-95): 100%|██████████| 2/2 [00:00<00:00, 17.66it/s]"
     ]
    },
    {
     "name": "stdout",
     "output_type": "stream",
     "text": [
      "                   all         26        187      0.898      0.802      0.864      0.524\n"
     ]
    },
    {
     "name": "stderr",
     "output_type": "stream",
     "text": [
      "\n"
     ]
    },
    {
     "name": "stdout",
     "output_type": "stream",
     "text": [
      "\n",
      "      Epoch    GPU_mem   box_loss   cls_loss   dfl_loss  Instances       Size\n"
     ]
    },
    {
     "name": "stderr",
     "output_type": "stream",
     "text": [
      "      35/50      0.84G     0.8871     0.6438      1.021          8        416: 100%|██████████| 27/27 [00:01<00:00, 18.56it/s]\n",
      "                 Class     Images  Instances      Box(P          R      mAP50  mAP50-95): 100%|██████████| 2/2 [00:00<00:00, 16.60it/s]"
     ]
    },
    {
     "name": "stdout",
     "output_type": "stream",
     "text": [
      "                   all         26        187      0.903      0.775      0.862       0.53\n"
     ]
    },
    {
     "name": "stderr",
     "output_type": "stream",
     "text": [
      "\n"
     ]
    },
    {
     "name": "stdout",
     "output_type": "stream",
     "text": [
      "\n",
      "      Epoch    GPU_mem   box_loss   cls_loss   dfl_loss  Instances       Size\n"
     ]
    },
    {
     "name": "stderr",
     "output_type": "stream",
     "text": [
      "      36/50      0.84G     0.9129     0.6564      1.019         21        416: 100%|██████████| 27/27 [00:01<00:00, 18.41it/s]\n",
      "                 Class     Images  Instances      Box(P          R      mAP50  mAP50-95): 100%|██████████| 2/2 [00:00<00:00, 17.99it/s]"
     ]
    },
    {
     "name": "stdout",
     "output_type": "stream",
     "text": [
      "                   all         26        187      0.911      0.759      0.856      0.528\n"
     ]
    },
    {
     "name": "stderr",
     "output_type": "stream",
     "text": [
      "\n"
     ]
    },
    {
     "name": "stdout",
     "output_type": "stream",
     "text": [
      "\n",
      "      Epoch    GPU_mem   box_loss   cls_loss   dfl_loss  Instances       Size\n"
     ]
    },
    {
     "name": "stderr",
     "output_type": "stream",
     "text": [
      "      37/50      0.84G     0.8979     0.6569      1.032         16        416: 100%|██████████| 27/27 [00:01<00:00, 18.11it/s]\n",
      "                 Class     Images  Instances      Box(P          R      mAP50  mAP50-95): 100%|██████████| 2/2 [00:00<00:00, 17.63it/s]"
     ]
    },
    {
     "name": "stdout",
     "output_type": "stream",
     "text": [
      "                   all         26        187      0.902      0.759      0.861      0.546\n"
     ]
    },
    {
     "name": "stderr",
     "output_type": "stream",
     "text": [
      "\n"
     ]
    },
    {
     "name": "stdout",
     "output_type": "stream",
     "text": [
      "\n",
      "      Epoch    GPU_mem   box_loss   cls_loss   dfl_loss  Instances       Size\n"
     ]
    },
    {
     "name": "stderr",
     "output_type": "stream",
     "text": [
      "      38/50      0.84G     0.8769     0.6391      1.012         34        416: 100%|██████████| 27/27 [00:01<00:00, 18.51it/s]\n",
      "                 Class     Images  Instances      Box(P          R      mAP50  mAP50-95): 100%|██████████| 2/2 [00:00<00:00, 17.38it/s]"
     ]
    },
    {
     "name": "stdout",
     "output_type": "stream",
     "text": [
      "                   all         26        187      0.888       0.77      0.868      0.538\n"
     ]
    },
    {
     "name": "stderr",
     "output_type": "stream",
     "text": [
      "\n"
     ]
    },
    {
     "name": "stdout",
     "output_type": "stream",
     "text": [
      "\n",
      "      Epoch    GPU_mem   box_loss   cls_loss   dfl_loss  Instances       Size\n"
     ]
    },
    {
     "name": "stderr",
     "output_type": "stream",
     "text": [
      "      39/50      0.84G     0.8584     0.6203      1.015          6        416: 100%|██████████| 27/27 [00:01<00:00, 18.53it/s]\n",
      "                 Class     Images  Instances      Box(P          R      mAP50  mAP50-95): 100%|██████████| 2/2 [00:00<00:00, 17.42it/s]"
     ]
    },
    {
     "name": "stdout",
     "output_type": "stream",
     "text": [
      "                   all         26        187      0.909      0.744      0.862      0.542\n"
     ]
    },
    {
     "name": "stderr",
     "output_type": "stream",
     "text": [
      "\n"
     ]
    },
    {
     "name": "stdout",
     "output_type": "stream",
     "text": [
      "\n",
      "      Epoch    GPU_mem   box_loss   cls_loss   dfl_loss  Instances       Size\n"
     ]
    },
    {
     "name": "stderr",
     "output_type": "stream",
     "text": [
      "      40/50      0.84G      0.828     0.5827     0.9818         25        416: 100%|██████████| 27/27 [00:01<00:00, 18.78it/s]\n",
      "                 Class     Images  Instances      Box(P          R      mAP50  mAP50-95): 100%|██████████| 2/2 [00:00<00:00, 17.81it/s]"
     ]
    },
    {
     "name": "stdout",
     "output_type": "stream",
     "text": [
      "                   all         26        187       0.92      0.754      0.871      0.538\n"
     ]
    },
    {
     "name": "stderr",
     "output_type": "stream",
     "text": [
      "\n"
     ]
    },
    {
     "name": "stdout",
     "output_type": "stream",
     "text": [
      "Closing dataloader mosaic\n",
      "\n",
      "      Epoch    GPU_mem   box_loss   cls_loss   dfl_loss  Instances       Size\n"
     ]
    },
    {
     "name": "stderr",
     "output_type": "stream",
     "text": [
      "      41/50      0.84G     0.7522      0.562     0.9336         10        416: 100%|██████████| 27/27 [00:01<00:00, 14.95it/s]\n",
      "                 Class     Images  Instances      Box(P          R      mAP50  mAP50-95): 100%|██████████| 2/2 [00:00<00:00, 16.90it/s]"
     ]
    },
    {
     "name": "stdout",
     "output_type": "stream",
     "text": [
      "                   all         26        187      0.906      0.727      0.856      0.536\n"
     ]
    },
    {
     "name": "stderr",
     "output_type": "stream",
     "text": [
      "\n"
     ]
    },
    {
     "name": "stdout",
     "output_type": "stream",
     "text": [
      "\n",
      "      Epoch    GPU_mem   box_loss   cls_loss   dfl_loss  Instances       Size\n"
     ]
    },
    {
     "name": "stderr",
     "output_type": "stream",
     "text": [
      "      42/50      0.84G     0.7601     0.5486     0.9368          6        416: 100%|██████████| 27/27 [00:01<00:00, 18.05it/s]\n",
      "                 Class     Images  Instances      Box(P          R      mAP50  mAP50-95): 100%|██████████| 2/2 [00:00<00:00, 15.36it/s]"
     ]
    },
    {
     "name": "stdout",
     "output_type": "stream",
     "text": [
      "                   all         26        187      0.894      0.722       0.84      0.535\n"
     ]
    },
    {
     "name": "stderr",
     "output_type": "stream",
     "text": [
      "\n"
     ]
    },
    {
     "name": "stdout",
     "output_type": "stream",
     "text": [
      "\n",
      "      Epoch    GPU_mem   box_loss   cls_loss   dfl_loss  Instances       Size\n"
     ]
    },
    {
     "name": "stderr",
     "output_type": "stream",
     "text": [
      "      43/50      0.84G       0.76     0.5347     0.9515         21        416: 100%|██████████| 27/27 [00:01<00:00, 18.83it/s]\n",
      "                 Class     Images  Instances      Box(P          R      mAP50  mAP50-95): 100%|██████████| 2/2 [00:00<00:00, 16.47it/s]"
     ]
    },
    {
     "name": "stdout",
     "output_type": "stream",
     "text": [
      "                   all         26        187      0.903      0.738      0.842      0.524\n"
     ]
    },
    {
     "name": "stderr",
     "output_type": "stream",
     "text": [
      "\n"
     ]
    },
    {
     "name": "stdout",
     "output_type": "stream",
     "text": [
      "\n",
      "      Epoch    GPU_mem   box_loss   cls_loss   dfl_loss  Instances       Size\n"
     ]
    },
    {
     "name": "stderr",
     "output_type": "stream",
     "text": [
      "      44/50      0.84G     0.7567     0.5322     0.9444          7        416: 100%|██████████| 27/27 [00:01<00:00, 18.91it/s]\n",
      "                 Class     Images  Instances      Box(P          R      mAP50  mAP50-95): 100%|██████████| 2/2 [00:00<00:00, 17.08it/s]"
     ]
    },
    {
     "name": "stdout",
     "output_type": "stream",
     "text": [
      "                   all         26        187      0.913      0.725      0.848      0.549\n"
     ]
    },
    {
     "name": "stderr",
     "output_type": "stream",
     "text": [
      "\n"
     ]
    },
    {
     "name": "stdout",
     "output_type": "stream",
     "text": [
      "\n",
      "      Epoch    GPU_mem   box_loss   cls_loss   dfl_loss  Instances       Size\n"
     ]
    },
    {
     "name": "stderr",
     "output_type": "stream",
     "text": [
      "      45/50      0.84G     0.7395     0.5104     0.9126         10        416: 100%|██████████| 27/27 [00:01<00:00, 18.91it/s]\n",
      "                 Class     Images  Instances      Box(P          R      mAP50  mAP50-95): 100%|██████████| 2/2 [00:00<00:00, 17.95it/s]"
     ]
    },
    {
     "name": "stdout",
     "output_type": "stream",
     "text": [
      "                   all         26        187      0.901       0.73      0.844      0.545\n"
     ]
    },
    {
     "name": "stderr",
     "output_type": "stream",
     "text": [
      "\n"
     ]
    },
    {
     "name": "stdout",
     "output_type": "stream",
     "text": [
      "\n",
      "      Epoch    GPU_mem   box_loss   cls_loss   dfl_loss  Instances       Size\n"
     ]
    },
    {
     "name": "stderr",
     "output_type": "stream",
     "text": [
      "      46/50      0.84G     0.6814     0.4919     0.9157          2        416: 100%|██████████| 27/27 [00:01<00:00, 18.94it/s]\n",
      "                 Class     Images  Instances      Box(P          R      mAP50  mAP50-95): 100%|██████████| 2/2 [00:00<00:00, 18.14it/s]"
     ]
    },
    {
     "name": "stdout",
     "output_type": "stream",
     "text": [
      "                   all         26        187      0.896      0.765      0.867      0.548\n"
     ]
    },
    {
     "name": "stderr",
     "output_type": "stream",
     "text": [
      "\n"
     ]
    },
    {
     "name": "stdout",
     "output_type": "stream",
     "text": [
      "\n",
      "      Epoch    GPU_mem   box_loss   cls_loss   dfl_loss  Instances       Size\n"
     ]
    },
    {
     "name": "stderr",
     "output_type": "stream",
     "text": [
      "      47/50      0.84G     0.7149     0.4961     0.9228          6        416: 100%|██████████| 27/27 [00:01<00:00, 18.74it/s]\n",
      "                 Class     Images  Instances      Box(P          R      mAP50  mAP50-95): 100%|██████████| 2/2 [00:00<00:00, 18.15it/s]"
     ]
    },
    {
     "name": "stdout",
     "output_type": "stream",
     "text": [
      "                   all         26        187      0.854      0.807      0.871      0.551\n"
     ]
    },
    {
     "name": "stderr",
     "output_type": "stream",
     "text": [
      "\n"
     ]
    },
    {
     "name": "stdout",
     "output_type": "stream",
     "text": [
      "\n",
      "      Epoch    GPU_mem   box_loss   cls_loss   dfl_loss  Instances       Size\n"
     ]
    },
    {
     "name": "stderr",
     "output_type": "stream",
     "text": [
      "      48/50      0.84G     0.7336     0.4995      0.923          2        416: 100%|██████████| 27/27 [00:01<00:00, 19.09it/s]\n",
      "                 Class     Images  Instances      Box(P          R      mAP50  mAP50-95): 100%|██████████| 2/2 [00:00<00:00, 18.18it/s]"
     ]
    },
    {
     "name": "stdout",
     "output_type": "stream",
     "text": [
      "                   all         26        187      0.857      0.799      0.869       0.55\n"
     ]
    },
    {
     "name": "stderr",
     "output_type": "stream",
     "text": [
      "\n"
     ]
    },
    {
     "name": "stdout",
     "output_type": "stream",
     "text": [
      "\n",
      "      Epoch    GPU_mem   box_loss   cls_loss   dfl_loss  Instances       Size\n"
     ]
    },
    {
     "name": "stderr",
     "output_type": "stream",
     "text": [
      "      49/50      0.84G     0.7009      0.485     0.8997          4        416: 100%|██████████| 27/27 [00:01<00:00, 18.38it/s]\n",
      "                 Class     Images  Instances      Box(P          R      mAP50  mAP50-95): 100%|██████████| 2/2 [00:00<00:00, 16.42it/s]"
     ]
    },
    {
     "name": "stdout",
     "output_type": "stream",
     "text": [
      "                   all         26        187      0.866      0.794      0.874      0.551\n"
     ]
    },
    {
     "name": "stderr",
     "output_type": "stream",
     "text": [
      "\n"
     ]
    },
    {
     "name": "stdout",
     "output_type": "stream",
     "text": [
      "\n",
      "      Epoch    GPU_mem   box_loss   cls_loss   dfl_loss  Instances       Size\n"
     ]
    },
    {
     "name": "stderr",
     "output_type": "stream",
     "text": [
      "      50/50      0.84G     0.7178     0.4867     0.9209         14        416: 100%|██████████| 27/27 [00:01<00:00, 18.52it/s]\n",
      "                 Class     Images  Instances      Box(P          R      mAP50  mAP50-95): 100%|██████████| 2/2 [00:00<00:00, 17.42it/s]"
     ]
    },
    {
     "name": "stdout",
     "output_type": "stream",
     "text": [
      "                   all         26        187      0.858      0.781      0.867      0.551\n"
     ]
    },
    {
     "name": "stderr",
     "output_type": "stream",
     "text": [
      "\n"
     ]
    },
    {
     "name": "stdout",
     "output_type": "stream",
     "text": [
      "\n",
      "50 epochs completed in 0.031 hours.\n",
      "Optimizer stripped from runs\\detect\\train16\\weights\\last.pt, 6.2MB\n",
      "Optimizer stripped from runs\\detect\\train16\\weights\\best.pt, 6.2MB\n",
      "\n",
      "Validating runs\\detect\\train16\\weights\\best.pt...\n",
      "Ultralytics 8.3.166  Python-3.10.11 torch-2.7.1+cu126 CUDA:0 (NVIDIA GeForce RTX 3060 Laptop GPU, 6144MiB)\n",
      "Model summary (fused): 72 layers, 3,005,843 parameters, 0 gradients, 8.1 GFLOPs\n"
     ]
    },
    {
     "name": "stderr",
     "output_type": "stream",
     "text": [
      "                 Class     Images  Instances      Box(P          R      mAP50  mAP50-95): 100%|██████████| 2/2 [00:00<00:00,  8.51it/s]\n"
     ]
    },
    {
     "name": "stdout",
     "output_type": "stream",
     "text": [
      "                   all         26        187      0.857      0.807      0.871      0.554\n",
      "Speed: 0.2ms preprocess, 1.0ms inference, 0.0ms loss, 1.0ms postprocess per image\n",
      "Results saved to \u001b[1mruns\\detect\\train16\u001b[0m\n"
     ]
    },
    {
     "data": {
      "text/plain": [
       "ultralytics.utils.metrics.DetMetrics object with attributes:\n",
       "\n",
       "ap_class_index: array([0])\n",
       "box: ultralytics.utils.metrics.Metric object\n",
       "confusion_matrix: <ultralytics.utils.metrics.ConfusionMatrix object at 0x00000124538931C0>\n",
       "curves: ['Precision-Recall(B)', 'F1-Confidence(B)', 'Precision-Confidence(B)', 'Recall-Confidence(B)']\n",
       "curves_results: [[array([          0,    0.001001,    0.002002,    0.003003,    0.004004,    0.005005,    0.006006,    0.007007,    0.008008,    0.009009,     0.01001,    0.011011,    0.012012,    0.013013,    0.014014,    0.015015,    0.016016,    0.017017,    0.018018,    0.019019,     0.02002,    0.021021,    0.022022,    0.023023,\n",
       "          0.024024,    0.025025,    0.026026,    0.027027,    0.028028,    0.029029,     0.03003,    0.031031,    0.032032,    0.033033,    0.034034,    0.035035,    0.036036,    0.037037,    0.038038,    0.039039,     0.04004,    0.041041,    0.042042,    0.043043,    0.044044,    0.045045,    0.046046,    0.047047,\n",
       "          0.048048,    0.049049,     0.05005,    0.051051,    0.052052,    0.053053,    0.054054,    0.055055,    0.056056,    0.057057,    0.058058,    0.059059,     0.06006,    0.061061,    0.062062,    0.063063,    0.064064,    0.065065,    0.066066,    0.067067,    0.068068,    0.069069,     0.07007,    0.071071,\n",
       "          0.072072,    0.073073,    0.074074,    0.075075,    0.076076,    0.077077,    0.078078,    0.079079,     0.08008,    0.081081,    0.082082,    0.083083,    0.084084,    0.085085,    0.086086,    0.087087,    0.088088,    0.089089,     0.09009,    0.091091,    0.092092,    0.093093,    0.094094,    0.095095,\n",
       "          0.096096,    0.097097,    0.098098,    0.099099,      0.1001,      0.1011,      0.1021,      0.1031,      0.1041,     0.10511,     0.10611,     0.10711,     0.10811,     0.10911,     0.11011,     0.11111,     0.11211,     0.11311,     0.11411,     0.11512,     0.11612,     0.11712,     0.11812,     0.11912,\n",
       "           0.12012,     0.12112,     0.12212,     0.12312,     0.12412,     0.12513,     0.12613,     0.12713,     0.12813,     0.12913,     0.13013,     0.13113,     0.13213,     0.13313,     0.13413,     0.13514,     0.13614,     0.13714,     0.13814,     0.13914,     0.14014,     0.14114,     0.14214,     0.14314,\n",
       "           0.14414,     0.14515,     0.14615,     0.14715,     0.14815,     0.14915,     0.15015,     0.15115,     0.15215,     0.15315,     0.15415,     0.15516,     0.15616,     0.15716,     0.15816,     0.15916,     0.16016,     0.16116,     0.16216,     0.16316,     0.16416,     0.16517,     0.16617,     0.16717,\n",
       "           0.16817,     0.16917,     0.17017,     0.17117,     0.17217,     0.17317,     0.17417,     0.17518,     0.17618,     0.17718,     0.17818,     0.17918,     0.18018,     0.18118,     0.18218,     0.18318,     0.18418,     0.18519,     0.18619,     0.18719,     0.18819,     0.18919,     0.19019,     0.19119,\n",
       "           0.19219,     0.19319,     0.19419,      0.1952,      0.1962,      0.1972,      0.1982,      0.1992,      0.2002,      0.2012,      0.2022,      0.2032,      0.2042,     0.20521,     0.20621,     0.20721,     0.20821,     0.20921,     0.21021,     0.21121,     0.21221,     0.21321,     0.21421,     0.21522,\n",
       "           0.21622,     0.21722,     0.21822,     0.21922,     0.22022,     0.22122,     0.22222,     0.22322,     0.22422,     0.22523,     0.22623,     0.22723,     0.22823,     0.22923,     0.23023,     0.23123,     0.23223,     0.23323,     0.23423,     0.23524,     0.23624,     0.23724,     0.23824,     0.23924,\n",
       "           0.24024,     0.24124,     0.24224,     0.24324,     0.24424,     0.24525,     0.24625,     0.24725,     0.24825,     0.24925,     0.25025,     0.25125,     0.25225,     0.25325,     0.25425,     0.25526,     0.25626,     0.25726,     0.25826,     0.25926,     0.26026,     0.26126,     0.26226,     0.26326,\n",
       "           0.26426,     0.26527,     0.26627,     0.26727,     0.26827,     0.26927,     0.27027,     0.27127,     0.27227,     0.27327,     0.27427,     0.27528,     0.27628,     0.27728,     0.27828,     0.27928,     0.28028,     0.28128,     0.28228,     0.28328,     0.28428,     0.28529,     0.28629,     0.28729,\n",
       "           0.28829,     0.28929,     0.29029,     0.29129,     0.29229,     0.29329,     0.29429,      0.2953,      0.2963,      0.2973,      0.2983,      0.2993,      0.3003,      0.3013,      0.3023,      0.3033,      0.3043,     0.30531,     0.30631,     0.30731,     0.30831,     0.30931,     0.31031,     0.31131,\n",
       "           0.31231,     0.31331,     0.31431,     0.31532,     0.31632,     0.31732,     0.31832,     0.31932,     0.32032,     0.32132,     0.32232,     0.32332,     0.32432,     0.32533,     0.32633,     0.32733,     0.32833,     0.32933,     0.33033,     0.33133,     0.33233,     0.33333,     0.33433,     0.33534,\n",
       "           0.33634,     0.33734,     0.33834,     0.33934,     0.34034,     0.34134,     0.34234,     0.34334,     0.34434,     0.34535,     0.34635,     0.34735,     0.34835,     0.34935,     0.35035,     0.35135,     0.35235,     0.35335,     0.35435,     0.35536,     0.35636,     0.35736,     0.35836,     0.35936,\n",
       "           0.36036,     0.36136,     0.36236,     0.36336,     0.36436,     0.36537,     0.36637,     0.36737,     0.36837,     0.36937,     0.37037,     0.37137,     0.37237,     0.37337,     0.37437,     0.37538,     0.37638,     0.37738,     0.37838,     0.37938,     0.38038,     0.38138,     0.38238,     0.38338,\n",
       "           0.38438,     0.38539,     0.38639,     0.38739,     0.38839,     0.38939,     0.39039,     0.39139,     0.39239,     0.39339,     0.39439,      0.3954,      0.3964,      0.3974,      0.3984,      0.3994,      0.4004,      0.4014,      0.4024,      0.4034,      0.4044,     0.40541,     0.40641,     0.40741,\n",
       "           0.40841,     0.40941,     0.41041,     0.41141,     0.41241,     0.41341,     0.41441,     0.41542,     0.41642,     0.41742,     0.41842,     0.41942,     0.42042,     0.42142,     0.42242,     0.42342,     0.42442,     0.42543,     0.42643,     0.42743,     0.42843,     0.42943,     0.43043,     0.43143,\n",
       "           0.43243,     0.43343,     0.43443,     0.43544,     0.43644,     0.43744,     0.43844,     0.43944,     0.44044,     0.44144,     0.44244,     0.44344,     0.44444,     0.44545,     0.44645,     0.44745,     0.44845,     0.44945,     0.45045,     0.45145,     0.45245,     0.45345,     0.45445,     0.45546,\n",
       "           0.45646,     0.45746,     0.45846,     0.45946,     0.46046,     0.46146,     0.46246,     0.46346,     0.46446,     0.46547,     0.46647,     0.46747,     0.46847,     0.46947,     0.47047,     0.47147,     0.47247,     0.47347,     0.47447,     0.47548,     0.47648,     0.47748,     0.47848,     0.47948,\n",
       "           0.48048,     0.48148,     0.48248,     0.48348,     0.48448,     0.48549,     0.48649,     0.48749,     0.48849,     0.48949,     0.49049,     0.49149,     0.49249,     0.49349,     0.49449,      0.4955,      0.4965,      0.4975,      0.4985,      0.4995,      0.5005,      0.5015,      0.5025,      0.5035,\n",
       "            0.5045,     0.50551,     0.50651,     0.50751,     0.50851,     0.50951,     0.51051,     0.51151,     0.51251,     0.51351,     0.51451,     0.51552,     0.51652,     0.51752,     0.51852,     0.51952,     0.52052,     0.52152,     0.52252,     0.52352,     0.52452,     0.52553,     0.52653,     0.52753,\n",
       "           0.52853,     0.52953,     0.53053,     0.53153,     0.53253,     0.53353,     0.53453,     0.53554,     0.53654,     0.53754,     0.53854,     0.53954,     0.54054,     0.54154,     0.54254,     0.54354,     0.54454,     0.54555,     0.54655,     0.54755,     0.54855,     0.54955,     0.55055,     0.55155,\n",
       "           0.55255,     0.55355,     0.55455,     0.55556,     0.55656,     0.55756,     0.55856,     0.55956,     0.56056,     0.56156,     0.56256,     0.56356,     0.56456,     0.56557,     0.56657,     0.56757,     0.56857,     0.56957,     0.57057,     0.57157,     0.57257,     0.57357,     0.57457,     0.57558,\n",
       "           0.57658,     0.57758,     0.57858,     0.57958,     0.58058,     0.58158,     0.58258,     0.58358,     0.58458,     0.58559,     0.58659,     0.58759,     0.58859,     0.58959,     0.59059,     0.59159,     0.59259,     0.59359,     0.59459,      0.5956,      0.5966,      0.5976,      0.5986,      0.5996,\n",
       "            0.6006,      0.6016,      0.6026,      0.6036,      0.6046,     0.60561,     0.60661,     0.60761,     0.60861,     0.60961,     0.61061,     0.61161,     0.61261,     0.61361,     0.61461,     0.61562,     0.61662,     0.61762,     0.61862,     0.61962,     0.62062,     0.62162,     0.62262,     0.62362,\n",
       "           0.62462,     0.62563,     0.62663,     0.62763,     0.62863,     0.62963,     0.63063,     0.63163,     0.63263,     0.63363,     0.63463,     0.63564,     0.63664,     0.63764,     0.63864,     0.63964,     0.64064,     0.64164,     0.64264,     0.64364,     0.64464,     0.64565,     0.64665,     0.64765,\n",
       "           0.64865,     0.64965,     0.65065,     0.65165,     0.65265,     0.65365,     0.65465,     0.65566,     0.65666,     0.65766,     0.65866,     0.65966,     0.66066,     0.66166,     0.66266,     0.66366,     0.66466,     0.66567,     0.66667,     0.66767,     0.66867,     0.66967,     0.67067,     0.67167,\n",
       "           0.67267,     0.67367,     0.67467,     0.67568,     0.67668,     0.67768,     0.67868,     0.67968,     0.68068,     0.68168,     0.68268,     0.68368,     0.68468,     0.68569,     0.68669,     0.68769,     0.68869,     0.68969,     0.69069,     0.69169,     0.69269,     0.69369,     0.69469,      0.6957,\n",
       "            0.6967,      0.6977,      0.6987,      0.6997,      0.7007,      0.7017,      0.7027,      0.7037,      0.7047,     0.70571,     0.70671,     0.70771,     0.70871,     0.70971,     0.71071,     0.71171,     0.71271,     0.71371,     0.71471,     0.71572,     0.71672,     0.71772,     0.71872,     0.71972,\n",
       "           0.72072,     0.72172,     0.72272,     0.72372,     0.72472,     0.72573,     0.72673,     0.72773,     0.72873,     0.72973,     0.73073,     0.73173,     0.73273,     0.73373,     0.73473,     0.73574,     0.73674,     0.73774,     0.73874,     0.73974,     0.74074,     0.74174,     0.74274,     0.74374,\n",
       "           0.74474,     0.74575,     0.74675,     0.74775,     0.74875,     0.74975,     0.75075,     0.75175,     0.75275,     0.75375,     0.75475,     0.75576,     0.75676,     0.75776,     0.75876,     0.75976,     0.76076,     0.76176,     0.76276,     0.76376,     0.76476,     0.76577,     0.76677,     0.76777,\n",
       "           0.76877,     0.76977,     0.77077,     0.77177,     0.77277,     0.77377,     0.77477,     0.77578,     0.77678,     0.77778,     0.77878,     0.77978,     0.78078,     0.78178,     0.78278,     0.78378,     0.78478,     0.78579,     0.78679,     0.78779,     0.78879,     0.78979,     0.79079,     0.79179,\n",
       "           0.79279,     0.79379,     0.79479,      0.7958,      0.7968,      0.7978,      0.7988,      0.7998,      0.8008,      0.8018,      0.8028,      0.8038,      0.8048,     0.80581,     0.80681,     0.80781,     0.80881,     0.80981,     0.81081,     0.81181,     0.81281,     0.81381,     0.81481,     0.81582,\n",
       "           0.81682,     0.81782,     0.81882,     0.81982,     0.82082,     0.82182,     0.82282,     0.82382,     0.82482,     0.82583,     0.82683,     0.82783,     0.82883,     0.82983,     0.83083,     0.83183,     0.83283,     0.83383,     0.83483,     0.83584,     0.83684,     0.83784,     0.83884,     0.83984,\n",
       "           0.84084,     0.84184,     0.84284,     0.84384,     0.84484,     0.84585,     0.84685,     0.84785,     0.84885,     0.84985,     0.85085,     0.85185,     0.85285,     0.85385,     0.85485,     0.85586,     0.85686,     0.85786,     0.85886,     0.85986,     0.86086,     0.86186,     0.86286,     0.86386,\n",
       "           0.86486,     0.86587,     0.86687,     0.86787,     0.86887,     0.86987,     0.87087,     0.87187,     0.87287,     0.87387,     0.87487,     0.87588,     0.87688,     0.87788,     0.87888,     0.87988,     0.88088,     0.88188,     0.88288,     0.88388,     0.88488,     0.88589,     0.88689,     0.88789,\n",
       "           0.88889,     0.88989,     0.89089,     0.89189,     0.89289,     0.89389,     0.89489,      0.8959,      0.8969,      0.8979,      0.8989,      0.8999,      0.9009,      0.9019,      0.9029,      0.9039,      0.9049,     0.90591,     0.90691,     0.90791,     0.90891,     0.90991,     0.91091,     0.91191,\n",
       "           0.91291,     0.91391,     0.91491,     0.91592,     0.91692,     0.91792,     0.91892,     0.91992,     0.92092,     0.92192,     0.92292,     0.92392,     0.92492,     0.92593,     0.92693,     0.92793,     0.92893,     0.92993,     0.93093,     0.93193,     0.93293,     0.93393,     0.93493,     0.93594,\n",
       "           0.93694,     0.93794,     0.93894,     0.93994,     0.94094,     0.94194,     0.94294,     0.94394,     0.94494,     0.94595,     0.94695,     0.94795,     0.94895,     0.94995,     0.95095,     0.95195,     0.95295,     0.95395,     0.95495,     0.95596,     0.95696,     0.95796,     0.95896,     0.95996,\n",
       "           0.96096,     0.96196,     0.96296,     0.96396,     0.96496,     0.96597,     0.96697,     0.96797,     0.96897,     0.96997,     0.97097,     0.97197,     0.97297,     0.97397,     0.97497,     0.97598,     0.97698,     0.97798,     0.97898,     0.97998,     0.98098,     0.98198,     0.98298,     0.98398,\n",
       "           0.98498,     0.98599,     0.98699,     0.98799,     0.98899,     0.98999,     0.99099,     0.99199,     0.99299,     0.99399,     0.99499,       0.996,       0.997,       0.998,       0.999,           1]), array([[          1,           1,           1,           1,           1,           1,           1,           1,           1,           1,           1,           1,           1,           1,           1,           1,           1,           1,           1,           1,           1,           1,           1,\n",
       "                  1,           1,           1,           1,           1,           1,           1,           1,           1,           1,           1,           1,           1,           1,           1,           1,           1,           1,           1,           1,           1,           1,           1,\n",
       "                  1,           1,           1,           1,           1,           1,           1,           1,           1,           1,           1,           1,           1,           1,           1,           1,           1,           1,           1,           1,           1,           1,           1,\n",
       "                  1,           1,           1,           1,           1,           1,           1,           1,           1,           1,           1,           1,           1,           1,           1,           1,           1,           1,           1,           1,           1,           1,           1,\n",
       "                  1,           1,           1,           1,           1,           1,           1,           1,           1,           1,           1,           1,           1,           1,           1,           1,           1,           1,           1,           1,           1,           1,           1,\n",
       "                  1,           1,           1,           1,           1,           1,           1,           1,           1,           1,           1,           1,           1,           1,           1,           1,           1,           1,           1,           1,           1,           1,           1,\n",
       "                  1,           1,           1,           1,           1,           1,           1,           1,           1,           1,           1,           1,           1,           1,           1,           1,           1,           1,           1,           1,           1,           1,           1,\n",
       "                  1,           1,           1,           1,           1,           1,           1,           1,           1,           1,           1,           1,           1,           1,           1,           1,           1,           1,           1,           1,           1,           1,           1,\n",
       "                  1,           1,           1,           1,           1,           1,           1,           1,           1,           1,           1,           1,           1,           1,           1,           1,           1,           1,           1,           1,           1,           1,           1,\n",
       "                  1,           1,           1,           1,           1,           1,           1,           1,           1,           1,           1,           1,           1,           1,           1,           1,           1,           1,           1,           1,           1,           1,           1,\n",
       "                  1,           1,           1,           1,           1,           1,           1,           1,           1,           1,           1,           1,           1,           1,           1,           1,           1,           1,           1,           1,           1,           1,           1,\n",
       "                  1,           1,           1,           1,           1,           1,           1,           1,           1,           1,           1,           1,           1,           1,           1,           1,           1,           1,           1,           1,           1,           1,           1,\n",
       "                  1,           1,           1,           1,           1,           1,           1,           1,           1,           1,           1,           1,           1,           1,           1,           1,           1,           1,           1,           1,           1,           1,           1,\n",
       "                  1,           1,           1,           1,           1,           1,           1,           1,           1,           1,           1,           1,           1,           1,           1,           1,           1,           1,           1,           1,           1,           1,           1,\n",
       "                  1,           1,           1,           1,           1,           1,           1,           1,           1,           1,           1,           1,           1,           1,           1,           1,           1,           1,           1,           1,           1,           1,           1,\n",
       "                  1,           1,           1,           1,           1,           1,           1,           1,           1,           1,           1,           1,           1,     0.99065,     0.99065,     0.99065,     0.99065,     0.99065,     0.99065,     0.99065,     0.99065,     0.99065,     0.99065,\n",
       "            0.99065,     0.99065,     0.99065,     0.99065,     0.99065,     0.99065,     0.99065,     0.99065,     0.99065,     0.99065,     0.99065,     0.99065,     0.99065,     0.99065,     0.99065,     0.99065,     0.99065,     0.99065,     0.99065,     0.99065,     0.99065,     0.99065,     0.99065,\n",
       "            0.99065,     0.99065,     0.99065,     0.99065,     0.99065,     0.99065,     0.99065,     0.99065,     0.99065,     0.99065,     0.99065,     0.99065,     0.99065,     0.99065,     0.99065,     0.99065,     0.99065,     0.99065,     0.99065,     0.99065,     0.99065,     0.99065,     0.99065,\n",
       "            0.99065,     0.99065,     0.99065,     0.99065,     0.99065,     0.99065,     0.99065,     0.99065,     0.99065,     0.99065,     0.99065,     0.99065,     0.99065,     0.99065,     0.99065,     0.99065,     0.99065,     0.99065,     0.99065,     0.99065,     0.99065,     0.99065,     0.99065,\n",
       "            0.99065,     0.99065,     0.99065,     0.99065,     0.99065,     0.99065,     0.99065,     0.99065,     0.99065,     0.99065,     0.99065,     0.99065,     0.99065,     0.99065,     0.99065,     0.99065,     0.99065,     0.99065,     0.99065,     0.99065,     0.99065,     0.99065,     0.99065,\n",
       "            0.99065,     0.99065,     0.99065,     0.99065,     0.99065,     0.99065,     0.99065,     0.99065,     0.99065,     0.99065,     0.99065,     0.99065,     0.99065,     0.99065,     0.99065,     0.99065,     0.99065,     0.99065,     0.99065,     0.99065,     0.99065,     0.99065,     0.99065,\n",
       "            0.99065,     0.99065,     0.99065,     0.99065,     0.99065,     0.99065,     0.99065,     0.99065,     0.99065,     0.99065,     0.99065,     0.99065,     0.99065,     0.99065,     0.99065,     0.99065,     0.99065,     0.99065,     0.99065,     0.99065,     0.99065,     0.99065,     0.99065,\n",
       "            0.99065,     0.99065,     0.99065,     0.99065,     0.99065,     0.99065,     0.99065,     0.99065,     0.99065,     0.99065,     0.99065,     0.99065,     0.99065,     0.99065,     0.99065,     0.99065,     0.99065,     0.99065,     0.99065,     0.99065,     0.99065,     0.99065,     0.99065,\n",
       "            0.99065,     0.99065,     0.99065,     0.99065,     0.99065,     0.99065,     0.99065,     0.99065,     0.99065,     0.99065,     0.99065,     0.99065,     0.99065,     0.99065,     0.99065,     0.99065,     0.99065,     0.99065,     0.99065,     0.99065,     0.99065,     0.99065,     0.99065,\n",
       "            0.99065,     0.99065,     0.99065,     0.99065,     0.99065,     0.99065,     0.99065,     0.99065,     0.99065,     0.99065,     0.99065,     0.99065,     0.99065,     0.99065,     0.99065,     0.98198,     0.98198,     0.98198,     0.98198,     0.98198,     0.98198,     0.98198,     0.98198,\n",
       "            0.98198,     0.98198,     0.98198,     0.98198,     0.98198,     0.98198,     0.98198,     0.98198,     0.97674,     0.97674,     0.97674,     0.97674,     0.97674,     0.97674,     0.97674,     0.97674,     0.97674,     0.97674,     0.97674,     0.97674,     0.97674,     0.97674,     0.97674,\n",
       "            0.97674,     0.97674,     0.97674,     0.97674,     0.97674,     0.97674,     0.97674,     0.97674,     0.97674,     0.97674,     0.97674,     0.97674,     0.97674,     0.97674,     0.97674,     0.97674,     0.97674,     0.97674,     0.97674,     0.97674,     0.97674,     0.97674,     0.97674,\n",
       "            0.97674,     0.97674,     0.97674,     0.97674,     0.97674,     0.97674,     0.97674,     0.97674,     0.97674,     0.97674,     0.97674,     0.97674,     0.97674,     0.97674,     0.97674,     0.97674,     0.97674,     0.97674,     0.97674,     0.97674,     0.97674,     0.97674,     0.97674,\n",
       "            0.97674,     0.97674,     0.97674,     0.97674,     0.97674,     0.97674,     0.97674,     0.97674,     0.97674,     0.97674,     0.97674,     0.97674,     0.97674,     0.97674,     0.97674,     0.97674,     0.97674,     0.97674,     0.97674,     0.97674,     0.97674,     0.97674,     0.97674,\n",
       "            0.97674,     0.97674,     0.97674,     0.97674,     0.97674,     0.97674,     0.97674,     0.96947,     0.96947,     0.96947,     0.96947,     0.96947,     0.96269,     0.96269,     0.96269,     0.96269,     0.96269,     0.96269,     0.96269,     0.96269,     0.96269,     0.96269,     0.96269,\n",
       "             0.9562,      0.9562,      0.9562,      0.9562,      0.9562,      0.9562,      0.9562,      0.9562,      0.9562,      0.9562,     0.95035,     0.95035,     0.95035,     0.95035,     0.95035,     0.95035,     0.95035,     0.95035,     0.95035,     0.95035,     0.95035,     0.95035,     0.95035,\n",
       "            0.95035,     0.95035,     0.95035,     0.93103,     0.93103,     0.93103,     0.93103,     0.93103,     0.93103,     0.91892,     0.91892,     0.91892,     0.91892,     0.91892,     0.91447,     0.91447,     0.91447,     0.91447,     0.91447,     0.91447,     0.91447,     0.91447,     0.91447,\n",
       "            0.91447,     0.91447,     0.91447,     0.91447,     0.91447,     0.91447,     0.91447,     0.90909,     0.90909,     0.90909,     0.90909,     0.90909,     0.89873,     0.89873,     0.89873,     0.89873,     0.89873,     0.89873,     0.89873,     0.89873,     0.89873,     0.89873,     0.89873,\n",
       "            0.89571,     0.89571,     0.89571,     0.89571,     0.89571,     0.89571,     0.89571,     0.89571,     0.89571,     0.89571,     0.89571,     0.89571,     0.89571,     0.89571,     0.89571,     0.89571,     0.89571,     0.89571,     0.89571,     0.89571,     0.89571,       0.875,       0.875,\n",
       "              0.875,       0.875,       0.875,       0.875,      0.8655,      0.8655,      0.8655,      0.8655,      0.8655,     0.86207,     0.86207,     0.86207,     0.86207,     0.86207,     0.86207,     0.86207,     0.86207,     0.86207,     0.86207,     0.86207,     0.85795,     0.85795,     0.85795,\n",
       "            0.85795,     0.85795,     0.83978,     0.83978,     0.83978,     0.83978,     0.83978,     0.83978,     0.82796,     0.82796,     0.82796,     0.82796,     0.82796,     0.82796,     0.82796,     0.82796,     0.82796,     0.82796,     0.76733,     0.76733,     0.76733,     0.76733,     0.76733,\n",
       "            0.76733,     0.75728,     0.75728,     0.75728,     0.75728,     0.75728,     0.71493,     0.71493,     0.71493,     0.71493,     0.71493,     0.71493,     0.71493,     0.71493,     0.71493,     0.71493,     0.71493,     0.70175,     0.70175,     0.70175,     0.70175,     0.70175,     0.70175,\n",
       "            0.70175,     0.70175,     0.70175,     0.70175,     0.68511,     0.68511,     0.68511,     0.68511,     0.68511,     0.68511,     0.66393,     0.66393,     0.66393,     0.66393,     0.66393,       0.652,       0.652,       0.652,       0.652,       0.652,      0.6332,      0.6332,      0.6332,\n",
       "             0.6332,      0.6332,      0.6332,      0.6194,      0.6194,      0.6194,      0.6194,      0.6194,      0.6194,      0.6194,      0.6194,      0.6194,      0.6194,     0.58803,     0.58803,     0.58803,     0.58803,     0.58803,     0.58803,     0.58741,     0.58741,     0.58741,     0.58741,\n",
       "            0.58741,     0.58276,     0.58276,     0.58276,     0.58276,     0.58276,     0.45455,     0.45455,     0.45455,     0.45455,     0.45455,     0.45455,        0.45,        0.45,        0.45,        0.45,        0.45,     0.33269,     0.33269,     0.33269,     0.33269,     0.33269,      0.3258,\n",
       "             0.3258,      0.3258,      0.3258,      0.3258,      0.3258,     0.30796,     0.30796,     0.30796,     0.30796,     0.30796,    0.035317,    0.034805,    0.034293,    0.033781,    0.033269,    0.032757,    0.032246,    0.031734,    0.031222,     0.03071,    0.030198,    0.029686,    0.029175,\n",
       "           0.028663,    0.028151,    0.027639,    0.027127,    0.026615,    0.026104,    0.025592,     0.02508,    0.024568,    0.024056,    0.023544,    0.023033,    0.022521,    0.022009,    0.021497,    0.020985,    0.020473,    0.019962,     0.01945,    0.018938,    0.018426,    0.017914,    0.017402,\n",
       "           0.016891,    0.016379,    0.015867,    0.015355,    0.014843,    0.014331,     0.01382,    0.013308,    0.012796,    0.012284,    0.011772,     0.01126,    0.010749,    0.010237,   0.0097249,    0.009213,   0.0087012,   0.0081893,   0.0076775,   0.0071657,   0.0066538,    0.006142,   0.0056302,\n",
       "          0.0051183,   0.0046065,   0.0040947,   0.0035828,    0.003071,   0.0025592,   0.0020473,   0.0015355,   0.0010237,  0.00051183,           0]]), 'Recall', 'Precision'], [array([          0,    0.001001,    0.002002,    0.003003,    0.004004,    0.005005,    0.006006,    0.007007,    0.008008,    0.009009,     0.01001,    0.011011,    0.012012,    0.013013,    0.014014,    0.015015,    0.016016,    0.017017,    0.018018,    0.019019,     0.02002,    0.021021,    0.022022,    0.023023,\n",
       "          0.024024,    0.025025,    0.026026,    0.027027,    0.028028,    0.029029,     0.03003,    0.031031,    0.032032,    0.033033,    0.034034,    0.035035,    0.036036,    0.037037,    0.038038,    0.039039,     0.04004,    0.041041,    0.042042,    0.043043,    0.044044,    0.045045,    0.046046,    0.047047,\n",
       "          0.048048,    0.049049,     0.05005,    0.051051,    0.052052,    0.053053,    0.054054,    0.055055,    0.056056,    0.057057,    0.058058,    0.059059,     0.06006,    0.061061,    0.062062,    0.063063,    0.064064,    0.065065,    0.066066,    0.067067,    0.068068,    0.069069,     0.07007,    0.071071,\n",
       "          0.072072,    0.073073,    0.074074,    0.075075,    0.076076,    0.077077,    0.078078,    0.079079,     0.08008,    0.081081,    0.082082,    0.083083,    0.084084,    0.085085,    0.086086,    0.087087,    0.088088,    0.089089,     0.09009,    0.091091,    0.092092,    0.093093,    0.094094,    0.095095,\n",
       "          0.096096,    0.097097,    0.098098,    0.099099,      0.1001,      0.1011,      0.1021,      0.1031,      0.1041,     0.10511,     0.10611,     0.10711,     0.10811,     0.10911,     0.11011,     0.11111,     0.11211,     0.11311,     0.11411,     0.11512,     0.11612,     0.11712,     0.11812,     0.11912,\n",
       "           0.12012,     0.12112,     0.12212,     0.12312,     0.12412,     0.12513,     0.12613,     0.12713,     0.12813,     0.12913,     0.13013,     0.13113,     0.13213,     0.13313,     0.13413,     0.13514,     0.13614,     0.13714,     0.13814,     0.13914,     0.14014,     0.14114,     0.14214,     0.14314,\n",
       "           0.14414,     0.14515,     0.14615,     0.14715,     0.14815,     0.14915,     0.15015,     0.15115,     0.15215,     0.15315,     0.15415,     0.15516,     0.15616,     0.15716,     0.15816,     0.15916,     0.16016,     0.16116,     0.16216,     0.16316,     0.16416,     0.16517,     0.16617,     0.16717,\n",
       "           0.16817,     0.16917,     0.17017,     0.17117,     0.17217,     0.17317,     0.17417,     0.17518,     0.17618,     0.17718,     0.17818,     0.17918,     0.18018,     0.18118,     0.18218,     0.18318,     0.18418,     0.18519,     0.18619,     0.18719,     0.18819,     0.18919,     0.19019,     0.19119,\n",
       "           0.19219,     0.19319,     0.19419,      0.1952,      0.1962,      0.1972,      0.1982,      0.1992,      0.2002,      0.2012,      0.2022,      0.2032,      0.2042,     0.20521,     0.20621,     0.20721,     0.20821,     0.20921,     0.21021,     0.21121,     0.21221,     0.21321,     0.21421,     0.21522,\n",
       "           0.21622,     0.21722,     0.21822,     0.21922,     0.22022,     0.22122,     0.22222,     0.22322,     0.22422,     0.22523,     0.22623,     0.22723,     0.22823,     0.22923,     0.23023,     0.23123,     0.23223,     0.23323,     0.23423,     0.23524,     0.23624,     0.23724,     0.23824,     0.23924,\n",
       "           0.24024,     0.24124,     0.24224,     0.24324,     0.24424,     0.24525,     0.24625,     0.24725,     0.24825,     0.24925,     0.25025,     0.25125,     0.25225,     0.25325,     0.25425,     0.25526,     0.25626,     0.25726,     0.25826,     0.25926,     0.26026,     0.26126,     0.26226,     0.26326,\n",
       "           0.26426,     0.26527,     0.26627,     0.26727,     0.26827,     0.26927,     0.27027,     0.27127,     0.27227,     0.27327,     0.27427,     0.27528,     0.27628,     0.27728,     0.27828,     0.27928,     0.28028,     0.28128,     0.28228,     0.28328,     0.28428,     0.28529,     0.28629,     0.28729,\n",
       "           0.28829,     0.28929,     0.29029,     0.29129,     0.29229,     0.29329,     0.29429,      0.2953,      0.2963,      0.2973,      0.2983,      0.2993,      0.3003,      0.3013,      0.3023,      0.3033,      0.3043,     0.30531,     0.30631,     0.30731,     0.30831,     0.30931,     0.31031,     0.31131,\n",
       "           0.31231,     0.31331,     0.31431,     0.31532,     0.31632,     0.31732,     0.31832,     0.31932,     0.32032,     0.32132,     0.32232,     0.32332,     0.32432,     0.32533,     0.32633,     0.32733,     0.32833,     0.32933,     0.33033,     0.33133,     0.33233,     0.33333,     0.33433,     0.33534,\n",
       "           0.33634,     0.33734,     0.33834,     0.33934,     0.34034,     0.34134,     0.34234,     0.34334,     0.34434,     0.34535,     0.34635,     0.34735,     0.34835,     0.34935,     0.35035,     0.35135,     0.35235,     0.35335,     0.35435,     0.35536,     0.35636,     0.35736,     0.35836,     0.35936,\n",
       "           0.36036,     0.36136,     0.36236,     0.36336,     0.36436,     0.36537,     0.36637,     0.36737,     0.36837,     0.36937,     0.37037,     0.37137,     0.37237,     0.37337,     0.37437,     0.37538,     0.37638,     0.37738,     0.37838,     0.37938,     0.38038,     0.38138,     0.38238,     0.38338,\n",
       "           0.38438,     0.38539,     0.38639,     0.38739,     0.38839,     0.38939,     0.39039,     0.39139,     0.39239,     0.39339,     0.39439,      0.3954,      0.3964,      0.3974,      0.3984,      0.3994,      0.4004,      0.4014,      0.4024,      0.4034,      0.4044,     0.40541,     0.40641,     0.40741,\n",
       "           0.40841,     0.40941,     0.41041,     0.41141,     0.41241,     0.41341,     0.41441,     0.41542,     0.41642,     0.41742,     0.41842,     0.41942,     0.42042,     0.42142,     0.42242,     0.42342,     0.42442,     0.42543,     0.42643,     0.42743,     0.42843,     0.42943,     0.43043,     0.43143,\n",
       "           0.43243,     0.43343,     0.43443,     0.43544,     0.43644,     0.43744,     0.43844,     0.43944,     0.44044,     0.44144,     0.44244,     0.44344,     0.44444,     0.44545,     0.44645,     0.44745,     0.44845,     0.44945,     0.45045,     0.45145,     0.45245,     0.45345,     0.45445,     0.45546,\n",
       "           0.45646,     0.45746,     0.45846,     0.45946,     0.46046,     0.46146,     0.46246,     0.46346,     0.46446,     0.46547,     0.46647,     0.46747,     0.46847,     0.46947,     0.47047,     0.47147,     0.47247,     0.47347,     0.47447,     0.47548,     0.47648,     0.47748,     0.47848,     0.47948,\n",
       "           0.48048,     0.48148,     0.48248,     0.48348,     0.48448,     0.48549,     0.48649,     0.48749,     0.48849,     0.48949,     0.49049,     0.49149,     0.49249,     0.49349,     0.49449,      0.4955,      0.4965,      0.4975,      0.4985,      0.4995,      0.5005,      0.5015,      0.5025,      0.5035,\n",
       "            0.5045,     0.50551,     0.50651,     0.50751,     0.50851,     0.50951,     0.51051,     0.51151,     0.51251,     0.51351,     0.51451,     0.51552,     0.51652,     0.51752,     0.51852,     0.51952,     0.52052,     0.52152,     0.52252,     0.52352,     0.52452,     0.52553,     0.52653,     0.52753,\n",
       "           0.52853,     0.52953,     0.53053,     0.53153,     0.53253,     0.53353,     0.53453,     0.53554,     0.53654,     0.53754,     0.53854,     0.53954,     0.54054,     0.54154,     0.54254,     0.54354,     0.54454,     0.54555,     0.54655,     0.54755,     0.54855,     0.54955,     0.55055,     0.55155,\n",
       "           0.55255,     0.55355,     0.55455,     0.55556,     0.55656,     0.55756,     0.55856,     0.55956,     0.56056,     0.56156,     0.56256,     0.56356,     0.56456,     0.56557,     0.56657,     0.56757,     0.56857,     0.56957,     0.57057,     0.57157,     0.57257,     0.57357,     0.57457,     0.57558,\n",
       "           0.57658,     0.57758,     0.57858,     0.57958,     0.58058,     0.58158,     0.58258,     0.58358,     0.58458,     0.58559,     0.58659,     0.58759,     0.58859,     0.58959,     0.59059,     0.59159,     0.59259,     0.59359,     0.59459,      0.5956,      0.5966,      0.5976,      0.5986,      0.5996,\n",
       "            0.6006,      0.6016,      0.6026,      0.6036,      0.6046,     0.60561,     0.60661,     0.60761,     0.60861,     0.60961,     0.61061,     0.61161,     0.61261,     0.61361,     0.61461,     0.61562,     0.61662,     0.61762,     0.61862,     0.61962,     0.62062,     0.62162,     0.62262,     0.62362,\n",
       "           0.62462,     0.62563,     0.62663,     0.62763,     0.62863,     0.62963,     0.63063,     0.63163,     0.63263,     0.63363,     0.63463,     0.63564,     0.63664,     0.63764,     0.63864,     0.63964,     0.64064,     0.64164,     0.64264,     0.64364,     0.64464,     0.64565,     0.64665,     0.64765,\n",
       "           0.64865,     0.64965,     0.65065,     0.65165,     0.65265,     0.65365,     0.65465,     0.65566,     0.65666,     0.65766,     0.65866,     0.65966,     0.66066,     0.66166,     0.66266,     0.66366,     0.66466,     0.66567,     0.66667,     0.66767,     0.66867,     0.66967,     0.67067,     0.67167,\n",
       "           0.67267,     0.67367,     0.67467,     0.67568,     0.67668,     0.67768,     0.67868,     0.67968,     0.68068,     0.68168,     0.68268,     0.68368,     0.68468,     0.68569,     0.68669,     0.68769,     0.68869,     0.68969,     0.69069,     0.69169,     0.69269,     0.69369,     0.69469,      0.6957,\n",
       "            0.6967,      0.6977,      0.6987,      0.6997,      0.7007,      0.7017,      0.7027,      0.7037,      0.7047,     0.70571,     0.70671,     0.70771,     0.70871,     0.70971,     0.71071,     0.71171,     0.71271,     0.71371,     0.71471,     0.71572,     0.71672,     0.71772,     0.71872,     0.71972,\n",
       "           0.72072,     0.72172,     0.72272,     0.72372,     0.72472,     0.72573,     0.72673,     0.72773,     0.72873,     0.72973,     0.73073,     0.73173,     0.73273,     0.73373,     0.73473,     0.73574,     0.73674,     0.73774,     0.73874,     0.73974,     0.74074,     0.74174,     0.74274,     0.74374,\n",
       "           0.74474,     0.74575,     0.74675,     0.74775,     0.74875,     0.74975,     0.75075,     0.75175,     0.75275,     0.75375,     0.75475,     0.75576,     0.75676,     0.75776,     0.75876,     0.75976,     0.76076,     0.76176,     0.76276,     0.76376,     0.76476,     0.76577,     0.76677,     0.76777,\n",
       "           0.76877,     0.76977,     0.77077,     0.77177,     0.77277,     0.77377,     0.77477,     0.77578,     0.77678,     0.77778,     0.77878,     0.77978,     0.78078,     0.78178,     0.78278,     0.78378,     0.78478,     0.78579,     0.78679,     0.78779,     0.78879,     0.78979,     0.79079,     0.79179,\n",
       "           0.79279,     0.79379,     0.79479,      0.7958,      0.7968,      0.7978,      0.7988,      0.7998,      0.8008,      0.8018,      0.8028,      0.8038,      0.8048,     0.80581,     0.80681,     0.80781,     0.80881,     0.80981,     0.81081,     0.81181,     0.81281,     0.81381,     0.81481,     0.81582,\n",
       "           0.81682,     0.81782,     0.81882,     0.81982,     0.82082,     0.82182,     0.82282,     0.82382,     0.82482,     0.82583,     0.82683,     0.82783,     0.82883,     0.82983,     0.83083,     0.83183,     0.83283,     0.83383,     0.83483,     0.83584,     0.83684,     0.83784,     0.83884,     0.83984,\n",
       "           0.84084,     0.84184,     0.84284,     0.84384,     0.84484,     0.84585,     0.84685,     0.84785,     0.84885,     0.84985,     0.85085,     0.85185,     0.85285,     0.85385,     0.85485,     0.85586,     0.85686,     0.85786,     0.85886,     0.85986,     0.86086,     0.86186,     0.86286,     0.86386,\n",
       "           0.86486,     0.86587,     0.86687,     0.86787,     0.86887,     0.86987,     0.87087,     0.87187,     0.87287,     0.87387,     0.87487,     0.87588,     0.87688,     0.87788,     0.87888,     0.87988,     0.88088,     0.88188,     0.88288,     0.88388,     0.88488,     0.88589,     0.88689,     0.88789,\n",
       "           0.88889,     0.88989,     0.89089,     0.89189,     0.89289,     0.89389,     0.89489,      0.8959,      0.8969,      0.8979,      0.8989,      0.8999,      0.9009,      0.9019,      0.9029,      0.9039,      0.9049,     0.90591,     0.90691,     0.90791,     0.90891,     0.90991,     0.91091,     0.91191,\n",
       "           0.91291,     0.91391,     0.91491,     0.91592,     0.91692,     0.91792,     0.91892,     0.91992,     0.92092,     0.92192,     0.92292,     0.92392,     0.92492,     0.92593,     0.92693,     0.92793,     0.92893,     0.92993,     0.93093,     0.93193,     0.93293,     0.93393,     0.93493,     0.93594,\n",
       "           0.93694,     0.93794,     0.93894,     0.93994,     0.94094,     0.94194,     0.94294,     0.94394,     0.94494,     0.94595,     0.94695,     0.94795,     0.94895,     0.94995,     0.95095,     0.95195,     0.95295,     0.95395,     0.95495,     0.95596,     0.95696,     0.95796,     0.95896,     0.95996,\n",
       "           0.96096,     0.96196,     0.96296,     0.96396,     0.96496,     0.96597,     0.96697,     0.96797,     0.96897,     0.96997,     0.97097,     0.97197,     0.97297,     0.97397,     0.97497,     0.97598,     0.97698,     0.97798,     0.97898,     0.97998,     0.98098,     0.98198,     0.98298,     0.98398,\n",
       "           0.98498,     0.98599,     0.98699,     0.98799,     0.98899,     0.98999,     0.99099,     0.99199,     0.99299,     0.99399,     0.99499,       0.996,       0.997,       0.998,       0.999,           1]), array([[   0.068477,    0.068477,      0.1739,      0.3018,     0.38029,     0.41958,     0.44828,     0.47157,     0.48776,      0.5072,     0.51429,     0.52558,     0.53839,     0.54454,     0.54838,     0.55143,     0.56525,     0.57164,       0.575,     0.57796,     0.58262,     0.58603,     0.59365,\n",
       "            0.59802,     0.60264,     0.60411,     0.60489,     0.60815,     0.61047,     0.61121,     0.61484,     0.61908,     0.62101,     0.62192,     0.62345,     0.62614,     0.62712,     0.63074,     0.63535,     0.63602,     0.63694,     0.63905,     0.64225,     0.64514,     0.64642,      0.6472,\n",
       "            0.64884,     0.65363,     0.65477,     0.65618,     0.65998,     0.66358,      0.6645,     0.66525,     0.66779,     0.66841,     0.66891,     0.66956,     0.67148,     0.67393,     0.67504,     0.67746,     0.67867,     0.67967,     0.68096,      0.6824,     0.68478,     0.68559,     0.68781,\n",
       "            0.68946,     0.69146,     0.69179,     0.69211,     0.69243,     0.69367,      0.6946,     0.69525,     0.69845,     0.69932,     0.70001,     0.70046,     0.70092,     0.70171,     0.70308,     0.70408,     0.70527,     0.70845,     0.70673,     0.70711,     0.70798,     0.70866,     0.70912,\n",
       "            0.70948,     0.70985,     0.71022,     0.70984,       0.709,     0.70815,     0.70841,     0.70809,     0.70648,      0.7068,     0.70724,     0.70768,     0.70806,     0.70839,     0.70871,     0.70904,     0.70937,     0.71106,     0.71134,     0.71161,     0.71188,     0.71215,     0.71242,\n",
       "            0.71389,     0.71438,     0.71481,     0.71524,     0.71732,     0.71807,      0.7203,     0.72173,     0.72241,     0.72309,      0.7252,     0.72581,     0.72643,     0.72758,     0.72862,     0.72956,     0.72875,     0.72771,     0.72573,     0.72434,     0.72472,     0.72511,      0.7255,\n",
       "            0.72588,     0.72627,     0.72666,     0.72705,     0.73355,     0.73483,     0.73475,     0.73329,     0.73425,     0.73493,     0.73561,     0.73773,     0.73927,     0.73961,     0.73994,     0.74028,     0.74062,     0.74264,       0.743,     0.74336,     0.74371,     0.74407,     0.74439,\n",
       "            0.74466,     0.74493,      0.7452,     0.74547,     0.74573,     0.74598,     0.74532,     0.74467,     0.74401,     0.74336,     0.74324,     0.74343,     0.74362,     0.74381,       0.744,     0.74419,     0.74438,     0.74457,     0.74475,     0.74545,     0.74645,     0.74746,     0.74855,\n",
       "            0.74997,     0.75026,     0.75053,      0.7508,     0.75107,     0.75134,     0.75161,     0.75051,     0.74969,     0.75283,     0.75356,     0.75482,     0.75858,     0.75963,     0.76011,     0.76058,     0.76106,     0.76168,     0.76238,     0.76297,      0.7622,     0.76142,     0.76064,\n",
       "            0.76054,     0.76198,     0.76291,     0.76376,     0.76404,     0.76431,     0.76459,     0.76487,     0.76515,     0.76542,     0.76563,     0.76577,     0.76592,     0.76606,      0.7662,     0.76635,     0.76649,     0.76663,     0.76678,     0.76692,     0.76706,     0.76721,     0.76735,\n",
       "            0.76771,     0.76814,     0.76857,       0.769,     0.77066,     0.76809,     0.76786,     0.76763,     0.76739,     0.76716,     0.76693,      0.7667,     0.76647,     0.76624,     0.76601,     0.76578,     0.76555,     0.76532,     0.76521,     0.76557,     0.76593,     0.76629,     0.76666,\n",
       "            0.76709,     0.76837,     0.77044,     0.77388,     0.76976,     0.76872,     0.76907,     0.76942,     0.76978,     0.77013,     0.77058,     0.77123,     0.77188,     0.77235,     0.77255,     0.77274,     0.77293,     0.77312,     0.77331,      0.7735,      0.7737,     0.77389,     0.77408,\n",
       "            0.77464,     0.77577,     0.77658,     0.77724,      0.7779,     0.77852,     0.77914,     0.77975,     0.78014,     0.78039,     0.78063,     0.78087,     0.78112,     0.78136,      0.7816,     0.78184,     0.78342,     0.78458,     0.78539,     0.78611,     0.78669,     0.78727,     0.78785,\n",
       "            0.78848,     0.78911,     0.78974,     0.79034,     0.79092,     0.79151,     0.79366,     0.79303,      0.7924,     0.79177,     0.79114,     0.79101,     0.79141,      0.7918,      0.7922,     0.79259,     0.79592,     0.79633,     0.79543,     0.79452,       0.796,     0.79661,     0.79721,\n",
       "            0.79781,     0.79807,     0.79824,     0.79842,     0.79859,     0.79876,     0.79894,     0.79911,     0.79928,     0.79946,     0.79963,      0.7998,     0.79998,     0.80041,     0.80088,     0.80136,     0.80183,     0.80259,     0.80366,     0.80482,     0.80605,     0.80657,     0.80691,\n",
       "            0.80726,     0.80761,     0.80795,      0.8083,     0.80897,     0.80976,     0.81057,     0.81182,     0.81338,     0.81526,     0.81652,     0.81728,     0.81775,     0.81822,     0.81869,     0.81915,      0.8198,     0.82044,     0.82107,     0.82557,     0.82528,     0.82499,      0.8247,\n",
       "            0.82442,     0.82413,     0.82384,     0.82355,     0.82327,     0.82298,     0.82269,     0.81978,     0.82039,     0.82099,      0.8216,       0.822,      0.8224,      0.8228,     0.82319,     0.82359,     0.82393,     0.82418,     0.82442,     0.82466,      0.8249,     0.82514,     0.82538,\n",
       "            0.82562,     0.82587,     0.82606,     0.82567,     0.82528,      0.8249,     0.82451,     0.82413,     0.82374,     0.82336,     0.82297,      0.8231,     0.82336,     0.82362,     0.82389,     0.82415,     0.82441,     0.82468,     0.82494,     0.82543,     0.82659,     0.82993,     0.83078,\n",
       "            0.83163,     0.82946,     0.83064,     0.82991,     0.82825,     0.82742,     0.82693,     0.82643,     0.82594,     0.82544,     0.82494,     0.82455,     0.82485,     0.82514,     0.82544,     0.82573,     0.82603,     0.82632,     0.82662,     0.82571,     0.82437,     0.82594,     0.82618,\n",
       "            0.82643,     0.82667,     0.82691,     0.82716,      0.8274,     0.82765,     0.82789,     0.82814,      0.8267,     0.82501,      0.8294,     0.83011,     0.83072,     0.83133,     0.83194,     0.83275,     0.83356,     0.83073,     0.82877,     0.82741,     0.82698,     0.82655,     0.82612,\n",
       "            0.82568,     0.82525,     0.82482,     0.82438,     0.82369,     0.82282,     0.82195,     0.82108,     0.82105,      0.8214,     0.82175,      0.8221,     0.82245,     0.82279,     0.82314,     0.82268,      0.8221,     0.82152,     0.82093,     0.82035,     0.81973,     0.81635,     0.81696,\n",
       "            0.81757,     0.81819,     0.81882,     0.81965,     0.82047,     0.82087,     0.81969,      0.8185,     0.81768,     0.81781,     0.81794,     0.81808,     0.81821,     0.81834,     0.81847,      0.8186,     0.81873,     0.81886,     0.81899,     0.81912,     0.81925,     0.81938,     0.81951,\n",
       "            0.81964,     0.81977,      0.8199,     0.82003,     0.81962,     0.81902,     0.81842,     0.81783,     0.81723,     0.81663,      0.8155,      0.8143,      0.8131,     0.81131,     0.80953,     0.81015,     0.81077,     0.81139,     0.81184,     0.81093,     0.81002,     0.80911,     0.80841,\n",
       "            0.80854,     0.80867,      0.8088,     0.80894,     0.80907,      0.8092,     0.80933,     0.80946,     0.80959,     0.80972,     0.80985,     0.80998,     0.81011,     0.81025,     0.81038,     0.81051,     0.81064,     0.81077,     0.81115,     0.81165,     0.81215,     0.81265,     0.81315,\n",
       "            0.81309,     0.81288,     0.81267,     0.81246,     0.81225,     0.81204,     0.81183,     0.81162,     0.81141,      0.8112,     0.81099,     0.81078,     0.81057,     0.81036,     0.81015,     0.80994,     0.80973,     0.80993,     0.81029,     0.81065,     0.81101,     0.81137,     0.81172,\n",
       "            0.81208,     0.81247,     0.81286,     0.81325,     0.81364,     0.81403,     0.81442,     0.81494,     0.81558,     0.81622,     0.81685,     0.81104,     0.80954,     0.80912,      0.8087,     0.80829,     0.80787,     0.80745,     0.80703,     0.80662,      0.8062,     0.80681,     0.80754,\n",
       "            0.80826,     0.80804,     0.80678,     0.80552,     0.80457,     0.80388,     0.80319,      0.8025,     0.80181,      0.8013,     0.80162,     0.80194,     0.80226,     0.80258,      0.8029,     0.80322,     0.80354,     0.80332,     0.80223,     0.80113,     0.80004,     0.79627,     0.79663,\n",
       "            0.79703,     0.79742,     0.79782,     0.79821,      0.7986,     0.79848,     0.79807,     0.79766,     0.79725,     0.79684,     0.79643,     0.79603,     0.79562,     0.79521,     0.79545,     0.79674,     0.79297,      0.7914,     0.78982,     0.78785,     0.78592,     0.78539,     0.78486,\n",
       "            0.78433,      0.7838,     0.78326,     0.78273,      0.7822,     0.78157,      0.7809,     0.78023,     0.77956,     0.77889,     0.77822,     0.77638,     0.77436,     0.77337,     0.77246,     0.77156,     0.77065,     0.76596,     0.76545,     0.76493,     0.76442,     0.76391,     0.76339,\n",
       "            0.76287,     0.76236,     0.76155,     0.76063,     0.75971,     0.75879,     0.75539,     0.75309,     0.75189,     0.75068,     0.74983,     0.74943,     0.74902,     0.74862,     0.74822,     0.74782,     0.74741,     0.74701,     0.74661,      0.7462,     0.74508,     0.74146,     0.74024,\n",
       "            0.73902,     0.73779,     0.73103,     0.72921,     0.72955,     0.72988,     0.73022,     0.73055,     0.73088,     0.73122,     0.73151,     0.72977,     0.72801,     0.72655,     0.72529,     0.72403,     0.71871,     0.71909,     0.71948,     0.71987,     0.72025,     0.72064,     0.72102,\n",
       "            0.71925,     0.71701,     0.71411,      0.7111,     0.70807,     0.70503,     0.70301,     0.70209,     0.70117,     0.70025,     0.69933,     0.69803,     0.69649,     0.69495,     0.69235,     0.68059,     0.68006,     0.67953,     0.67901,     0.67848,     0.67795,     0.67742,     0.67689,\n",
       "            0.67636,     0.67191,     0.66361,     0.66145,     0.66047,     0.65949,     0.65851,     0.65753,     0.65516,      0.6521,     0.65045,     0.64879,       0.632,     0.62859,     0.62012,     0.61233,     0.61158,     0.61083,     0.61008,     0.60932,     0.60857,     0.60782,     0.60579,\n",
       "            0.60225,     0.60152,     0.60081,      0.6001,     0.59939,     0.59867,     0.59796,     0.59725,     0.59459,     0.59147,     0.59012,     0.58876,      0.5874,     0.58533,     0.58169,     0.58064,     0.58006,     0.57948,     0.57891,     0.57833,     0.57775,     0.57716,     0.57658,\n",
       "              0.576,     0.57362,     0.56991,     0.56618,     0.56342,     0.56116,     0.55932,     0.55901,     0.55869,     0.55838,     0.55806,     0.55775,     0.55743,     0.55712,      0.5568,     0.55648,     0.55617,     0.55585,     0.55554,     0.55522,     0.55491,     0.55459,     0.55427,\n",
       "            0.55396,      0.5531,     0.55196,     0.55081,     0.54967,     0.54852,     0.54699,     0.54534,     0.54369,     0.54159,     0.53868,      0.5367,     0.53605,      0.5354,     0.53475,      0.5341,     0.53345,      0.5328,     0.53214,     0.53149,     0.52564,     0.52588,     0.52611,\n",
       "            0.52635,     0.52659,     0.52682,     0.52706,     0.52729,     0.52752,     0.52249,     0.52057,     0.51924,      0.5179,     0.51657,     0.51529,     0.51408,     0.51287,     0.51165,     0.51044,     0.50904,     0.50751,     0.50599,     0.50445,     0.50227,     0.49981,     0.49152,\n",
       "            0.48996,      0.4884,     0.48683,     0.48526,     0.48369,     0.48211,     0.48053,     0.47773,     0.47348,      0.4722,     0.47091,     0.46963,     0.46835,     0.46568,     0.45927,     0.45666,     0.45419,     0.45231,     0.45044,     0.44855,     0.42506,     0.41381,      0.4092,\n",
       "            0.40772,      0.4068,     0.40587,     0.40494,     0.40401,     0.40308,     0.40214,     0.40096,     0.39956,     0.39815,     0.39675,     0.39534,     0.37623,     0.37309,     0.37188,     0.37067,     0.36946,     0.36824,     0.36702,     0.36379,     0.36011,     0.35533,     0.34627,\n",
       "            0.34421,      0.3432,      0.3422,      0.3412,     0.34019,     0.33918,     0.33817,     0.32853,     0.31457,     0.30936,     0.30233,      0.2992,     0.29807,     0.29693,      0.2958,     0.29466,     0.29352,     0.29238,     0.27597,     0.27461,     0.27325,     0.27189,     0.27052,\n",
       "            0.26916,     0.26027,     0.25611,     0.25202,     0.24866,     0.24529,     0.24042,     0.23502,     0.23074,     0.22331,     0.20787,     0.20435,     0.19912,     0.18242,     0.17636,     0.17026,     0.16476,     0.16013,     0.15685,     0.15516,     0.15346,     0.15176,     0.15006,\n",
       "            0.14761,     0.13873,     0.13397,     0.12946,     0.12626,     0.12304,     0.11904,     0.11255,    0.098439,    0.094466,    0.088434,    0.080579,    0.076532,    0.072467,    0.068386,    0.064286,    0.059668,    0.054495,    0.050969,    0.048884,    0.046795,    0.044702,    0.042604,\n",
       "           0.040627,    0.038712,    0.036794,    0.034871,    0.032945,    0.030545,    0.026995,    0.023432,    0.019857,    0.016268,    0.012666,           0,           0,           0,           0,           0,           0,           0,           0,           0,           0,           0,           0,\n",
       "                  0,           0,           0,           0,           0,           0,           0,           0,           0,           0,           0]]), 'Confidence', 'F1'], [array([          0,    0.001001,    0.002002,    0.003003,    0.004004,    0.005005,    0.006006,    0.007007,    0.008008,    0.009009,     0.01001,    0.011011,    0.012012,    0.013013,    0.014014,    0.015015,    0.016016,    0.017017,    0.018018,    0.019019,     0.02002,    0.021021,    0.022022,    0.023023,\n",
       "          0.024024,    0.025025,    0.026026,    0.027027,    0.028028,    0.029029,     0.03003,    0.031031,    0.032032,    0.033033,    0.034034,    0.035035,    0.036036,    0.037037,    0.038038,    0.039039,     0.04004,    0.041041,    0.042042,    0.043043,    0.044044,    0.045045,    0.046046,    0.047047,\n",
       "          0.048048,    0.049049,     0.05005,    0.051051,    0.052052,    0.053053,    0.054054,    0.055055,    0.056056,    0.057057,    0.058058,    0.059059,     0.06006,    0.061061,    0.062062,    0.063063,    0.064064,    0.065065,    0.066066,    0.067067,    0.068068,    0.069069,     0.07007,    0.071071,\n",
       "          0.072072,    0.073073,    0.074074,    0.075075,    0.076076,    0.077077,    0.078078,    0.079079,     0.08008,    0.081081,    0.082082,    0.083083,    0.084084,    0.085085,    0.086086,    0.087087,    0.088088,    0.089089,     0.09009,    0.091091,    0.092092,    0.093093,    0.094094,    0.095095,\n",
       "          0.096096,    0.097097,    0.098098,    0.099099,      0.1001,      0.1011,      0.1021,      0.1031,      0.1041,     0.10511,     0.10611,     0.10711,     0.10811,     0.10911,     0.11011,     0.11111,     0.11211,     0.11311,     0.11411,     0.11512,     0.11612,     0.11712,     0.11812,     0.11912,\n",
       "           0.12012,     0.12112,     0.12212,     0.12312,     0.12412,     0.12513,     0.12613,     0.12713,     0.12813,     0.12913,     0.13013,     0.13113,     0.13213,     0.13313,     0.13413,     0.13514,     0.13614,     0.13714,     0.13814,     0.13914,     0.14014,     0.14114,     0.14214,     0.14314,\n",
       "           0.14414,     0.14515,     0.14615,     0.14715,     0.14815,     0.14915,     0.15015,     0.15115,     0.15215,     0.15315,     0.15415,     0.15516,     0.15616,     0.15716,     0.15816,     0.15916,     0.16016,     0.16116,     0.16216,     0.16316,     0.16416,     0.16517,     0.16617,     0.16717,\n",
       "           0.16817,     0.16917,     0.17017,     0.17117,     0.17217,     0.17317,     0.17417,     0.17518,     0.17618,     0.17718,     0.17818,     0.17918,     0.18018,     0.18118,     0.18218,     0.18318,     0.18418,     0.18519,     0.18619,     0.18719,     0.18819,     0.18919,     0.19019,     0.19119,\n",
       "           0.19219,     0.19319,     0.19419,      0.1952,      0.1962,      0.1972,      0.1982,      0.1992,      0.2002,      0.2012,      0.2022,      0.2032,      0.2042,     0.20521,     0.20621,     0.20721,     0.20821,     0.20921,     0.21021,     0.21121,     0.21221,     0.21321,     0.21421,     0.21522,\n",
       "           0.21622,     0.21722,     0.21822,     0.21922,     0.22022,     0.22122,     0.22222,     0.22322,     0.22422,     0.22523,     0.22623,     0.22723,     0.22823,     0.22923,     0.23023,     0.23123,     0.23223,     0.23323,     0.23423,     0.23524,     0.23624,     0.23724,     0.23824,     0.23924,\n",
       "           0.24024,     0.24124,     0.24224,     0.24324,     0.24424,     0.24525,     0.24625,     0.24725,     0.24825,     0.24925,     0.25025,     0.25125,     0.25225,     0.25325,     0.25425,     0.25526,     0.25626,     0.25726,     0.25826,     0.25926,     0.26026,     0.26126,     0.26226,     0.26326,\n",
       "           0.26426,     0.26527,     0.26627,     0.26727,     0.26827,     0.26927,     0.27027,     0.27127,     0.27227,     0.27327,     0.27427,     0.27528,     0.27628,     0.27728,     0.27828,     0.27928,     0.28028,     0.28128,     0.28228,     0.28328,     0.28428,     0.28529,     0.28629,     0.28729,\n",
       "           0.28829,     0.28929,     0.29029,     0.29129,     0.29229,     0.29329,     0.29429,      0.2953,      0.2963,      0.2973,      0.2983,      0.2993,      0.3003,      0.3013,      0.3023,      0.3033,      0.3043,     0.30531,     0.30631,     0.30731,     0.30831,     0.30931,     0.31031,     0.31131,\n",
       "           0.31231,     0.31331,     0.31431,     0.31532,     0.31632,     0.31732,     0.31832,     0.31932,     0.32032,     0.32132,     0.32232,     0.32332,     0.32432,     0.32533,     0.32633,     0.32733,     0.32833,     0.32933,     0.33033,     0.33133,     0.33233,     0.33333,     0.33433,     0.33534,\n",
       "           0.33634,     0.33734,     0.33834,     0.33934,     0.34034,     0.34134,     0.34234,     0.34334,     0.34434,     0.34535,     0.34635,     0.34735,     0.34835,     0.34935,     0.35035,     0.35135,     0.35235,     0.35335,     0.35435,     0.35536,     0.35636,     0.35736,     0.35836,     0.35936,\n",
       "           0.36036,     0.36136,     0.36236,     0.36336,     0.36436,     0.36537,     0.36637,     0.36737,     0.36837,     0.36937,     0.37037,     0.37137,     0.37237,     0.37337,     0.37437,     0.37538,     0.37638,     0.37738,     0.37838,     0.37938,     0.38038,     0.38138,     0.38238,     0.38338,\n",
       "           0.38438,     0.38539,     0.38639,     0.38739,     0.38839,     0.38939,     0.39039,     0.39139,     0.39239,     0.39339,     0.39439,      0.3954,      0.3964,      0.3974,      0.3984,      0.3994,      0.4004,      0.4014,      0.4024,      0.4034,      0.4044,     0.40541,     0.40641,     0.40741,\n",
       "           0.40841,     0.40941,     0.41041,     0.41141,     0.41241,     0.41341,     0.41441,     0.41542,     0.41642,     0.41742,     0.41842,     0.41942,     0.42042,     0.42142,     0.42242,     0.42342,     0.42442,     0.42543,     0.42643,     0.42743,     0.42843,     0.42943,     0.43043,     0.43143,\n",
       "           0.43243,     0.43343,     0.43443,     0.43544,     0.43644,     0.43744,     0.43844,     0.43944,     0.44044,     0.44144,     0.44244,     0.44344,     0.44444,     0.44545,     0.44645,     0.44745,     0.44845,     0.44945,     0.45045,     0.45145,     0.45245,     0.45345,     0.45445,     0.45546,\n",
       "           0.45646,     0.45746,     0.45846,     0.45946,     0.46046,     0.46146,     0.46246,     0.46346,     0.46446,     0.46547,     0.46647,     0.46747,     0.46847,     0.46947,     0.47047,     0.47147,     0.47247,     0.47347,     0.47447,     0.47548,     0.47648,     0.47748,     0.47848,     0.47948,\n",
       "           0.48048,     0.48148,     0.48248,     0.48348,     0.48448,     0.48549,     0.48649,     0.48749,     0.48849,     0.48949,     0.49049,     0.49149,     0.49249,     0.49349,     0.49449,      0.4955,      0.4965,      0.4975,      0.4985,      0.4995,      0.5005,      0.5015,      0.5025,      0.5035,\n",
       "            0.5045,     0.50551,     0.50651,     0.50751,     0.50851,     0.50951,     0.51051,     0.51151,     0.51251,     0.51351,     0.51451,     0.51552,     0.51652,     0.51752,     0.51852,     0.51952,     0.52052,     0.52152,     0.52252,     0.52352,     0.52452,     0.52553,     0.52653,     0.52753,\n",
       "           0.52853,     0.52953,     0.53053,     0.53153,     0.53253,     0.53353,     0.53453,     0.53554,     0.53654,     0.53754,     0.53854,     0.53954,     0.54054,     0.54154,     0.54254,     0.54354,     0.54454,     0.54555,     0.54655,     0.54755,     0.54855,     0.54955,     0.55055,     0.55155,\n",
       "           0.55255,     0.55355,     0.55455,     0.55556,     0.55656,     0.55756,     0.55856,     0.55956,     0.56056,     0.56156,     0.56256,     0.56356,     0.56456,     0.56557,     0.56657,     0.56757,     0.56857,     0.56957,     0.57057,     0.57157,     0.57257,     0.57357,     0.57457,     0.57558,\n",
       "           0.57658,     0.57758,     0.57858,     0.57958,     0.58058,     0.58158,     0.58258,     0.58358,     0.58458,     0.58559,     0.58659,     0.58759,     0.58859,     0.58959,     0.59059,     0.59159,     0.59259,     0.59359,     0.59459,      0.5956,      0.5966,      0.5976,      0.5986,      0.5996,\n",
       "            0.6006,      0.6016,      0.6026,      0.6036,      0.6046,     0.60561,     0.60661,     0.60761,     0.60861,     0.60961,     0.61061,     0.61161,     0.61261,     0.61361,     0.61461,     0.61562,     0.61662,     0.61762,     0.61862,     0.61962,     0.62062,     0.62162,     0.62262,     0.62362,\n",
       "           0.62462,     0.62563,     0.62663,     0.62763,     0.62863,     0.62963,     0.63063,     0.63163,     0.63263,     0.63363,     0.63463,     0.63564,     0.63664,     0.63764,     0.63864,     0.63964,     0.64064,     0.64164,     0.64264,     0.64364,     0.64464,     0.64565,     0.64665,     0.64765,\n",
       "           0.64865,     0.64965,     0.65065,     0.65165,     0.65265,     0.65365,     0.65465,     0.65566,     0.65666,     0.65766,     0.65866,     0.65966,     0.66066,     0.66166,     0.66266,     0.66366,     0.66466,     0.66567,     0.66667,     0.66767,     0.66867,     0.66967,     0.67067,     0.67167,\n",
       "           0.67267,     0.67367,     0.67467,     0.67568,     0.67668,     0.67768,     0.67868,     0.67968,     0.68068,     0.68168,     0.68268,     0.68368,     0.68468,     0.68569,     0.68669,     0.68769,     0.68869,     0.68969,     0.69069,     0.69169,     0.69269,     0.69369,     0.69469,      0.6957,\n",
       "            0.6967,      0.6977,      0.6987,      0.6997,      0.7007,      0.7017,      0.7027,      0.7037,      0.7047,     0.70571,     0.70671,     0.70771,     0.70871,     0.70971,     0.71071,     0.71171,     0.71271,     0.71371,     0.71471,     0.71572,     0.71672,     0.71772,     0.71872,     0.71972,\n",
       "           0.72072,     0.72172,     0.72272,     0.72372,     0.72472,     0.72573,     0.72673,     0.72773,     0.72873,     0.72973,     0.73073,     0.73173,     0.73273,     0.73373,     0.73473,     0.73574,     0.73674,     0.73774,     0.73874,     0.73974,     0.74074,     0.74174,     0.74274,     0.74374,\n",
       "           0.74474,     0.74575,     0.74675,     0.74775,     0.74875,     0.74975,     0.75075,     0.75175,     0.75275,     0.75375,     0.75475,     0.75576,     0.75676,     0.75776,     0.75876,     0.75976,     0.76076,     0.76176,     0.76276,     0.76376,     0.76476,     0.76577,     0.76677,     0.76777,\n",
       "           0.76877,     0.76977,     0.77077,     0.77177,     0.77277,     0.77377,     0.77477,     0.77578,     0.77678,     0.77778,     0.77878,     0.77978,     0.78078,     0.78178,     0.78278,     0.78378,     0.78478,     0.78579,     0.78679,     0.78779,     0.78879,     0.78979,     0.79079,     0.79179,\n",
       "           0.79279,     0.79379,     0.79479,      0.7958,      0.7968,      0.7978,      0.7988,      0.7998,      0.8008,      0.8018,      0.8028,      0.8038,      0.8048,     0.80581,     0.80681,     0.80781,     0.80881,     0.80981,     0.81081,     0.81181,     0.81281,     0.81381,     0.81481,     0.81582,\n",
       "           0.81682,     0.81782,     0.81882,     0.81982,     0.82082,     0.82182,     0.82282,     0.82382,     0.82482,     0.82583,     0.82683,     0.82783,     0.82883,     0.82983,     0.83083,     0.83183,     0.83283,     0.83383,     0.83483,     0.83584,     0.83684,     0.83784,     0.83884,     0.83984,\n",
       "           0.84084,     0.84184,     0.84284,     0.84384,     0.84484,     0.84585,     0.84685,     0.84785,     0.84885,     0.84985,     0.85085,     0.85185,     0.85285,     0.85385,     0.85485,     0.85586,     0.85686,     0.85786,     0.85886,     0.85986,     0.86086,     0.86186,     0.86286,     0.86386,\n",
       "           0.86486,     0.86587,     0.86687,     0.86787,     0.86887,     0.86987,     0.87087,     0.87187,     0.87287,     0.87387,     0.87487,     0.87588,     0.87688,     0.87788,     0.87888,     0.87988,     0.88088,     0.88188,     0.88288,     0.88388,     0.88488,     0.88589,     0.88689,     0.88789,\n",
       "           0.88889,     0.88989,     0.89089,     0.89189,     0.89289,     0.89389,     0.89489,      0.8959,      0.8969,      0.8979,      0.8989,      0.8999,      0.9009,      0.9019,      0.9029,      0.9039,      0.9049,     0.90591,     0.90691,     0.90791,     0.90891,     0.90991,     0.91091,     0.91191,\n",
       "           0.91291,     0.91391,     0.91491,     0.91592,     0.91692,     0.91792,     0.91892,     0.91992,     0.92092,     0.92192,     0.92292,     0.92392,     0.92492,     0.92593,     0.92693,     0.92793,     0.92893,     0.92993,     0.93093,     0.93193,     0.93293,     0.93393,     0.93493,     0.93594,\n",
       "           0.93694,     0.93794,     0.93894,     0.93994,     0.94094,     0.94194,     0.94294,     0.94394,     0.94494,     0.94595,     0.94695,     0.94795,     0.94895,     0.94995,     0.95095,     0.95195,     0.95295,     0.95395,     0.95495,     0.95596,     0.95696,     0.95796,     0.95896,     0.95996,\n",
       "           0.96096,     0.96196,     0.96296,     0.96396,     0.96496,     0.96597,     0.96697,     0.96797,     0.96897,     0.96997,     0.97097,     0.97197,     0.97297,     0.97397,     0.97497,     0.97598,     0.97698,     0.97798,     0.97898,     0.97998,     0.98098,     0.98198,     0.98298,     0.98398,\n",
       "           0.98498,     0.98599,     0.98699,     0.98799,     0.98899,     0.98999,     0.99099,     0.99199,     0.99299,     0.99399,     0.99499,       0.996,       0.997,       0.998,       0.999,           1]), array([[   0.035546,    0.035546,    0.095916,     0.18011,     0.23898,     0.27086,     0.29526,     0.31643,     0.33258,     0.35092,     0.35774,     0.36877,      0.3815,     0.38771,     0.39161,     0.39473,     0.40905,     0.41578,     0.41934,     0.42249,      0.4275,     0.43118,     0.43948,\n",
       "            0.44428,     0.44941,     0.45236,     0.45386,     0.45826,     0.46091,     0.46174,     0.46591,     0.47079,     0.47302,     0.47408,     0.47586,       0.479,     0.48015,     0.48442,     0.48987,     0.49067,     0.49176,     0.49428,     0.49812,     0.50161,     0.50316,      0.5041,\n",
       "            0.50609,     0.51195,     0.51334,     0.51508,     0.51978,     0.52427,     0.52541,     0.52635,     0.52954,     0.53032,     0.53095,     0.53176,     0.53419,      0.5373,     0.53871,      0.5418,     0.54334,     0.54463,     0.54629,     0.54815,     0.55122,     0.55228,     0.55517,\n",
       "            0.55731,     0.55994,     0.56036,     0.56079,     0.56121,     0.56284,     0.56407,     0.56493,     0.56915,     0.57032,     0.57123,     0.57184,     0.57245,     0.57351,     0.57534,     0.57668,     0.57828,     0.58268,     0.58177,     0.58298,     0.58416,     0.58509,     0.58572,\n",
       "            0.58622,     0.58672,     0.58722,     0.58714,     0.58669,     0.58624,     0.58704,     0.58748,     0.58662,     0.58715,     0.58776,     0.58836,     0.58889,     0.58934,     0.58979,     0.59025,      0.5907,     0.59306,     0.59344,     0.59381,     0.59419,     0.59457,     0.59495,\n",
       "            0.59699,     0.59769,     0.59829,     0.59889,     0.60181,     0.60287,     0.60602,     0.60804,     0.60901,     0.60998,     0.61298,     0.61387,     0.61475,      0.6164,     0.61789,     0.61924,     0.61893,      0.6184,     0.61739,     0.61694,      0.6175,     0.61806,     0.61862,\n",
       "            0.61919,     0.61975,     0.62032,     0.62088,     0.63042,     0.63232,     0.63286,     0.63214,     0.63427,     0.63529,      0.6363,     0.63948,      0.6418,      0.6423,     0.64281,     0.64332,     0.64383,     0.64689,     0.64744,     0.64798,     0.64852,     0.64906,     0.64955,\n",
       "            0.64996,     0.65037,     0.65078,     0.65119,      0.6516,     0.65199,     0.65167,     0.65135,     0.65104,     0.65072,     0.65079,     0.65108,     0.65137,     0.65166,     0.65195,     0.65224,     0.65253,     0.65282,     0.65311,     0.65418,     0.65573,     0.65729,     0.65898,\n",
       "            0.66118,     0.66164,     0.66205,     0.66247,     0.66289,     0.66331,     0.66373,     0.66335,     0.66389,     0.66883,     0.66998,     0.67198,     0.67797,     0.67964,     0.68041,     0.68117,     0.68193,     0.68293,     0.68406,     0.68508,     0.68472,     0.68437,     0.68401,\n",
       "            0.68448,     0.68681,     0.68833,     0.68971,     0.69017,     0.69062,     0.69107,     0.69153,     0.69198,     0.69243,     0.69277,       0.693,     0.69324,     0.69347,     0.69371,     0.69394,     0.69418,     0.69441,     0.69465,     0.69488,     0.69512,     0.69536,     0.69559,\n",
       "            0.69618,     0.69689,      0.6976,     0.69831,     0.70105,     0.70043,     0.70032,     0.70022,     0.70012,     0.70002,     0.69991,     0.69981,     0.69971,     0.69961,      0.6995,      0.6994,      0.6993,      0.6992,     0.69924,     0.69984,     0.70045,     0.70106,     0.70166,\n",
       "            0.70239,     0.70453,     0.70802,     0.71466,     0.71288,     0.71275,     0.71336,     0.71397,     0.71458,     0.71518,     0.71596,     0.71709,     0.71821,     0.71903,     0.71936,     0.71969,     0.72002,     0.72036,     0.72069,     0.72102,     0.72136,     0.72169,     0.72202,\n",
       "              0.723,     0.72497,     0.72638,     0.72754,      0.7287,      0.7298,     0.73087,     0.73195,     0.73265,     0.73308,     0.73351,     0.73394,     0.73437,     0.73479,     0.73522,     0.73565,     0.73844,     0.74051,     0.74195,     0.74325,     0.74429,     0.74533,     0.74637,\n",
       "             0.7475,     0.74863,     0.74976,     0.75084,      0.7519,     0.75296,     0.75719,     0.75695,     0.75671,     0.75646,     0.75622,     0.75646,     0.75718,      0.7579,     0.75863,     0.75935,     0.76548,     0.76711,     0.76677,     0.76643,     0.77026,     0.77139,     0.77252,\n",
       "            0.77366,     0.77414,     0.77446,     0.77479,     0.77512,     0.77544,     0.77577,      0.7761,     0.77642,     0.77675,     0.77708,     0.77741,     0.77773,     0.77855,     0.77945,     0.78035,     0.78125,     0.78269,     0.78473,     0.78694,      0.7893,     0.79029,     0.79095,\n",
       "            0.79162,     0.79229,     0.79296,     0.79362,     0.79491,     0.79644,     0.79801,     0.80044,     0.80349,     0.80715,     0.80964,     0.81112,     0.81205,     0.81297,      0.8139,     0.81483,      0.8161,     0.81736,     0.81863,     0.82791,     0.82782,     0.82774,     0.82765,\n",
       "            0.82757,     0.82748,      0.8274,     0.82731,     0.82723,     0.82714,     0.82706,     0.82685,     0.82808,     0.82932,     0.83055,     0.83138,      0.8322,     0.83301,     0.83382,     0.83464,     0.83534,     0.83584,     0.83634,     0.83683,     0.83733,     0.83783,     0.83833,\n",
       "            0.83882,     0.83932,     0.83977,     0.83966,     0.83956,     0.83945,     0.83934,     0.83923,     0.83913,     0.83902,     0.83891,     0.83932,     0.83987,     0.84042,     0.84097,     0.84152,     0.84207,     0.84262,     0.84317,     0.84419,     0.84662,     0.85365,     0.85546,\n",
       "            0.85727,     0.85871,     0.86123,      0.8618,     0.86139,     0.86118,     0.86106,     0.86094,     0.86082,     0.86069,     0.86057,     0.86055,      0.8612,     0.86184,     0.86248,     0.86313,     0.86377,     0.86442,     0.86506,     0.86523,     0.86655,     0.87003,     0.87057,\n",
       "            0.87112,     0.87166,      0.8722,     0.87275,     0.87329,     0.87384,     0.87438,     0.87493,     0.87467,     0.87428,     0.88451,     0.88615,     0.88753,     0.88891,     0.89031,     0.89218,     0.89404,     0.89502,     0.89464,     0.89438,     0.89429,     0.89421,     0.89412,\n",
       "            0.89404,     0.89395,     0.89387,     0.89378,     0.89365,     0.89348,     0.89331,     0.89313,     0.89366,     0.89448,     0.89531,     0.89614,     0.89697,     0.89779,     0.89862,     0.89864,     0.89853,     0.89842,     0.89831,      0.8982,     0.89808,     0.89749,     0.89897,\n",
       "            0.90046,     0.90194,     0.90349,      0.9055,      0.9075,     0.90905,     0.90885,     0.90864,     0.90859,     0.90891,     0.90923,     0.90955,     0.90988,      0.9102,     0.91052,     0.91084,     0.91117,     0.91149,     0.91181,     0.91213,     0.91246,     0.91278,      0.9131,\n",
       "            0.91342,     0.91375,     0.91407,     0.91439,      0.9144,      0.9143,     0.91421,     0.91411,     0.91401,     0.91392,     0.91373,     0.91354,     0.91334,     0.91305,     0.91277,     0.91435,     0.91593,     0.91751,      0.9189,     0.91876,     0.91862,     0.91848,     0.91844,\n",
       "            0.91878,     0.91912,     0.91946,      0.9198,     0.92013,     0.92047,     0.92081,     0.92115,     0.92149,     0.92183,     0.92217,     0.92251,     0.92285,     0.92319,     0.92353,     0.92387,     0.92421,     0.92455,     0.92554,     0.92684,     0.92815,     0.92946,     0.93077,\n",
       "            0.93101,     0.93098,     0.93096,     0.93093,      0.9309,     0.93087,     0.93084,     0.93082,     0.93079,     0.93076,     0.93073,      0.9307,     0.93068,     0.93065,     0.93062,     0.93059,     0.93056,     0.93124,      0.9322,     0.93315,      0.9341,     0.93505,     0.93601,\n",
       "            0.93696,     0.93799,     0.93903,     0.94007,     0.94111,     0.94215,     0.94319,     0.94461,     0.94632,     0.94804,     0.94975,     0.94976,     0.94961,     0.94957,     0.94953,     0.94949,     0.94945,      0.9494,     0.94936,     0.94932,     0.94928,     0.95109,     0.95312,\n",
       "            0.95515,     0.95615,     0.95604,     0.95593,     0.95585,     0.95579,     0.95573,     0.95567,     0.95561,     0.95573,     0.95664,     0.95755,     0.95847,     0.95938,     0.96029,     0.96121,     0.96212,     0.96266,     0.96257,     0.96249,     0.96241,     0.96212,     0.96327,\n",
       "            0.96443,     0.96559,     0.96674,      0.9679,     0.96906,     0.96945,     0.96942,      0.9694,     0.96937,     0.96935,     0.96932,      0.9693,     0.96927,     0.96925,      0.9707,     0.97455,     0.97653,     0.97645,     0.97638,     0.97628,     0.97619,     0.97616,     0.97614,\n",
       "            0.97611,     0.97609,     0.97606,     0.97603,     0.97601,     0.97598,     0.97594,     0.97591,     0.97588,     0.97584,     0.97581,     0.97572,     0.97562,     0.97557,     0.97552,     0.97548,     0.97543,     0.97519,     0.97517,     0.97514,     0.97511,     0.97509,     0.97506,\n",
       "            0.97503,     0.97501,     0.97497,     0.97492,     0.97487,     0.97482,     0.97464,     0.97452,     0.97446,      0.9744,     0.97435,     0.97433,     0.97431,     0.97428,     0.97426,     0.97424,     0.97422,      0.9742,     0.97418,     0.97416,     0.97409,      0.9739,     0.97383,\n",
       "            0.97376,      0.9737,     0.97332,     0.97361,     0.97481,     0.97601,     0.97721,     0.97841,     0.97961,      0.9808,     0.98198,     0.98191,     0.98185,     0.98179,     0.98174,     0.98169,     0.98172,     0.98316,     0.98461,     0.98606,      0.9875,     0.98895,      0.9904,\n",
       "            0.99062,     0.99057,     0.99051,     0.99045,     0.99039,     0.99032,     0.99028,     0.99026,     0.99024,     0.99022,      0.9902,     0.99018,     0.99014,     0.99011,     0.99005,     0.98979,     0.98978,     0.98977,     0.98976,     0.98975,     0.98973,     0.98972,     0.98971,\n",
       "             0.9897,      0.9896,      0.9894,     0.98935,     0.98933,      0.9893,     0.98928,     0.98926,      0.9892,     0.98912,     0.98908,     0.98904,     0.98862,     0.98853,      0.9883,     0.98809,     0.98807,     0.98805,     0.98803,     0.98801,     0.98798,     0.98796,     0.98791,\n",
       "            0.98781,     0.98778,     0.98776,     0.98774,     0.98772,      0.9877,     0.98768,     0.98766,     0.98758,     0.98749,     0.98745,     0.98741,     0.98737,     0.98731,      0.9872,     0.98716,     0.98715,     0.98713,     0.98711,     0.98709,     0.98707,     0.98706,     0.98704,\n",
       "            0.98702,     0.98695,     0.98683,     0.98671,     0.98662,     0.98654,     0.98648,     0.98647,     0.98646,     0.98645,     0.98644,     0.98643,     0.98642,     0.98641,      0.9864,     0.98639,     0.98638,     0.98637,     0.98636,     0.98635,     0.98634,     0.98633,     0.98632,\n",
       "            0.98631,     0.98628,     0.98624,      0.9862,     0.98616,     0.98612,     0.98607,     0.98601,     0.98595,     0.98588,     0.98578,      0.9857,     0.98568,     0.98566,     0.98563,     0.98561,     0.98559,     0.98556,     0.98554,     0.98552,     0.98635,     0.98802,      0.9897,\n",
       "            0.99137,     0.99305,     0.99472,      0.9964,     0.99807,     0.99975,           1,           1,           1,           1,           1,           1,           1,           1,           1,           1,           1,           1,           1,           1,           1,           1,           1,\n",
       "                  1,           1,           1,           1,           1,           1,           1,           1,           1,           1,           1,           1,           1,           1,           1,           1,           1,           1,           1,           1,           1,           1,           1,\n",
       "                  1,           1,           1,           1,           1,           1,           1,           1,           1,           1,           1,           1,           1,           1,           1,           1,           1,           1,           1,           1,           1,           1,           1,\n",
       "                  1,           1,           1,           1,           1,           1,           1,           1,           1,           1,           1,           1,           1,           1,           1,           1,           1,           1,           1,           1,           1,           1,           1,\n",
       "                  1,           1,           1,           1,           1,           1,           1,           1,           1,           1,           1,           1,           1,           1,           1,           1,           1,           1,           1,           1,           1,           1,           1,\n",
       "                  1,           1,           1,           1,           1,           1,           1,           1,           1,           1,           1,           1,           1,           1,           1,           1,           1,           1,           1,           1,           1,           1,           1,\n",
       "                  1,           1,           1,           1,           1,           1,           1,           1,           1,           1,           1,           1,           1,           1,           1,           1,           1,           1,           1,           1,           1,           1,           1,\n",
       "                  1,           1,           1,           1,           1,           1,           1,           1,           1,           1,           1]]), 'Confidence', 'Precision'], [array([          0,    0.001001,    0.002002,    0.003003,    0.004004,    0.005005,    0.006006,    0.007007,    0.008008,    0.009009,     0.01001,    0.011011,    0.012012,    0.013013,    0.014014,    0.015015,    0.016016,    0.017017,    0.018018,    0.019019,     0.02002,    0.021021,    0.022022,    0.023023,\n",
       "          0.024024,    0.025025,    0.026026,    0.027027,    0.028028,    0.029029,     0.03003,    0.031031,    0.032032,    0.033033,    0.034034,    0.035035,    0.036036,    0.037037,    0.038038,    0.039039,     0.04004,    0.041041,    0.042042,    0.043043,    0.044044,    0.045045,    0.046046,    0.047047,\n",
       "          0.048048,    0.049049,     0.05005,    0.051051,    0.052052,    0.053053,    0.054054,    0.055055,    0.056056,    0.057057,    0.058058,    0.059059,     0.06006,    0.061061,    0.062062,    0.063063,    0.064064,    0.065065,    0.066066,    0.067067,    0.068068,    0.069069,     0.07007,    0.071071,\n",
       "          0.072072,    0.073073,    0.074074,    0.075075,    0.076076,    0.077077,    0.078078,    0.079079,     0.08008,    0.081081,    0.082082,    0.083083,    0.084084,    0.085085,    0.086086,    0.087087,    0.088088,    0.089089,     0.09009,    0.091091,    0.092092,    0.093093,    0.094094,    0.095095,\n",
       "          0.096096,    0.097097,    0.098098,    0.099099,      0.1001,      0.1011,      0.1021,      0.1031,      0.1041,     0.10511,     0.10611,     0.10711,     0.10811,     0.10911,     0.11011,     0.11111,     0.11211,     0.11311,     0.11411,     0.11512,     0.11612,     0.11712,     0.11812,     0.11912,\n",
       "           0.12012,     0.12112,     0.12212,     0.12312,     0.12412,     0.12513,     0.12613,     0.12713,     0.12813,     0.12913,     0.13013,     0.13113,     0.13213,     0.13313,     0.13413,     0.13514,     0.13614,     0.13714,     0.13814,     0.13914,     0.14014,     0.14114,     0.14214,     0.14314,\n",
       "           0.14414,     0.14515,     0.14615,     0.14715,     0.14815,     0.14915,     0.15015,     0.15115,     0.15215,     0.15315,     0.15415,     0.15516,     0.15616,     0.15716,     0.15816,     0.15916,     0.16016,     0.16116,     0.16216,     0.16316,     0.16416,     0.16517,     0.16617,     0.16717,\n",
       "           0.16817,     0.16917,     0.17017,     0.17117,     0.17217,     0.17317,     0.17417,     0.17518,     0.17618,     0.17718,     0.17818,     0.17918,     0.18018,     0.18118,     0.18218,     0.18318,     0.18418,     0.18519,     0.18619,     0.18719,     0.18819,     0.18919,     0.19019,     0.19119,\n",
       "           0.19219,     0.19319,     0.19419,      0.1952,      0.1962,      0.1972,      0.1982,      0.1992,      0.2002,      0.2012,      0.2022,      0.2032,      0.2042,     0.20521,     0.20621,     0.20721,     0.20821,     0.20921,     0.21021,     0.21121,     0.21221,     0.21321,     0.21421,     0.21522,\n",
       "           0.21622,     0.21722,     0.21822,     0.21922,     0.22022,     0.22122,     0.22222,     0.22322,     0.22422,     0.22523,     0.22623,     0.22723,     0.22823,     0.22923,     0.23023,     0.23123,     0.23223,     0.23323,     0.23423,     0.23524,     0.23624,     0.23724,     0.23824,     0.23924,\n",
       "           0.24024,     0.24124,     0.24224,     0.24324,     0.24424,     0.24525,     0.24625,     0.24725,     0.24825,     0.24925,     0.25025,     0.25125,     0.25225,     0.25325,     0.25425,     0.25526,     0.25626,     0.25726,     0.25826,     0.25926,     0.26026,     0.26126,     0.26226,     0.26326,\n",
       "           0.26426,     0.26527,     0.26627,     0.26727,     0.26827,     0.26927,     0.27027,     0.27127,     0.27227,     0.27327,     0.27427,     0.27528,     0.27628,     0.27728,     0.27828,     0.27928,     0.28028,     0.28128,     0.28228,     0.28328,     0.28428,     0.28529,     0.28629,     0.28729,\n",
       "           0.28829,     0.28929,     0.29029,     0.29129,     0.29229,     0.29329,     0.29429,      0.2953,      0.2963,      0.2973,      0.2983,      0.2993,      0.3003,      0.3013,      0.3023,      0.3033,      0.3043,     0.30531,     0.30631,     0.30731,     0.30831,     0.30931,     0.31031,     0.31131,\n",
       "           0.31231,     0.31331,     0.31431,     0.31532,     0.31632,     0.31732,     0.31832,     0.31932,     0.32032,     0.32132,     0.32232,     0.32332,     0.32432,     0.32533,     0.32633,     0.32733,     0.32833,     0.32933,     0.33033,     0.33133,     0.33233,     0.33333,     0.33433,     0.33534,\n",
       "           0.33634,     0.33734,     0.33834,     0.33934,     0.34034,     0.34134,     0.34234,     0.34334,     0.34434,     0.34535,     0.34635,     0.34735,     0.34835,     0.34935,     0.35035,     0.35135,     0.35235,     0.35335,     0.35435,     0.35536,     0.35636,     0.35736,     0.35836,     0.35936,\n",
       "           0.36036,     0.36136,     0.36236,     0.36336,     0.36436,     0.36537,     0.36637,     0.36737,     0.36837,     0.36937,     0.37037,     0.37137,     0.37237,     0.37337,     0.37437,     0.37538,     0.37638,     0.37738,     0.37838,     0.37938,     0.38038,     0.38138,     0.38238,     0.38338,\n",
       "           0.38438,     0.38539,     0.38639,     0.38739,     0.38839,     0.38939,     0.39039,     0.39139,     0.39239,     0.39339,     0.39439,      0.3954,      0.3964,      0.3974,      0.3984,      0.3994,      0.4004,      0.4014,      0.4024,      0.4034,      0.4044,     0.40541,     0.40641,     0.40741,\n",
       "           0.40841,     0.40941,     0.41041,     0.41141,     0.41241,     0.41341,     0.41441,     0.41542,     0.41642,     0.41742,     0.41842,     0.41942,     0.42042,     0.42142,     0.42242,     0.42342,     0.42442,     0.42543,     0.42643,     0.42743,     0.42843,     0.42943,     0.43043,     0.43143,\n",
       "           0.43243,     0.43343,     0.43443,     0.43544,     0.43644,     0.43744,     0.43844,     0.43944,     0.44044,     0.44144,     0.44244,     0.44344,     0.44444,     0.44545,     0.44645,     0.44745,     0.44845,     0.44945,     0.45045,     0.45145,     0.45245,     0.45345,     0.45445,     0.45546,\n",
       "           0.45646,     0.45746,     0.45846,     0.45946,     0.46046,     0.46146,     0.46246,     0.46346,     0.46446,     0.46547,     0.46647,     0.46747,     0.46847,     0.46947,     0.47047,     0.47147,     0.47247,     0.47347,     0.47447,     0.47548,     0.47648,     0.47748,     0.47848,     0.47948,\n",
       "           0.48048,     0.48148,     0.48248,     0.48348,     0.48448,     0.48549,     0.48649,     0.48749,     0.48849,     0.48949,     0.49049,     0.49149,     0.49249,     0.49349,     0.49449,      0.4955,      0.4965,      0.4975,      0.4985,      0.4995,      0.5005,      0.5015,      0.5025,      0.5035,\n",
       "            0.5045,     0.50551,     0.50651,     0.50751,     0.50851,     0.50951,     0.51051,     0.51151,     0.51251,     0.51351,     0.51451,     0.51552,     0.51652,     0.51752,     0.51852,     0.51952,     0.52052,     0.52152,     0.52252,     0.52352,     0.52452,     0.52553,     0.52653,     0.52753,\n",
       "           0.52853,     0.52953,     0.53053,     0.53153,     0.53253,     0.53353,     0.53453,     0.53554,     0.53654,     0.53754,     0.53854,     0.53954,     0.54054,     0.54154,     0.54254,     0.54354,     0.54454,     0.54555,     0.54655,     0.54755,     0.54855,     0.54955,     0.55055,     0.55155,\n",
       "           0.55255,     0.55355,     0.55455,     0.55556,     0.55656,     0.55756,     0.55856,     0.55956,     0.56056,     0.56156,     0.56256,     0.56356,     0.56456,     0.56557,     0.56657,     0.56757,     0.56857,     0.56957,     0.57057,     0.57157,     0.57257,     0.57357,     0.57457,     0.57558,\n",
       "           0.57658,     0.57758,     0.57858,     0.57958,     0.58058,     0.58158,     0.58258,     0.58358,     0.58458,     0.58559,     0.58659,     0.58759,     0.58859,     0.58959,     0.59059,     0.59159,     0.59259,     0.59359,     0.59459,      0.5956,      0.5966,      0.5976,      0.5986,      0.5996,\n",
       "            0.6006,      0.6016,      0.6026,      0.6036,      0.6046,     0.60561,     0.60661,     0.60761,     0.60861,     0.60961,     0.61061,     0.61161,     0.61261,     0.61361,     0.61461,     0.61562,     0.61662,     0.61762,     0.61862,     0.61962,     0.62062,     0.62162,     0.62262,     0.62362,\n",
       "           0.62462,     0.62563,     0.62663,     0.62763,     0.62863,     0.62963,     0.63063,     0.63163,     0.63263,     0.63363,     0.63463,     0.63564,     0.63664,     0.63764,     0.63864,     0.63964,     0.64064,     0.64164,     0.64264,     0.64364,     0.64464,     0.64565,     0.64665,     0.64765,\n",
       "           0.64865,     0.64965,     0.65065,     0.65165,     0.65265,     0.65365,     0.65465,     0.65566,     0.65666,     0.65766,     0.65866,     0.65966,     0.66066,     0.66166,     0.66266,     0.66366,     0.66466,     0.66567,     0.66667,     0.66767,     0.66867,     0.66967,     0.67067,     0.67167,\n",
       "           0.67267,     0.67367,     0.67467,     0.67568,     0.67668,     0.67768,     0.67868,     0.67968,     0.68068,     0.68168,     0.68268,     0.68368,     0.68468,     0.68569,     0.68669,     0.68769,     0.68869,     0.68969,     0.69069,     0.69169,     0.69269,     0.69369,     0.69469,      0.6957,\n",
       "            0.6967,      0.6977,      0.6987,      0.6997,      0.7007,      0.7017,      0.7027,      0.7037,      0.7047,     0.70571,     0.70671,     0.70771,     0.70871,     0.70971,     0.71071,     0.71171,     0.71271,     0.71371,     0.71471,     0.71572,     0.71672,     0.71772,     0.71872,     0.71972,\n",
       "           0.72072,     0.72172,     0.72272,     0.72372,     0.72472,     0.72573,     0.72673,     0.72773,     0.72873,     0.72973,     0.73073,     0.73173,     0.73273,     0.73373,     0.73473,     0.73574,     0.73674,     0.73774,     0.73874,     0.73974,     0.74074,     0.74174,     0.74274,     0.74374,\n",
       "           0.74474,     0.74575,     0.74675,     0.74775,     0.74875,     0.74975,     0.75075,     0.75175,     0.75275,     0.75375,     0.75475,     0.75576,     0.75676,     0.75776,     0.75876,     0.75976,     0.76076,     0.76176,     0.76276,     0.76376,     0.76476,     0.76577,     0.76677,     0.76777,\n",
       "           0.76877,     0.76977,     0.77077,     0.77177,     0.77277,     0.77377,     0.77477,     0.77578,     0.77678,     0.77778,     0.77878,     0.77978,     0.78078,     0.78178,     0.78278,     0.78378,     0.78478,     0.78579,     0.78679,     0.78779,     0.78879,     0.78979,     0.79079,     0.79179,\n",
       "           0.79279,     0.79379,     0.79479,      0.7958,      0.7968,      0.7978,      0.7988,      0.7998,      0.8008,      0.8018,      0.8028,      0.8038,      0.8048,     0.80581,     0.80681,     0.80781,     0.80881,     0.80981,     0.81081,     0.81181,     0.81281,     0.81381,     0.81481,     0.81582,\n",
       "           0.81682,     0.81782,     0.81882,     0.81982,     0.82082,     0.82182,     0.82282,     0.82382,     0.82482,     0.82583,     0.82683,     0.82783,     0.82883,     0.82983,     0.83083,     0.83183,     0.83283,     0.83383,     0.83483,     0.83584,     0.83684,     0.83784,     0.83884,     0.83984,\n",
       "           0.84084,     0.84184,     0.84284,     0.84384,     0.84484,     0.84585,     0.84685,     0.84785,     0.84885,     0.84985,     0.85085,     0.85185,     0.85285,     0.85385,     0.85485,     0.85586,     0.85686,     0.85786,     0.85886,     0.85986,     0.86086,     0.86186,     0.86286,     0.86386,\n",
       "           0.86486,     0.86587,     0.86687,     0.86787,     0.86887,     0.86987,     0.87087,     0.87187,     0.87287,     0.87387,     0.87487,     0.87588,     0.87688,     0.87788,     0.87888,     0.87988,     0.88088,     0.88188,     0.88288,     0.88388,     0.88488,     0.88589,     0.88689,     0.88789,\n",
       "           0.88889,     0.88989,     0.89089,     0.89189,     0.89289,     0.89389,     0.89489,      0.8959,      0.8969,      0.8979,      0.8989,      0.8999,      0.9009,      0.9019,      0.9029,      0.9039,      0.9049,     0.90591,     0.90691,     0.90791,     0.90891,     0.90991,     0.91091,     0.91191,\n",
       "           0.91291,     0.91391,     0.91491,     0.91592,     0.91692,     0.91792,     0.91892,     0.91992,     0.92092,     0.92192,     0.92292,     0.92392,     0.92492,     0.92593,     0.92693,     0.92793,     0.92893,     0.92993,     0.93093,     0.93193,     0.93293,     0.93393,     0.93493,     0.93594,\n",
       "           0.93694,     0.93794,     0.93894,     0.93994,     0.94094,     0.94194,     0.94294,     0.94394,     0.94494,     0.94595,     0.94695,     0.94795,     0.94895,     0.94995,     0.95095,     0.95195,     0.95295,     0.95395,     0.95495,     0.95596,     0.95696,     0.95796,     0.95896,     0.95996,\n",
       "           0.96096,     0.96196,     0.96296,     0.96396,     0.96496,     0.96597,     0.96697,     0.96797,     0.96897,     0.96997,     0.97097,     0.97197,     0.97297,     0.97397,     0.97497,     0.97598,     0.97698,     0.97798,     0.97898,     0.97998,     0.98098,     0.98198,     0.98298,     0.98398,\n",
       "           0.98498,     0.98599,     0.98699,     0.98799,     0.98899,     0.98999,     0.99099,     0.99199,     0.99299,     0.99399,     0.99499,       0.996,       0.997,       0.998,       0.999,           1]), array([[    0.93048,     0.93048,     0.93048,     0.93048,     0.93048,     0.93048,     0.93048,     0.92513,     0.91444,     0.91444,     0.91444,     0.91444,     0.91444,     0.91444,     0.91444,     0.91444,     0.91444,     0.91444,     0.91444,     0.91444,     0.91444,     0.91444,     0.91444,\n",
       "            0.91444,     0.91444,     0.90909,     0.90657,     0.90374,     0.90374,     0.90374,     0.90374,     0.90374,     0.90374,     0.90374,     0.90374,     0.90374,     0.90374,     0.90374,     0.90374,     0.90374,     0.90374,     0.90374,     0.90374,     0.90374,     0.90374,     0.90374,\n",
       "            0.90374,     0.90374,     0.90374,     0.90374,     0.90374,     0.90374,     0.90374,     0.90374,     0.90374,     0.90374,     0.90374,     0.90374,     0.90374,     0.90374,     0.90374,     0.90374,     0.90374,     0.90374,     0.90374,     0.90374,     0.90374,     0.90374,     0.90374,\n",
       "            0.90374,     0.90374,     0.90374,     0.90374,     0.90374,     0.90374,     0.90374,     0.90374,     0.90374,     0.90374,     0.90374,     0.90374,     0.90374,     0.90374,     0.90374,     0.90374,     0.90374,     0.90345,     0.90008,      0.8984,      0.8984,      0.8984,      0.8984,\n",
       "             0.8984,      0.8984,      0.8984,     0.89738,     0.89573,     0.89407,     0.89305,     0.89102,     0.88788,      0.8877,      0.8877,      0.8877,      0.8877,      0.8877,      0.8877,      0.8877,      0.8877,      0.8877,      0.8877,      0.8877,      0.8877,      0.8877,      0.8877,\n",
       "             0.8877,      0.8877,      0.8877,      0.8877,      0.8877,      0.8877,      0.8877,      0.8877,      0.8877,      0.8877,      0.8877,      0.8877,      0.8877,      0.8877,      0.8877,      0.8877,     0.88594,     0.88395,     0.88018,     0.87701,     0.87701,     0.87701,     0.87701,\n",
       "            0.87701,     0.87701,     0.87701,     0.87701,     0.87701,     0.87701,     0.87573,     0.87298,     0.87166,     0.87166,     0.87166,     0.87166,     0.87166,     0.87166,     0.87166,     0.87166,     0.87166,     0.87166,     0.87166,     0.87166,     0.87166,     0.87166,     0.87166,\n",
       "            0.87166,     0.87166,     0.87166,     0.87166,     0.87166,     0.87162,     0.87041,     0.86919,     0.86797,     0.86675,     0.86631,     0.86631,     0.86631,     0.86631,     0.86631,     0.86631,     0.86631,     0.86631,     0.86631,     0.86631,     0.86631,     0.86631,     0.86631,\n",
       "            0.86631,     0.86631,     0.86631,     0.86631,     0.86631,     0.86631,     0.86631,     0.86404,     0.86096,     0.86096,     0.86096,     0.86096,     0.86096,     0.86096,     0.86096,     0.86096,     0.86096,     0.86096,     0.86096,     0.86085,     0.85944,     0.85802,     0.85661,\n",
       "            0.85561,     0.85561,     0.85561,     0.85561,     0.85561,     0.85561,     0.85561,     0.85561,     0.85561,     0.85561,     0.85561,     0.85561,     0.85561,     0.85561,     0.85561,     0.85561,     0.85561,     0.85561,     0.85561,     0.85561,     0.85561,     0.85561,     0.85561,\n",
       "            0.85561,     0.85561,     0.85561,     0.85561,     0.85561,     0.85021,      0.8498,     0.84939,     0.84897,     0.84856,     0.84815,     0.84773,     0.84732,     0.84691,     0.84649,     0.84608,     0.84566,     0.84525,     0.84492,     0.84492,     0.84492,     0.84492,     0.84492,\n",
       "            0.84492,     0.84492,     0.84492,      0.8438,      0.8365,     0.83422,     0.83422,     0.83422,     0.83422,     0.83422,     0.83422,     0.83422,     0.83422,     0.83422,     0.83422,     0.83422,     0.83422,     0.83422,     0.83422,     0.83422,     0.83422,     0.83422,     0.83422,\n",
       "            0.83422,     0.83422,     0.83422,     0.83422,     0.83422,     0.83422,     0.83422,     0.83422,     0.83422,     0.83422,     0.83422,     0.83422,     0.83422,     0.83422,     0.83422,     0.83422,     0.83422,     0.83422,     0.83422,     0.83422,     0.83422,     0.83422,     0.83422,\n",
       "            0.83422,     0.83422,     0.83422,     0.83422,     0.83422,     0.83422,     0.83382,     0.83272,     0.83162,     0.83053,     0.82943,     0.82888,     0.82888,     0.82888,     0.82888,     0.82888,     0.82888,     0.82787,     0.82631,     0.82474,     0.82353,     0.82353,     0.82353,\n",
       "            0.82353,     0.82353,     0.82353,     0.82353,     0.82353,     0.82353,     0.82353,     0.82353,     0.82353,     0.82353,     0.82353,     0.82353,     0.82353,     0.82353,     0.82353,     0.82353,     0.82353,     0.82353,     0.82353,     0.82353,     0.82353,     0.82353,     0.82353,\n",
       "            0.82353,     0.82353,     0.82353,     0.82353,     0.82353,     0.82353,     0.82353,     0.82353,     0.82353,     0.82353,     0.82353,     0.82353,     0.82353,     0.82353,     0.82353,     0.82353,     0.82353,     0.82353,     0.82353,     0.82324,     0.82275,     0.82227,     0.82178,\n",
       "            0.82129,      0.8208,     0.82032,     0.81983,     0.81934,     0.81885,     0.81837,     0.81283,     0.81283,     0.81283,     0.81283,     0.81283,     0.81283,     0.81283,     0.81283,     0.81283,     0.81283,     0.81283,     0.81283,     0.81283,     0.81283,     0.81283,     0.81283,\n",
       "            0.81283,     0.81283,     0.81278,     0.81214,     0.81149,     0.81085,      0.8102,     0.80956,     0.80891,     0.80827,     0.80762,     0.80749,     0.80749,     0.80749,     0.80749,     0.80749,     0.80749,     0.80749,     0.80749,     0.80749,     0.80749,     0.80749,     0.80749,\n",
       "            0.80749,     0.80214,     0.80214,     0.80031,     0.79757,     0.79621,      0.7954,     0.79458,     0.79377,     0.79296,     0.79215,     0.79144,     0.79144,     0.79144,     0.79144,     0.79144,     0.79144,     0.79144,     0.79144,     0.78965,      0.7861,      0.7861,      0.7861,\n",
       "             0.7861,      0.7861,      0.7861,      0.7861,      0.7861,      0.7861,      0.7861,      0.7861,     0.78373,     0.78099,     0.78075,     0.78075,     0.78075,     0.78075,     0.78075,     0.78075,     0.78075,     0.77506,     0.77193,     0.76978,     0.76909,     0.76841,     0.76772,\n",
       "            0.76704,     0.76635,     0.76567,     0.76498,     0.76389,     0.76252,     0.76115,     0.75978,     0.75936,     0.75936,     0.75936,     0.75936,     0.75936,     0.75936,     0.75936,     0.75857,     0.75765,     0.75674,     0.75583,     0.75491,     0.75395,     0.74866,     0.74866,\n",
       "            0.74866,     0.74866,     0.74866,     0.74866,     0.74866,     0.74828,     0.74646,     0.74463,     0.74332,     0.74332,     0.74332,     0.74332,     0.74332,     0.74332,     0.74332,     0.74332,     0.74332,     0.74332,     0.74332,     0.74332,     0.74332,     0.74332,     0.74332,\n",
       "            0.74332,     0.74332,     0.74332,     0.74332,     0.74264,     0.74172,     0.74081,     0.73989,     0.73898,     0.73807,     0.73634,     0.73451,     0.73269,     0.72998,     0.72727,     0.72727,     0.72727,     0.72727,     0.72712,     0.72575,     0.72438,     0.72301,     0.72193,\n",
       "            0.72193,     0.72193,     0.72193,     0.72193,     0.72193,     0.72193,     0.72193,     0.72193,     0.72193,     0.72193,     0.72193,     0.72193,     0.72193,     0.72193,     0.72193,     0.72193,     0.72193,     0.72193,     0.72193,     0.72193,     0.72193,     0.72193,     0.72193,\n",
       "            0.72168,     0.72136,     0.72105,     0.72074,     0.72042,     0.72011,      0.7198,     0.71948,     0.71917,     0.71886,     0.71854,     0.71823,     0.71792,      0.7176,     0.71729,     0.71698,     0.71666,     0.71658,     0.71658,     0.71658,     0.71658,     0.71658,     0.71658,\n",
       "            0.71658,     0.71658,     0.71658,     0.71658,     0.71658,     0.71658,     0.71658,     0.71658,     0.71658,     0.71658,     0.71658,     0.70768,     0.70547,     0.70486,     0.70425,     0.70365,     0.70304,     0.70243,     0.70182,     0.70121,      0.7006,     0.70053,     0.70053,\n",
       "            0.70053,     0.69966,     0.69783,     0.69601,     0.69464,     0.69364,     0.69264,     0.69165,     0.69065,     0.68984,     0.68984,     0.68984,     0.68984,     0.68984,     0.68984,     0.68984,     0.68984,     0.68924,     0.68768,     0.68611,     0.68454,      0.6792,     0.67914,\n",
       "            0.67914,     0.67914,     0.67914,     0.67914,     0.67914,     0.67877,     0.67819,     0.67762,     0.67704,     0.67646,     0.67588,     0.67531,     0.67473,     0.67415,      0.6738,      0.6738,     0.66751,     0.66531,     0.66312,     0.66038,     0.65772,     0.65699,     0.65626,\n",
       "            0.65553,      0.6548,     0.65407,     0.65334,     0.65261,     0.65175,     0.65083,     0.64992,     0.64901,     0.64809,     0.64718,     0.64468,     0.64193,     0.64059,     0.63937,     0.63816,     0.63694,     0.63065,     0.62997,     0.62928,      0.6286,     0.62791,     0.62723,\n",
       "            0.62654,     0.62586,     0.62479,     0.62357,     0.62235,     0.62113,     0.61666,     0.61365,     0.61208,     0.61052,      0.6094,     0.60888,     0.60836,     0.60783,     0.60731,     0.60679,     0.60627,     0.60575,     0.60522,      0.6047,     0.60325,      0.5986,     0.59703,\n",
       "            0.59547,      0.5939,     0.58532,     0.58289,     0.58289,     0.58289,     0.58289,     0.58289,     0.58289,     0.58289,     0.58285,     0.58066,     0.57847,     0.57663,     0.57507,      0.5735,     0.56684,     0.56684,     0.56684,     0.56684,     0.56684,     0.56684,     0.56684,\n",
       "            0.56459,     0.56185,     0.55831,     0.55466,     0.55101,     0.54735,     0.54493,     0.54383,     0.54273,     0.54164,     0.54054,     0.53901,     0.53718,     0.53535,     0.53229,     0.51859,     0.51798,     0.51737,     0.51676,     0.51615,     0.51554,     0.51493,     0.51432,\n",
       "            0.51371,     0.50863,     0.49922,      0.4968,      0.4957,     0.49461,     0.49351,     0.49241,     0.48977,     0.48637,     0.48455,     0.48272,     0.46446,     0.46081,      0.4518,     0.44363,     0.44284,     0.44206,     0.44128,     0.44049,     0.43971,     0.43893,     0.43683,\n",
       "            0.43318,     0.43243,      0.4317,     0.43097,     0.43024,     0.42951,     0.42877,     0.42804,     0.42533,     0.42217,      0.4208,     0.41943,     0.41806,     0.41597,     0.41232,     0.41128,      0.4107,     0.41012,     0.40954,     0.40897,     0.40839,     0.40781,     0.40724,\n",
       "            0.40666,      0.4043,     0.40064,     0.39699,     0.39429,      0.3921,     0.39031,        0.39,      0.3897,      0.3894,     0.38909,     0.38879,     0.38848,     0.38818,     0.38787,     0.38757,     0.38726,     0.38696,     0.38665,     0.38635,     0.38605,     0.38574,     0.38544,\n",
       "            0.38513,     0.38431,     0.38321,     0.38212,     0.38102,     0.37992,     0.37846,      0.3769,     0.37533,     0.37334,      0.3706,     0.36873,     0.36813,     0.36752,     0.36691,      0.3663,     0.36569,     0.36508,     0.36447,     0.36386,     0.35829,     0.35829,     0.35829,\n",
       "            0.35829,     0.35829,     0.35829,     0.35829,     0.35829,     0.35829,     0.35363,     0.35188,     0.35066,     0.34944,     0.34822,     0.34706,     0.34597,     0.34487,     0.34377,     0.34268,     0.34142,     0.34005,     0.33867,      0.3373,     0.33536,     0.33316,     0.32584,\n",
       "            0.32447,      0.3231,     0.32173,     0.32036,     0.31899,     0.31762,     0.31625,     0.31383,     0.31017,     0.30907,     0.30797,     0.30688,     0.30578,     0.30351,     0.29808,     0.29589,     0.29382,     0.29225,     0.29068,     0.28912,     0.26989,     0.26088,     0.25723,\n",
       "            0.25606,     0.25533,      0.2546,     0.25387,     0.25314,     0.25241,     0.25168,     0.25075,     0.24966,     0.24856,     0.24746,     0.24637,      0.2317,     0.22933,     0.22841,      0.2275,     0.22658,     0.22567,     0.22476,     0.22233,     0.21959,     0.21605,     0.20939,\n",
       "            0.20788,     0.20715,     0.20642,     0.20569,     0.20496,     0.20423,      0.2035,     0.19655,     0.18664,     0.18299,     0.17809,     0.17592,     0.17514,     0.17435,     0.17357,     0.17279,       0.172,     0.17122,     0.16007,     0.15916,     0.15825,     0.15733,     0.15642,\n",
       "            0.15551,      0.1496,     0.14686,     0.14418,     0.14198,     0.13979,     0.13664,     0.13316,     0.13042,     0.12569,     0.11599,      0.1138,     0.11057,     0.10036,    0.096708,    0.093054,    0.089777,    0.087036,    0.085101,    0.084105,    0.083108,    0.082111,    0.081115,\n",
       "           0.079687,    0.074536,    0.071795,    0.069209,    0.067382,    0.065555,    0.063284,     0.05963,    0.051767,    0.049575,    0.046263,    0.041981,    0.039788,    0.037596,    0.035403,    0.033211,    0.030751,    0.028011,    0.026151,    0.025054,    0.023958,    0.022862,    0.021766,\n",
       "           0.020735,    0.019738,    0.018742,    0.017745,    0.016748,    0.015509,    0.013682,    0.011855,    0.010028,   0.0082007,   0.0063736,           0,           0,           0,           0,           0,           0,           0,           0,           0,           0,           0,           0,\n",
       "                  0,           0,           0,           0,           0,           0,           0,           0,           0,           0,           0]]), 'Confidence', 'Recall']]\n",
       "fitness: 0.5858712485899078\n",
       "keys: ['metrics/precision(B)', 'metrics/recall(B)', 'metrics/mAP50(B)', 'metrics/mAP50-95(B)']\n",
       "maps: array([    0.55417])\n",
       "names: {0: 'block'}\n",
       "nt_per_class: array([187], dtype=int64)\n",
       "nt_per_image: array([26], dtype=int64)\n",
       "results_dict: {'metrics/precision(B)': 0.8572677594249243, 'metrics/recall(B)': 0.8074866310160428, 'metrics/mAP50(B)': 0.8711739142466715, 'metrics/mAP50-95(B)': 0.5541709524058229, 'fitness': 0.5858712485899078}\n",
       "save_dir: WindowsPath('runs/detect/train16')\n",
       "speed: {'preprocess': 0.17737307643983513, 'inference': 0.989750000791481, 'loss': 0.0005500008298370701, 'postprocess': 1.0098961546855907}\n",
       "stats: {'tp': [], 'conf': [], 'pred_cls': [], 'target_cls': [], 'target_img': []}\n",
       "task: 'detect'"
      ]
     },
     "execution_count": 5,
     "metadata": {},
     "output_type": "execute_result"
    }
   ],
   "source": [
    "model.train(data=\"block_data/data.yaml\", epochs=50, imgsz=416, batch=8, device=0)"
   ]
  },
  {
   "cell_type": "code",
   "execution_count": null,
   "id": "a0de0025",
   "metadata": {},
   "outputs": [],
   "source": [
    "runs\\detect\\train16"
   ]
  },
  {
   "cell_type": "code",
   "execution_count": 15,
   "id": "3e21fb7a",
   "metadata": {},
   "outputs": [
    {
     "name": "stdout",
     "output_type": "stream",
     "text": [
      "\n",
      "image 1/1 e:\\\\\\SMT\\yolo_roadblock\\block_data\\images\\test\\test_image.jpg: 416x320 3 blocks, 17.3ms\n",
      "Speed: 1.8ms preprocess, 17.3ms inference, 7.5ms postprocess per image at shape (1, 3, 416, 320)\n",
      "Ultralytics 8.3.166  Python-3.10.11 torch-2.7.1+cu126 CUDA:0 (NVIDIA GeForce RTX 3060 Laptop GPU, 6144MiB)\n",
      "\u001b[34m\u001b[1mval: \u001b[0mFast image access  (ping: 0.10.0 ms, read: 136.467.8 MB/s, size: 119.1 KB)\n"
     ]
    },
    {
     "name": "stderr",
     "output_type": "stream",
     "text": [
      "\u001b[34m\u001b[1mval: \u001b[0mScanning E:\\杂项\\实习经历\\SMT\\yolo_roadblock\\block_data\\labels\\val.cache... 26 images, 0 backgrounds, 0 corrupt: 100%|██████████| 26/26 [00:00<?, ?it/s]\n",
      "                 Class     Images  Instances      Box(P          R      mAP50  mAP50-95): 100%|██████████| 2/2 [00:02<00:00,  1.15s/it]\n"
     ]
    },
    {
     "name": "stdout",
     "output_type": "stream",
     "text": [
      "                   all         26        187      0.861      0.813      0.874      0.551\n",
      "Speed: 1.3ms preprocess, 15.2ms inference, 0.0ms loss, 1.0ms postprocess per image\n",
      "Results saved to \u001b[1mruns\\detect\\val\u001b[0m\n"
     ]
    },
    {
     "data": {
      "text/plain": [
       "ultralytics.utils.metrics.DetMetrics object with attributes:\n",
       "\n",
       "ap_class_index: array([0])\n",
       "box: ultralytics.utils.metrics.Metric object\n",
       "confusion_matrix: <ultralytics.utils.metrics.ConfusionMatrix object at 0x000001242BD8AD10>\n",
       "curves: ['Precision-Recall(B)', 'F1-Confidence(B)', 'Precision-Confidence(B)', 'Recall-Confidence(B)']\n",
       "curves_results: [[array([          0,    0.001001,    0.002002,    0.003003,    0.004004,    0.005005,    0.006006,    0.007007,    0.008008,    0.009009,     0.01001,    0.011011,    0.012012,    0.013013,    0.014014,    0.015015,    0.016016,    0.017017,    0.018018,    0.019019,     0.02002,    0.021021,    0.022022,    0.023023,\n",
       "          0.024024,    0.025025,    0.026026,    0.027027,    0.028028,    0.029029,     0.03003,    0.031031,    0.032032,    0.033033,    0.034034,    0.035035,    0.036036,    0.037037,    0.038038,    0.039039,     0.04004,    0.041041,    0.042042,    0.043043,    0.044044,    0.045045,    0.046046,    0.047047,\n",
       "          0.048048,    0.049049,     0.05005,    0.051051,    0.052052,    0.053053,    0.054054,    0.055055,    0.056056,    0.057057,    0.058058,    0.059059,     0.06006,    0.061061,    0.062062,    0.063063,    0.064064,    0.065065,    0.066066,    0.067067,    0.068068,    0.069069,     0.07007,    0.071071,\n",
       "          0.072072,    0.073073,    0.074074,    0.075075,    0.076076,    0.077077,    0.078078,    0.079079,     0.08008,    0.081081,    0.082082,    0.083083,    0.084084,    0.085085,    0.086086,    0.087087,    0.088088,    0.089089,     0.09009,    0.091091,    0.092092,    0.093093,    0.094094,    0.095095,\n",
       "          0.096096,    0.097097,    0.098098,    0.099099,      0.1001,      0.1011,      0.1021,      0.1031,      0.1041,     0.10511,     0.10611,     0.10711,     0.10811,     0.10911,     0.11011,     0.11111,     0.11211,     0.11311,     0.11411,     0.11512,     0.11612,     0.11712,     0.11812,     0.11912,\n",
       "           0.12012,     0.12112,     0.12212,     0.12312,     0.12412,     0.12513,     0.12613,     0.12713,     0.12813,     0.12913,     0.13013,     0.13113,     0.13213,     0.13313,     0.13413,     0.13514,     0.13614,     0.13714,     0.13814,     0.13914,     0.14014,     0.14114,     0.14214,     0.14314,\n",
       "           0.14414,     0.14515,     0.14615,     0.14715,     0.14815,     0.14915,     0.15015,     0.15115,     0.15215,     0.15315,     0.15415,     0.15516,     0.15616,     0.15716,     0.15816,     0.15916,     0.16016,     0.16116,     0.16216,     0.16316,     0.16416,     0.16517,     0.16617,     0.16717,\n",
       "           0.16817,     0.16917,     0.17017,     0.17117,     0.17217,     0.17317,     0.17417,     0.17518,     0.17618,     0.17718,     0.17818,     0.17918,     0.18018,     0.18118,     0.18218,     0.18318,     0.18418,     0.18519,     0.18619,     0.18719,     0.18819,     0.18919,     0.19019,     0.19119,\n",
       "           0.19219,     0.19319,     0.19419,      0.1952,      0.1962,      0.1972,      0.1982,      0.1992,      0.2002,      0.2012,      0.2022,      0.2032,      0.2042,     0.20521,     0.20621,     0.20721,     0.20821,     0.20921,     0.21021,     0.21121,     0.21221,     0.21321,     0.21421,     0.21522,\n",
       "           0.21622,     0.21722,     0.21822,     0.21922,     0.22022,     0.22122,     0.22222,     0.22322,     0.22422,     0.22523,     0.22623,     0.22723,     0.22823,     0.22923,     0.23023,     0.23123,     0.23223,     0.23323,     0.23423,     0.23524,     0.23624,     0.23724,     0.23824,     0.23924,\n",
       "           0.24024,     0.24124,     0.24224,     0.24324,     0.24424,     0.24525,     0.24625,     0.24725,     0.24825,     0.24925,     0.25025,     0.25125,     0.25225,     0.25325,     0.25425,     0.25526,     0.25626,     0.25726,     0.25826,     0.25926,     0.26026,     0.26126,     0.26226,     0.26326,\n",
       "           0.26426,     0.26527,     0.26627,     0.26727,     0.26827,     0.26927,     0.27027,     0.27127,     0.27227,     0.27327,     0.27427,     0.27528,     0.27628,     0.27728,     0.27828,     0.27928,     0.28028,     0.28128,     0.28228,     0.28328,     0.28428,     0.28529,     0.28629,     0.28729,\n",
       "           0.28829,     0.28929,     0.29029,     0.29129,     0.29229,     0.29329,     0.29429,      0.2953,      0.2963,      0.2973,      0.2983,      0.2993,      0.3003,      0.3013,      0.3023,      0.3033,      0.3043,     0.30531,     0.30631,     0.30731,     0.30831,     0.30931,     0.31031,     0.31131,\n",
       "           0.31231,     0.31331,     0.31431,     0.31532,     0.31632,     0.31732,     0.31832,     0.31932,     0.32032,     0.32132,     0.32232,     0.32332,     0.32432,     0.32533,     0.32633,     0.32733,     0.32833,     0.32933,     0.33033,     0.33133,     0.33233,     0.33333,     0.33433,     0.33534,\n",
       "           0.33634,     0.33734,     0.33834,     0.33934,     0.34034,     0.34134,     0.34234,     0.34334,     0.34434,     0.34535,     0.34635,     0.34735,     0.34835,     0.34935,     0.35035,     0.35135,     0.35235,     0.35335,     0.35435,     0.35536,     0.35636,     0.35736,     0.35836,     0.35936,\n",
       "           0.36036,     0.36136,     0.36236,     0.36336,     0.36436,     0.36537,     0.36637,     0.36737,     0.36837,     0.36937,     0.37037,     0.37137,     0.37237,     0.37337,     0.37437,     0.37538,     0.37638,     0.37738,     0.37838,     0.37938,     0.38038,     0.38138,     0.38238,     0.38338,\n",
       "           0.38438,     0.38539,     0.38639,     0.38739,     0.38839,     0.38939,     0.39039,     0.39139,     0.39239,     0.39339,     0.39439,      0.3954,      0.3964,      0.3974,      0.3984,      0.3994,      0.4004,      0.4014,      0.4024,      0.4034,      0.4044,     0.40541,     0.40641,     0.40741,\n",
       "           0.40841,     0.40941,     0.41041,     0.41141,     0.41241,     0.41341,     0.41441,     0.41542,     0.41642,     0.41742,     0.41842,     0.41942,     0.42042,     0.42142,     0.42242,     0.42342,     0.42442,     0.42543,     0.42643,     0.42743,     0.42843,     0.42943,     0.43043,     0.43143,\n",
       "           0.43243,     0.43343,     0.43443,     0.43544,     0.43644,     0.43744,     0.43844,     0.43944,     0.44044,     0.44144,     0.44244,     0.44344,     0.44444,     0.44545,     0.44645,     0.44745,     0.44845,     0.44945,     0.45045,     0.45145,     0.45245,     0.45345,     0.45445,     0.45546,\n",
       "           0.45646,     0.45746,     0.45846,     0.45946,     0.46046,     0.46146,     0.46246,     0.46346,     0.46446,     0.46547,     0.46647,     0.46747,     0.46847,     0.46947,     0.47047,     0.47147,     0.47247,     0.47347,     0.47447,     0.47548,     0.47648,     0.47748,     0.47848,     0.47948,\n",
       "           0.48048,     0.48148,     0.48248,     0.48348,     0.48448,     0.48549,     0.48649,     0.48749,     0.48849,     0.48949,     0.49049,     0.49149,     0.49249,     0.49349,     0.49449,      0.4955,      0.4965,      0.4975,      0.4985,      0.4995,      0.5005,      0.5015,      0.5025,      0.5035,\n",
       "            0.5045,     0.50551,     0.50651,     0.50751,     0.50851,     0.50951,     0.51051,     0.51151,     0.51251,     0.51351,     0.51451,     0.51552,     0.51652,     0.51752,     0.51852,     0.51952,     0.52052,     0.52152,     0.52252,     0.52352,     0.52452,     0.52553,     0.52653,     0.52753,\n",
       "           0.52853,     0.52953,     0.53053,     0.53153,     0.53253,     0.53353,     0.53453,     0.53554,     0.53654,     0.53754,     0.53854,     0.53954,     0.54054,     0.54154,     0.54254,     0.54354,     0.54454,     0.54555,     0.54655,     0.54755,     0.54855,     0.54955,     0.55055,     0.55155,\n",
       "           0.55255,     0.55355,     0.55455,     0.55556,     0.55656,     0.55756,     0.55856,     0.55956,     0.56056,     0.56156,     0.56256,     0.56356,     0.56456,     0.56557,     0.56657,     0.56757,     0.56857,     0.56957,     0.57057,     0.57157,     0.57257,     0.57357,     0.57457,     0.57558,\n",
       "           0.57658,     0.57758,     0.57858,     0.57958,     0.58058,     0.58158,     0.58258,     0.58358,     0.58458,     0.58559,     0.58659,     0.58759,     0.58859,     0.58959,     0.59059,     0.59159,     0.59259,     0.59359,     0.59459,      0.5956,      0.5966,      0.5976,      0.5986,      0.5996,\n",
       "            0.6006,      0.6016,      0.6026,      0.6036,      0.6046,     0.60561,     0.60661,     0.60761,     0.60861,     0.60961,     0.61061,     0.61161,     0.61261,     0.61361,     0.61461,     0.61562,     0.61662,     0.61762,     0.61862,     0.61962,     0.62062,     0.62162,     0.62262,     0.62362,\n",
       "           0.62462,     0.62563,     0.62663,     0.62763,     0.62863,     0.62963,     0.63063,     0.63163,     0.63263,     0.63363,     0.63463,     0.63564,     0.63664,     0.63764,     0.63864,     0.63964,     0.64064,     0.64164,     0.64264,     0.64364,     0.64464,     0.64565,     0.64665,     0.64765,\n",
       "           0.64865,     0.64965,     0.65065,     0.65165,     0.65265,     0.65365,     0.65465,     0.65566,     0.65666,     0.65766,     0.65866,     0.65966,     0.66066,     0.66166,     0.66266,     0.66366,     0.66466,     0.66567,     0.66667,     0.66767,     0.66867,     0.66967,     0.67067,     0.67167,\n",
       "           0.67267,     0.67367,     0.67467,     0.67568,     0.67668,     0.67768,     0.67868,     0.67968,     0.68068,     0.68168,     0.68268,     0.68368,     0.68468,     0.68569,     0.68669,     0.68769,     0.68869,     0.68969,     0.69069,     0.69169,     0.69269,     0.69369,     0.69469,      0.6957,\n",
       "            0.6967,      0.6977,      0.6987,      0.6997,      0.7007,      0.7017,      0.7027,      0.7037,      0.7047,     0.70571,     0.70671,     0.70771,     0.70871,     0.70971,     0.71071,     0.71171,     0.71271,     0.71371,     0.71471,     0.71572,     0.71672,     0.71772,     0.71872,     0.71972,\n",
       "           0.72072,     0.72172,     0.72272,     0.72372,     0.72472,     0.72573,     0.72673,     0.72773,     0.72873,     0.72973,     0.73073,     0.73173,     0.73273,     0.73373,     0.73473,     0.73574,     0.73674,     0.73774,     0.73874,     0.73974,     0.74074,     0.74174,     0.74274,     0.74374,\n",
       "           0.74474,     0.74575,     0.74675,     0.74775,     0.74875,     0.74975,     0.75075,     0.75175,     0.75275,     0.75375,     0.75475,     0.75576,     0.75676,     0.75776,     0.75876,     0.75976,     0.76076,     0.76176,     0.76276,     0.76376,     0.76476,     0.76577,     0.76677,     0.76777,\n",
       "           0.76877,     0.76977,     0.77077,     0.77177,     0.77277,     0.77377,     0.77477,     0.77578,     0.77678,     0.77778,     0.77878,     0.77978,     0.78078,     0.78178,     0.78278,     0.78378,     0.78478,     0.78579,     0.78679,     0.78779,     0.78879,     0.78979,     0.79079,     0.79179,\n",
       "           0.79279,     0.79379,     0.79479,      0.7958,      0.7968,      0.7978,      0.7988,      0.7998,      0.8008,      0.8018,      0.8028,      0.8038,      0.8048,     0.80581,     0.80681,     0.80781,     0.80881,     0.80981,     0.81081,     0.81181,     0.81281,     0.81381,     0.81481,     0.81582,\n",
       "           0.81682,     0.81782,     0.81882,     0.81982,     0.82082,     0.82182,     0.82282,     0.82382,     0.82482,     0.82583,     0.82683,     0.82783,     0.82883,     0.82983,     0.83083,     0.83183,     0.83283,     0.83383,     0.83483,     0.83584,     0.83684,     0.83784,     0.83884,     0.83984,\n",
       "           0.84084,     0.84184,     0.84284,     0.84384,     0.84484,     0.84585,     0.84685,     0.84785,     0.84885,     0.84985,     0.85085,     0.85185,     0.85285,     0.85385,     0.85485,     0.85586,     0.85686,     0.85786,     0.85886,     0.85986,     0.86086,     0.86186,     0.86286,     0.86386,\n",
       "           0.86486,     0.86587,     0.86687,     0.86787,     0.86887,     0.86987,     0.87087,     0.87187,     0.87287,     0.87387,     0.87487,     0.87588,     0.87688,     0.87788,     0.87888,     0.87988,     0.88088,     0.88188,     0.88288,     0.88388,     0.88488,     0.88589,     0.88689,     0.88789,\n",
       "           0.88889,     0.88989,     0.89089,     0.89189,     0.89289,     0.89389,     0.89489,      0.8959,      0.8969,      0.8979,      0.8989,      0.8999,      0.9009,      0.9019,      0.9029,      0.9039,      0.9049,     0.90591,     0.90691,     0.90791,     0.90891,     0.90991,     0.91091,     0.91191,\n",
       "           0.91291,     0.91391,     0.91491,     0.91592,     0.91692,     0.91792,     0.91892,     0.91992,     0.92092,     0.92192,     0.92292,     0.92392,     0.92492,     0.92593,     0.92693,     0.92793,     0.92893,     0.92993,     0.93093,     0.93193,     0.93293,     0.93393,     0.93493,     0.93594,\n",
       "           0.93694,     0.93794,     0.93894,     0.93994,     0.94094,     0.94194,     0.94294,     0.94394,     0.94494,     0.94595,     0.94695,     0.94795,     0.94895,     0.94995,     0.95095,     0.95195,     0.95295,     0.95395,     0.95495,     0.95596,     0.95696,     0.95796,     0.95896,     0.95996,\n",
       "           0.96096,     0.96196,     0.96296,     0.96396,     0.96496,     0.96597,     0.96697,     0.96797,     0.96897,     0.96997,     0.97097,     0.97197,     0.97297,     0.97397,     0.97497,     0.97598,     0.97698,     0.97798,     0.97898,     0.97998,     0.98098,     0.98198,     0.98298,     0.98398,\n",
       "           0.98498,     0.98599,     0.98699,     0.98799,     0.98899,     0.98999,     0.99099,     0.99199,     0.99299,     0.99399,     0.99499,       0.996,       0.997,       0.998,       0.999,           1]), array([[          1,           1,           1,           1,           1,           1,           1,           1,           1,           1,           1,           1,           1,           1,           1,           1,           1,           1,           1,           1,           1,           1,           1,\n",
       "                  1,           1,           1,           1,           1,           1,           1,           1,           1,           1,           1,           1,           1,           1,           1,           1,           1,           1,           1,           1,           1,           1,           1,\n",
       "                  1,           1,           1,           1,           1,           1,           1,           1,           1,           1,           1,           1,           1,           1,           1,           1,           1,           1,           1,           1,           1,           1,           1,\n",
       "                  1,           1,           1,           1,           1,           1,           1,           1,           1,           1,           1,           1,           1,           1,           1,           1,           1,           1,           1,           1,           1,           1,           1,\n",
       "                  1,           1,           1,           1,           1,           1,           1,           1,           1,           1,           1,           1,           1,           1,           1,           1,           1,           1,           1,           1,           1,           1,           1,\n",
       "                  1,           1,           1,           1,           1,           1,           1,           1,           1,           1,           1,           1,           1,           1,           1,           1,           1,           1,           1,           1,           1,           1,           1,\n",
       "                  1,           1,           1,           1,           1,           1,           1,           1,           1,           1,           1,           1,           1,           1,           1,           1,           1,           1,           1,           1,           1,           1,           1,\n",
       "                  1,           1,           1,           1,           1,           1,           1,           1,           1,           1,           1,           1,           1,           1,           1,           1,           1,           1,           1,           1,           1,           1,           1,\n",
       "                  1,           1,           1,           1,           1,           1,           1,           1,           1,           1,           1,           1,           1,           1,           1,           1,           1,           1,           1,           1,           1,           1,           1,\n",
       "                  1,           1,           1,           1,           1,           1,           1,           1,           1,           1,           1,           1,           1,           1,           1,           1,           1,           1,           1,           1,           1,           1,           1,\n",
       "                  1,           1,           1,           1,           1,           1,           1,           1,           1,           1,           1,           1,           1,           1,           1,           1,           1,           1,           1,           1,           1,           1,           1,\n",
       "                  1,           1,           1,           1,           1,           1,           1,           1,           1,           1,           1,           1,           1,           1,           1,           1,           1,           1,           1,           1,           1,           1,           1,\n",
       "                  1,           1,           1,           1,           1,           1,           1,           1,           1,           1,           1,           1,           1,           1,           1,           1,           1,           1,           1,           1,           1,           1,           1,\n",
       "                  1,           1,           1,           1,           1,           1,           1,           1,           1,           1,           1,           1,           1,           1,           1,           1,           1,           1,           1,           1,           1,           1,           1,\n",
       "                  1,           1,           1,           1,           1,           1,           1,           1,           1,           1,           1,           1,           1,           1,           1,           1,           1,           1,           1,           1,           1,           1,           1,\n",
       "                  1,           1,           1,           1,           1,           1,           1,           1,           1,           1,           1,           1,           1,     0.99065,     0.99065,     0.99065,     0.99065,     0.99065,     0.99065,     0.99065,     0.99065,     0.99065,     0.99065,\n",
       "            0.99065,     0.99065,     0.99065,     0.99065,     0.99065,     0.99065,     0.99065,     0.99065,     0.99065,     0.99065,     0.99065,     0.99065,     0.99065,     0.99065,     0.99065,     0.99065,     0.99065,     0.99065,     0.99065,     0.99065,     0.99065,     0.99065,     0.99065,\n",
       "            0.99065,     0.99065,     0.99065,     0.99065,     0.99065,     0.99065,     0.99065,     0.99065,     0.99065,     0.99065,     0.99065,     0.99065,     0.99065,     0.99065,     0.99065,     0.99065,     0.99065,     0.99065,     0.99065,     0.99065,     0.99065,     0.99065,     0.99065,\n",
       "            0.99065,     0.99065,     0.99065,     0.99065,     0.99065,     0.99065,     0.99065,     0.99065,     0.99065,     0.99065,     0.99065,     0.99065,     0.99065,     0.99065,     0.99065,     0.99065,     0.99065,     0.99065,     0.99065,     0.99065,     0.99065,     0.99065,     0.99065,\n",
       "            0.99065,     0.99065,     0.99065,     0.99065,     0.99065,     0.99065,     0.99065,     0.99065,     0.99065,     0.99065,     0.99065,     0.99065,     0.99065,     0.99065,     0.99065,     0.99065,     0.99065,     0.99065,     0.99065,     0.99065,     0.99065,     0.99065,     0.99065,\n",
       "            0.99065,     0.99065,     0.99065,     0.99065,     0.99065,     0.99065,     0.99065,     0.99065,     0.99065,     0.99065,     0.99065,     0.99065,     0.99065,     0.99065,     0.99065,     0.99065,     0.99065,     0.99065,     0.99065,     0.99065,     0.99065,     0.99065,     0.99065,\n",
       "            0.99065,     0.99065,     0.99065,     0.99065,     0.99065,     0.99065,     0.99065,     0.99065,     0.99065,     0.99065,     0.99065,     0.99065,     0.99065,     0.99065,     0.99065,     0.99065,     0.99065,     0.99065,     0.99065,     0.99065,     0.99065,     0.99065,     0.99065,\n",
       "            0.99065,     0.99065,     0.99065,     0.99065,     0.99065,     0.99065,     0.99065,     0.99065,     0.99065,     0.99065,     0.99065,     0.99065,     0.99065,     0.99065,     0.99065,     0.99065,     0.99065,     0.99065,     0.99065,     0.99065,     0.99065,     0.99065,     0.99065,\n",
       "            0.99065,     0.99065,     0.99065,     0.99065,     0.99065,     0.99065,     0.99065,     0.99065,     0.99065,     0.99065,     0.99065,     0.99065,     0.99065,     0.99065,     0.99065,     0.99065,     0.99065,     0.99065,     0.99065,     0.99065,     0.99065,     0.99065,     0.99065,\n",
       "            0.99065,     0.99065,     0.99065,     0.99065,     0.99065,     0.99065,     0.99065,     0.99065,     0.99065,     0.99065,     0.99065,     0.99065,     0.99065,     0.99065,     0.99065,     0.98198,     0.98198,     0.98198,     0.98198,     0.98198,     0.98198,     0.98198,     0.98198,\n",
       "            0.98198,     0.98198,     0.98198,     0.98198,     0.98198,     0.98198,     0.98198,     0.98198,     0.97674,     0.97674,     0.97674,     0.97674,     0.97674,     0.97674,     0.97674,     0.97674,     0.97674,     0.97674,     0.97674,     0.97674,     0.97674,     0.97674,     0.97674,\n",
       "            0.97674,     0.97674,     0.97674,     0.97674,     0.97674,     0.97674,     0.97674,     0.97674,     0.97674,     0.97674,     0.97674,     0.97674,     0.97674,     0.97674,     0.97674,     0.97674,     0.97674,     0.97674,     0.97674,     0.97674,     0.97674,     0.97674,     0.97674,\n",
       "            0.97674,     0.97674,     0.97674,     0.97674,     0.97674,     0.97674,     0.97674,     0.97674,     0.97674,     0.97674,     0.97674,     0.97674,     0.97674,     0.97674,     0.97674,     0.97674,     0.97674,     0.97674,     0.97674,     0.97674,     0.97674,     0.97674,     0.97674,\n",
       "            0.97674,     0.97674,     0.97674,     0.97674,     0.97674,     0.97674,     0.97674,     0.97674,     0.97674,     0.97674,     0.97674,     0.97674,     0.97674,     0.97674,     0.97674,     0.97674,     0.97674,     0.97674,     0.97674,     0.97674,     0.97674,     0.97674,     0.97674,\n",
       "            0.97674,     0.97674,     0.97674,     0.97674,     0.97674,     0.97674,     0.97674,     0.96947,     0.96947,     0.96947,     0.96947,     0.96947,     0.96269,     0.96269,     0.96269,     0.96269,     0.96269,     0.96269,     0.96269,     0.96269,     0.96269,     0.96269,     0.96269,\n",
       "             0.9562,      0.9562,      0.9562,      0.9562,      0.9562,      0.9562,      0.9562,      0.9562,      0.9562,      0.9562,     0.95035,     0.95035,     0.95035,     0.95035,     0.95035,     0.95035,     0.95035,     0.95035,     0.95035,     0.95035,     0.95035,     0.95035,     0.95035,\n",
       "            0.95035,     0.95035,     0.95035,     0.93151,     0.93151,     0.93151,     0.93151,     0.93151,     0.93151,     0.93151,     0.93151,     0.93151,     0.93151,     0.93151,     0.92568,     0.92568,     0.92568,     0.92568,     0.92568,     0.92105,     0.92105,     0.92105,     0.92105,\n",
       "            0.92105,     0.92105,     0.92105,     0.92105,     0.92105,     0.92105,     0.92105,     0.92105,     0.92105,     0.92105,     0.92105,     0.92105,     0.91558,     0.91558,     0.91558,     0.91558,     0.91558,     0.91558,     0.90506,     0.90506,     0.90506,     0.90506,     0.90506,\n",
       "            0.90506,     0.90506,     0.90506,     0.90506,     0.90506,     0.90184,     0.90184,     0.90184,     0.90184,     0.90184,     0.90184,     0.90184,     0.90184,     0.90184,     0.90184,     0.90184,     0.90184,     0.90184,     0.90184,     0.90184,     0.90184,     0.90184,     0.90184,\n",
       "            0.90184,     0.90184,     0.90184,     0.90184,     0.88095,     0.88095,     0.88095,     0.88095,     0.88095,     0.87135,     0.87135,     0.87135,     0.87135,     0.87135,     0.86857,     0.86857,     0.86857,     0.86857,     0.86857,     0.86857,     0.86857,     0.86857,     0.86857,\n",
       "            0.86857,     0.86857,     0.86857,     0.86857,     0.86857,     0.86857,     0.86857,     0.86857,        0.85,        0.85,        0.85,        0.85,        0.85,     0.84153,     0.84153,     0.84153,     0.84153,     0.84153,     0.83784,     0.83784,     0.83784,     0.83784,     0.83784,\n",
       "            0.83784,        0.78,        0.78,        0.78,        0.78,        0.78,     0.76961,     0.76961,     0.76961,     0.76961,     0.76961,     0.72603,     0.72603,     0.72603,     0.72603,     0.72603,     0.72603,     0.72603,     0.72603,     0.72603,     0.72603,     0.72603,     0.71429,\n",
       "            0.71429,     0.71429,     0.71429,     0.71429,     0.71239,     0.71239,     0.71239,     0.71239,     0.71239,     0.71239,       0.675,       0.675,       0.675,       0.675,       0.675,      0.6626,      0.6626,      0.6626,      0.6626,      0.6626,     0.64567,     0.64567,     0.64567,\n",
       "            0.64567,     0.64567,     0.64567,     0.63359,     0.63359,     0.63359,     0.63359,     0.63359,     0.63359,     0.63359,     0.63359,     0.63359,     0.63359,     0.60289,     0.60289,     0.60289,     0.60289,     0.60289,     0.60289,     0.60215,     0.60215,     0.60215,     0.60215,\n",
       "            0.60215,     0.59717,     0.59717,     0.59717,     0.59717,     0.59717,     0.46322,     0.46322,     0.46322,     0.46322,     0.46322,     0.46322,     0.45845,     0.45845,     0.45845,     0.45845,     0.45845,     0.33594,     0.33594,     0.33594,     0.33594,     0.33594,     0.33015,\n",
       "            0.33015,     0.33015,     0.33015,     0.33015,     0.33015,     0.31183,     0.31183,     0.31183,     0.31183,     0.31183,    0.035216,    0.034705,    0.034195,    0.033685,    0.033174,    0.032664,    0.032154,    0.031643,    0.031133,    0.030622,    0.030112,    0.029602,    0.029091,\n",
       "           0.028581,    0.028071,     0.02756,     0.02705,    0.026539,    0.026029,    0.025519,    0.025008,    0.024498,    0.023988,    0.023477,    0.022967,    0.022456,    0.021946,    0.021436,    0.020925,    0.020415,    0.019905,    0.019394,    0.018884,    0.018373,    0.017863,    0.017353,\n",
       "           0.016842,    0.016332,    0.015822,    0.015311,    0.014801,     0.01429,     0.01378,     0.01327,    0.012759,    0.012249,    0.011739,    0.011228,    0.010718,    0.010207,   0.0096971,   0.0091867,   0.0086764,    0.008166,   0.0076556,   0.0071452,   0.0066349,   0.0061245,   0.0056141,\n",
       "          0.0051037,   0.0045934,    0.004083,   0.0035726,   0.0030622,   0.0025519,   0.0020415,   0.0015311,   0.0010207,  0.00051037,           0]]), 'Recall', 'Precision'], [array([          0,    0.001001,    0.002002,    0.003003,    0.004004,    0.005005,    0.006006,    0.007007,    0.008008,    0.009009,     0.01001,    0.011011,    0.012012,    0.013013,    0.014014,    0.015015,    0.016016,    0.017017,    0.018018,    0.019019,     0.02002,    0.021021,    0.022022,    0.023023,\n",
       "          0.024024,    0.025025,    0.026026,    0.027027,    0.028028,    0.029029,     0.03003,    0.031031,    0.032032,    0.033033,    0.034034,    0.035035,    0.036036,    0.037037,    0.038038,    0.039039,     0.04004,    0.041041,    0.042042,    0.043043,    0.044044,    0.045045,    0.046046,    0.047047,\n",
       "          0.048048,    0.049049,     0.05005,    0.051051,    0.052052,    0.053053,    0.054054,    0.055055,    0.056056,    0.057057,    0.058058,    0.059059,     0.06006,    0.061061,    0.062062,    0.063063,    0.064064,    0.065065,    0.066066,    0.067067,    0.068068,    0.069069,     0.07007,    0.071071,\n",
       "          0.072072,    0.073073,    0.074074,    0.075075,    0.076076,    0.077077,    0.078078,    0.079079,     0.08008,    0.081081,    0.082082,    0.083083,    0.084084,    0.085085,    0.086086,    0.087087,    0.088088,    0.089089,     0.09009,    0.091091,    0.092092,    0.093093,    0.094094,    0.095095,\n",
       "          0.096096,    0.097097,    0.098098,    0.099099,      0.1001,      0.1011,      0.1021,      0.1031,      0.1041,     0.10511,     0.10611,     0.10711,     0.10811,     0.10911,     0.11011,     0.11111,     0.11211,     0.11311,     0.11411,     0.11512,     0.11612,     0.11712,     0.11812,     0.11912,\n",
       "           0.12012,     0.12112,     0.12212,     0.12312,     0.12412,     0.12513,     0.12613,     0.12713,     0.12813,     0.12913,     0.13013,     0.13113,     0.13213,     0.13313,     0.13413,     0.13514,     0.13614,     0.13714,     0.13814,     0.13914,     0.14014,     0.14114,     0.14214,     0.14314,\n",
       "           0.14414,     0.14515,     0.14615,     0.14715,     0.14815,     0.14915,     0.15015,     0.15115,     0.15215,     0.15315,     0.15415,     0.15516,     0.15616,     0.15716,     0.15816,     0.15916,     0.16016,     0.16116,     0.16216,     0.16316,     0.16416,     0.16517,     0.16617,     0.16717,\n",
       "           0.16817,     0.16917,     0.17017,     0.17117,     0.17217,     0.17317,     0.17417,     0.17518,     0.17618,     0.17718,     0.17818,     0.17918,     0.18018,     0.18118,     0.18218,     0.18318,     0.18418,     0.18519,     0.18619,     0.18719,     0.18819,     0.18919,     0.19019,     0.19119,\n",
       "           0.19219,     0.19319,     0.19419,      0.1952,      0.1962,      0.1972,      0.1982,      0.1992,      0.2002,      0.2012,      0.2022,      0.2032,      0.2042,     0.20521,     0.20621,     0.20721,     0.20821,     0.20921,     0.21021,     0.21121,     0.21221,     0.21321,     0.21421,     0.21522,\n",
       "           0.21622,     0.21722,     0.21822,     0.21922,     0.22022,     0.22122,     0.22222,     0.22322,     0.22422,     0.22523,     0.22623,     0.22723,     0.22823,     0.22923,     0.23023,     0.23123,     0.23223,     0.23323,     0.23423,     0.23524,     0.23624,     0.23724,     0.23824,     0.23924,\n",
       "           0.24024,     0.24124,     0.24224,     0.24324,     0.24424,     0.24525,     0.24625,     0.24725,     0.24825,     0.24925,     0.25025,     0.25125,     0.25225,     0.25325,     0.25425,     0.25526,     0.25626,     0.25726,     0.25826,     0.25926,     0.26026,     0.26126,     0.26226,     0.26326,\n",
       "           0.26426,     0.26527,     0.26627,     0.26727,     0.26827,     0.26927,     0.27027,     0.27127,     0.27227,     0.27327,     0.27427,     0.27528,     0.27628,     0.27728,     0.27828,     0.27928,     0.28028,     0.28128,     0.28228,     0.28328,     0.28428,     0.28529,     0.28629,     0.28729,\n",
       "           0.28829,     0.28929,     0.29029,     0.29129,     0.29229,     0.29329,     0.29429,      0.2953,      0.2963,      0.2973,      0.2983,      0.2993,      0.3003,      0.3013,      0.3023,      0.3033,      0.3043,     0.30531,     0.30631,     0.30731,     0.30831,     0.30931,     0.31031,     0.31131,\n",
       "           0.31231,     0.31331,     0.31431,     0.31532,     0.31632,     0.31732,     0.31832,     0.31932,     0.32032,     0.32132,     0.32232,     0.32332,     0.32432,     0.32533,     0.32633,     0.32733,     0.32833,     0.32933,     0.33033,     0.33133,     0.33233,     0.33333,     0.33433,     0.33534,\n",
       "           0.33634,     0.33734,     0.33834,     0.33934,     0.34034,     0.34134,     0.34234,     0.34334,     0.34434,     0.34535,     0.34635,     0.34735,     0.34835,     0.34935,     0.35035,     0.35135,     0.35235,     0.35335,     0.35435,     0.35536,     0.35636,     0.35736,     0.35836,     0.35936,\n",
       "           0.36036,     0.36136,     0.36236,     0.36336,     0.36436,     0.36537,     0.36637,     0.36737,     0.36837,     0.36937,     0.37037,     0.37137,     0.37237,     0.37337,     0.37437,     0.37538,     0.37638,     0.37738,     0.37838,     0.37938,     0.38038,     0.38138,     0.38238,     0.38338,\n",
       "           0.38438,     0.38539,     0.38639,     0.38739,     0.38839,     0.38939,     0.39039,     0.39139,     0.39239,     0.39339,     0.39439,      0.3954,      0.3964,      0.3974,      0.3984,      0.3994,      0.4004,      0.4014,      0.4024,      0.4034,      0.4044,     0.40541,     0.40641,     0.40741,\n",
       "           0.40841,     0.40941,     0.41041,     0.41141,     0.41241,     0.41341,     0.41441,     0.41542,     0.41642,     0.41742,     0.41842,     0.41942,     0.42042,     0.42142,     0.42242,     0.42342,     0.42442,     0.42543,     0.42643,     0.42743,     0.42843,     0.42943,     0.43043,     0.43143,\n",
       "           0.43243,     0.43343,     0.43443,     0.43544,     0.43644,     0.43744,     0.43844,     0.43944,     0.44044,     0.44144,     0.44244,     0.44344,     0.44444,     0.44545,     0.44645,     0.44745,     0.44845,     0.44945,     0.45045,     0.45145,     0.45245,     0.45345,     0.45445,     0.45546,\n",
       "           0.45646,     0.45746,     0.45846,     0.45946,     0.46046,     0.46146,     0.46246,     0.46346,     0.46446,     0.46547,     0.46647,     0.46747,     0.46847,     0.46947,     0.47047,     0.47147,     0.47247,     0.47347,     0.47447,     0.47548,     0.47648,     0.47748,     0.47848,     0.47948,\n",
       "           0.48048,     0.48148,     0.48248,     0.48348,     0.48448,     0.48549,     0.48649,     0.48749,     0.48849,     0.48949,     0.49049,     0.49149,     0.49249,     0.49349,     0.49449,      0.4955,      0.4965,      0.4975,      0.4985,      0.4995,      0.5005,      0.5015,      0.5025,      0.5035,\n",
       "            0.5045,     0.50551,     0.50651,     0.50751,     0.50851,     0.50951,     0.51051,     0.51151,     0.51251,     0.51351,     0.51451,     0.51552,     0.51652,     0.51752,     0.51852,     0.51952,     0.52052,     0.52152,     0.52252,     0.52352,     0.52452,     0.52553,     0.52653,     0.52753,\n",
       "           0.52853,     0.52953,     0.53053,     0.53153,     0.53253,     0.53353,     0.53453,     0.53554,     0.53654,     0.53754,     0.53854,     0.53954,     0.54054,     0.54154,     0.54254,     0.54354,     0.54454,     0.54555,     0.54655,     0.54755,     0.54855,     0.54955,     0.55055,     0.55155,\n",
       "           0.55255,     0.55355,     0.55455,     0.55556,     0.55656,     0.55756,     0.55856,     0.55956,     0.56056,     0.56156,     0.56256,     0.56356,     0.56456,     0.56557,     0.56657,     0.56757,     0.56857,     0.56957,     0.57057,     0.57157,     0.57257,     0.57357,     0.57457,     0.57558,\n",
       "           0.57658,     0.57758,     0.57858,     0.57958,     0.58058,     0.58158,     0.58258,     0.58358,     0.58458,     0.58559,     0.58659,     0.58759,     0.58859,     0.58959,     0.59059,     0.59159,     0.59259,     0.59359,     0.59459,      0.5956,      0.5966,      0.5976,      0.5986,      0.5996,\n",
       "            0.6006,      0.6016,      0.6026,      0.6036,      0.6046,     0.60561,     0.60661,     0.60761,     0.60861,     0.60961,     0.61061,     0.61161,     0.61261,     0.61361,     0.61461,     0.61562,     0.61662,     0.61762,     0.61862,     0.61962,     0.62062,     0.62162,     0.62262,     0.62362,\n",
       "           0.62462,     0.62563,     0.62663,     0.62763,     0.62863,     0.62963,     0.63063,     0.63163,     0.63263,     0.63363,     0.63463,     0.63564,     0.63664,     0.63764,     0.63864,     0.63964,     0.64064,     0.64164,     0.64264,     0.64364,     0.64464,     0.64565,     0.64665,     0.64765,\n",
       "           0.64865,     0.64965,     0.65065,     0.65165,     0.65265,     0.65365,     0.65465,     0.65566,     0.65666,     0.65766,     0.65866,     0.65966,     0.66066,     0.66166,     0.66266,     0.66366,     0.66466,     0.66567,     0.66667,     0.66767,     0.66867,     0.66967,     0.67067,     0.67167,\n",
       "           0.67267,     0.67367,     0.67467,     0.67568,     0.67668,     0.67768,     0.67868,     0.67968,     0.68068,     0.68168,     0.68268,     0.68368,     0.68468,     0.68569,     0.68669,     0.68769,     0.68869,     0.68969,     0.69069,     0.69169,     0.69269,     0.69369,     0.69469,      0.6957,\n",
       "            0.6967,      0.6977,      0.6987,      0.6997,      0.7007,      0.7017,      0.7027,      0.7037,      0.7047,     0.70571,     0.70671,     0.70771,     0.70871,     0.70971,     0.71071,     0.71171,     0.71271,     0.71371,     0.71471,     0.71572,     0.71672,     0.71772,     0.71872,     0.71972,\n",
       "           0.72072,     0.72172,     0.72272,     0.72372,     0.72472,     0.72573,     0.72673,     0.72773,     0.72873,     0.72973,     0.73073,     0.73173,     0.73273,     0.73373,     0.73473,     0.73574,     0.73674,     0.73774,     0.73874,     0.73974,     0.74074,     0.74174,     0.74274,     0.74374,\n",
       "           0.74474,     0.74575,     0.74675,     0.74775,     0.74875,     0.74975,     0.75075,     0.75175,     0.75275,     0.75375,     0.75475,     0.75576,     0.75676,     0.75776,     0.75876,     0.75976,     0.76076,     0.76176,     0.76276,     0.76376,     0.76476,     0.76577,     0.76677,     0.76777,\n",
       "           0.76877,     0.76977,     0.77077,     0.77177,     0.77277,     0.77377,     0.77477,     0.77578,     0.77678,     0.77778,     0.77878,     0.77978,     0.78078,     0.78178,     0.78278,     0.78378,     0.78478,     0.78579,     0.78679,     0.78779,     0.78879,     0.78979,     0.79079,     0.79179,\n",
       "           0.79279,     0.79379,     0.79479,      0.7958,      0.7968,      0.7978,      0.7988,      0.7998,      0.8008,      0.8018,      0.8028,      0.8038,      0.8048,     0.80581,     0.80681,     0.80781,     0.80881,     0.80981,     0.81081,     0.81181,     0.81281,     0.81381,     0.81481,     0.81582,\n",
       "           0.81682,     0.81782,     0.81882,     0.81982,     0.82082,     0.82182,     0.82282,     0.82382,     0.82482,     0.82583,     0.82683,     0.82783,     0.82883,     0.82983,     0.83083,     0.83183,     0.83283,     0.83383,     0.83483,     0.83584,     0.83684,     0.83784,     0.83884,     0.83984,\n",
       "           0.84084,     0.84184,     0.84284,     0.84384,     0.84484,     0.84585,     0.84685,     0.84785,     0.84885,     0.84985,     0.85085,     0.85185,     0.85285,     0.85385,     0.85485,     0.85586,     0.85686,     0.85786,     0.85886,     0.85986,     0.86086,     0.86186,     0.86286,     0.86386,\n",
       "           0.86486,     0.86587,     0.86687,     0.86787,     0.86887,     0.86987,     0.87087,     0.87187,     0.87287,     0.87387,     0.87487,     0.87588,     0.87688,     0.87788,     0.87888,     0.87988,     0.88088,     0.88188,     0.88288,     0.88388,     0.88488,     0.88589,     0.88689,     0.88789,\n",
       "           0.88889,     0.88989,     0.89089,     0.89189,     0.89289,     0.89389,     0.89489,      0.8959,      0.8969,      0.8979,      0.8989,      0.8999,      0.9009,      0.9019,      0.9029,      0.9039,      0.9049,     0.90591,     0.90691,     0.90791,     0.90891,     0.90991,     0.91091,     0.91191,\n",
       "           0.91291,     0.91391,     0.91491,     0.91592,     0.91692,     0.91792,     0.91892,     0.91992,     0.92092,     0.92192,     0.92292,     0.92392,     0.92492,     0.92593,     0.92693,     0.92793,     0.92893,     0.92993,     0.93093,     0.93193,     0.93293,     0.93393,     0.93493,     0.93594,\n",
       "           0.93694,     0.93794,     0.93894,     0.93994,     0.94094,     0.94194,     0.94294,     0.94394,     0.94494,     0.94595,     0.94695,     0.94795,     0.94895,     0.94995,     0.95095,     0.95195,     0.95295,     0.95395,     0.95495,     0.95596,     0.95696,     0.95796,     0.95896,     0.95996,\n",
       "           0.96096,     0.96196,     0.96296,     0.96396,     0.96496,     0.96597,     0.96697,     0.96797,     0.96897,     0.96997,     0.97097,     0.97197,     0.97297,     0.97397,     0.97497,     0.97598,     0.97698,     0.97798,     0.97898,     0.97998,     0.98098,     0.98198,     0.98298,     0.98398,\n",
       "           0.98498,     0.98599,     0.98699,     0.98799,     0.98899,     0.98999,     0.99099,     0.99199,     0.99299,     0.99399,     0.99499,       0.996,       0.997,       0.998,       0.999,           1]), array([[   0.068289,    0.068414,      0.1751,     0.30381,     0.38371,     0.42274,     0.45259,     0.47573,     0.49193,     0.51185,     0.51871,     0.53001,      0.5438,     0.55055,     0.55422,     0.55806,      0.5719,     0.57852,     0.58196,     0.58496,     0.58967,     0.59368,     0.60066,\n",
       "            0.60545,     0.61004,     0.61168,     0.61259,     0.61558,     0.61815,     0.61913,      0.6227,     0.62636,     0.62949,     0.63026,     0.63225,      0.6345,     0.63561,     0.63725,     0.64388,      0.6446,     0.64554,     0.64774,     0.65216,     0.65398,     0.65517,     0.65595,\n",
       "            0.65782,     0.66279,     0.66365,      0.6649,     0.66898,     0.67257,     0.67351,     0.67443,     0.67737,     0.67786,     0.67834,     0.67901,     0.68106,     0.68451,     0.68612,     0.68738,     0.68824,     0.68978,     0.69085,     0.69208,      0.6945,     0.69615,     0.69781,\n",
       "             0.6996,     0.70152,     0.70184,     0.70216,     0.70249,     0.70362,     0.70476,     0.70549,     0.70779,     0.70941,     0.71023,     0.71069,     0.71116,     0.71179,     0.71351,     0.71451,      0.7166,      0.7189,     0.71714,     0.71824,     0.71892,     0.71954,     0.71986,\n",
       "            0.72018,      0.7205,     0.72082,     0.72073,     0.71985,     0.71897,     0.71966,     0.71836,     0.71706,     0.71754,     0.71802,      0.7185,     0.71885,     0.71917,     0.71948,     0.71979,      0.7201,     0.72037,     0.72062,     0.72088,     0.72113,     0.72138,     0.72164,\n",
       "            0.72299,     0.72369,     0.72415,      0.7246,     0.72553,     0.72777,     0.72911,     0.73049,     0.73166,     0.73242,     0.73461,     0.73526,     0.73591,     0.73677,     0.73775,     0.73887,      0.7387,     0.73729,     0.73416,      0.7342,     0.73465,     0.73509,     0.73553,\n",
       "            0.73594,     0.73634,     0.73675,     0.73744,     0.74226,     0.74329,     0.74287,     0.74121,     0.74137,     0.74194,      0.7425,     0.74432,     0.74591,     0.74637,     0.74677,     0.74717,     0.74757,     0.74963,     0.75005,     0.75046,     0.75087,     0.75123,     0.75146,\n",
       "            0.75169,     0.75193,     0.75216,     0.75239,     0.75263,     0.75286,     0.75225,     0.75154,     0.75082,     0.75011,     0.75017,     0.75036,     0.75056,     0.75076,     0.75096,     0.75115,     0.75135,     0.75155,     0.75174,     0.75233,     0.75292,     0.75394,     0.75607,\n",
       "            0.75697,     0.75725,     0.75751,     0.75777,     0.75803,     0.75828,     0.75854,     0.75864,     0.75603,     0.75989,     0.76062,      0.7646,     0.76588,     0.76688,     0.76772,     0.76852,     0.76878,     0.76904,      0.7693,     0.76956,     0.76982,     0.77008,     0.77034,\n",
       "            0.77106,     0.77178,      0.7727,     0.77389,     0.77432,     0.77464,     0.77496,     0.77528,      0.7756,     0.77591,     0.77605,     0.77619,     0.77633,     0.77647,     0.77661,     0.77675,     0.77689,     0.77703,     0.77717,     0.77731,     0.77745,     0.77759,     0.77773,\n",
       "            0.77807,     0.77853,     0.77898,     0.77944,      0.7767,     0.77843,     0.77822,       0.778,     0.77779,     0.77757,     0.77736,     0.77714,     0.77693,     0.77671,     0.77649,     0.77628,     0.77606,     0.77585,     0.77563,     0.77597,     0.77637,     0.77677,     0.77717,\n",
       "            0.77772,     0.77896,     0.78191,      0.7799,     0.77756,     0.77904,     0.77956,     0.77999,     0.78043,     0.78087,     0.78117,     0.78131,     0.78146,     0.78161,     0.78176,     0.78191,     0.78206,     0.78221,     0.78236,     0.78251,     0.78266,     0.78281,     0.78295,\n",
       "            0.78357,     0.78488,     0.78547,     0.78599,     0.78652,     0.78707,     0.78786,     0.78864,     0.78909,     0.78933,     0.78957,     0.78981,     0.79005,     0.79028,     0.79052,     0.79076,     0.79151,     0.79315,     0.79386,     0.79458,     0.79534,     0.79615,     0.79695,\n",
       "            0.79743,     0.79791,     0.79838,     0.79885,     0.79967,     0.80061,     0.80295,     0.80241,     0.80187,     0.80133,     0.80079,     0.80024,     0.80033,     0.80093,     0.80153,     0.80226,     0.80402,     0.80575,     0.80475,     0.80374,     0.80537,     0.80624,      0.8071,\n",
       "            0.80742,     0.80759,     0.80776,     0.80792,     0.80809,     0.80826,     0.80843,     0.80859,     0.80876,     0.80893,     0.80909,     0.80926,     0.80945,     0.80976,     0.81008,     0.81039,      0.8107,     0.81102,     0.81133,     0.81198,     0.81319,     0.81387,     0.81423,\n",
       "            0.81458,     0.81494,      0.8153,     0.81565,     0.81631,     0.81716,     0.81801,     0.81897,     0.81993,     0.82458,     0.82488,     0.82519,     0.82549,      0.8258,      0.8261,      0.8264,     0.82692,     0.82884,     0.83321,     0.83305,     0.83275,     0.83244,     0.83214,\n",
       "            0.83184,     0.83153,     0.83123,     0.83093,     0.83063,     0.83032,     0.83238,     0.83168,     0.83093,     0.83017,     0.82941,     0.82962,     0.83005,     0.83049,     0.83092,     0.83135,     0.83167,     0.83192,     0.83216,     0.83241,     0.83266,     0.83291,     0.83315,\n",
       "             0.8334,     0.83365,     0.83363,     0.83326,     0.83289,     0.83253,     0.83216,     0.83179,     0.83142,     0.83105,     0.83068,      0.8308,     0.83107,     0.83133,     0.83159,     0.83185,     0.83211,     0.83237,     0.83263,     0.83296,     0.83437,     0.83549,     0.83624,\n",
       "            0.83699,     0.83879,     0.83595,     0.83364,     0.83298,     0.83258,     0.83218,     0.83177,     0.83137,     0.83097,     0.83056,     0.83016,     0.83032,     0.83062,     0.83091,     0.83121,      0.8315,      0.8318,     0.83209,     0.83239,     0.82933,     0.83157,     0.83182,\n",
       "            0.83207,     0.83232,     0.83257,     0.83282,     0.83307,     0.83331,     0.83356,     0.83376,     0.83194,     0.83146,     0.83451,     0.83574,     0.83648,     0.83721,     0.83793,     0.83863,     0.83933,     0.83984,     0.83557,     0.83294,     0.83254,     0.83213,     0.83173,\n",
       "            0.83132,     0.83091,     0.83051,      0.8301,     0.82936,     0.82847,     0.82758,     0.82669,     0.82688,     0.82721,     0.82754,     0.82787,      0.8282,     0.82853,     0.82885,     0.82863,     0.82804,     0.82745,     0.82685,     0.82626,     0.82567,     0.82255,     0.82304,\n",
       "            0.82352,     0.82401,     0.82449,     0.82556,     0.82673,     0.82614,     0.82506,     0.82398,      0.8236,     0.82373,     0.82385,     0.82398,     0.82411,     0.82423,     0.82436,     0.82448,     0.82461,     0.82473,     0.82486,     0.82499,     0.82511,     0.82524,     0.82536,\n",
       "            0.82549,     0.82561,     0.82574,     0.82586,     0.82578,       0.825,     0.82422,     0.82345,     0.82267,     0.82184,       0.821,     0.82016,     0.81931,     0.81672,     0.81586,     0.81645,     0.81703,     0.81762,     0.81743,     0.81645,     0.81548,     0.81451,     0.81448,\n",
       "            0.81462,     0.81475,     0.81488,     0.81501,     0.81514,     0.81527,      0.8154,     0.81553,     0.81566,     0.81579,     0.81592,     0.81605,     0.81618,     0.81631,     0.81644,     0.81657,     0.81671,     0.81671,       0.816,     0.81528,     0.81456,     0.81384,     0.81322,\n",
       "              0.813,     0.81279,     0.81258,     0.81237,     0.81216,     0.81195,     0.81174,     0.81153,     0.81132,     0.81111,      0.8109,     0.81069,     0.81048,     0.81027,     0.81005,     0.80984,     0.80973,     0.81007,     0.81041,     0.81076,      0.8111,     0.81144,     0.81178,\n",
       "            0.81212,      0.8125,     0.81288,     0.81326,     0.81363,     0.81401,     0.81439,     0.81491,      0.8156,     0.81628,     0.81697,     0.81357,     0.80945,       0.809,     0.80854,     0.80809,     0.80764,     0.80719,     0.80673,     0.80628,     0.80651,       0.807,     0.80749,\n",
       "            0.80798,     0.80847,     0.80779,     0.80649,     0.80518,     0.80433,     0.80357,      0.8028,     0.80204,     0.80128,     0.80162,     0.80202,     0.80242,     0.80282,     0.80322,     0.80361,     0.80325,     0.80253,     0.80182,      0.8011,     0.80038,     0.79626,     0.79663,\n",
       "            0.79699,     0.79736,     0.79773,     0.79809,     0.79846,     0.79866,     0.79825,     0.79784,     0.79743,     0.79702,     0.79661,      0.7962,     0.79579,     0.79538,     0.79497,      0.7936,     0.79223,     0.79085,     0.78928,     0.78713,     0.78569,     0.78515,      0.7846,\n",
       "            0.78405,     0.78349,     0.78294,     0.78239,     0.78184,     0.78128,     0.78073,     0.78017,     0.77962,     0.77906,     0.77851,     0.77745,      0.7754,     0.77375,     0.77266,     0.77158,     0.77049,     0.76623,     0.76569,     0.76515,      0.7646,     0.76406,     0.76352,\n",
       "            0.76298,     0.76243,     0.76165,     0.76072,     0.75978,     0.75885,     0.75689,     0.75386,     0.75325,     0.75264,     0.75203,     0.75141,      0.7508,     0.75019,     0.74959,       0.749,     0.74841,     0.74782,     0.74723,     0.74664,     0.74604,     0.74124,     0.73938,\n",
       "            0.73752,     0.73492,      0.7307,     0.72935,     0.72967,     0.72999,     0.73032,     0.73064,     0.73097,     0.73129,     0.73128,     0.72999,      0.7287,      0.7274,     0.72549,      0.7235,     0.71978,     0.71895,     0.71935,     0.71976,     0.72017,     0.72057,     0.72098,\n",
       "            0.71651,       0.715,     0.71348,      0.7115,     0.70813,      0.7057,      0.7034,     0.70239,     0.70137,     0.70036,     0.69935,     0.69801,     0.69649,     0.69496,     0.69158,     0.68052,     0.68001,      0.6795,     0.67899,     0.67848,     0.67797,     0.67746,     0.67695,\n",
       "            0.67644,      0.6708,     0.66366,     0.66116,     0.66001,     0.65886,     0.65771,     0.65571,      0.6529,     0.65103,      0.6494,     0.64776,     0.63265,     0.62904,      0.6197,     0.61365,     0.61186,     0.61104,     0.61022,     0.60939,     0.60856,     0.60774,     0.60625,\n",
       "            0.60432,     0.60238,     0.60138,     0.60045,     0.59953,      0.5986,     0.59768,     0.59599,     0.59241,     0.59089,     0.58984,     0.58878,     0.58771,     0.58665,     0.58087,     0.58035,     0.57983,     0.57932,      0.5788,     0.57828,     0.57776,     0.57724,     0.57672,\n",
       "             0.5762,      0.5738,     0.56824,     0.56539,     0.56316,     0.56106,     0.55933,     0.55903,     0.55873,     0.55843,     0.55813,     0.55783,     0.55753,     0.55723,     0.55693,     0.55663,     0.55633,     0.55603,     0.55573,     0.55543,     0.55513,     0.55483,     0.55453,\n",
       "            0.55423,     0.55393,     0.55284,     0.55146,     0.55009,     0.54871,     0.54727,      0.5458,     0.54433,     0.54285,     0.53983,     0.53687,     0.53618,     0.53549,     0.53479,      0.5341,      0.5334,      0.5327,     0.53201,     0.53131,     0.52566,     0.52592,     0.52618,\n",
       "            0.52643,     0.52668,     0.52694,     0.52719,     0.52744,     0.52597,       0.523,     0.52093,     0.51952,     0.51811,     0.51669,     0.51541,      0.5143,      0.5132,     0.51209,     0.51098,      0.5098,     0.50776,     0.50571,     0.50361,     0.50128,     0.49895,     0.49139,\n",
       "            0.48988,     0.48837,     0.48686,     0.48528,     0.48358,     0.48187,     0.48016,     0.47724,     0.47385,     0.47215,     0.47067,     0.46918,     0.46768,     0.46197,     0.45885,     0.45647,     0.45417,     0.45228,     0.45038,     0.44848,     0.42562,     0.41626,     0.40876,\n",
       "             0.4076,     0.40665,      0.4057,     0.40474,     0.40379,     0.40284,     0.40188,     0.40049,       0.399,      0.3975,       0.396,     0.38678,     0.37803,     0.37339,     0.37214,     0.37089,     0.36964,     0.36839,     0.36713,     0.36382,     0.35979,      0.3553,      0.3451,\n",
       "            0.34411,     0.34312,     0.34212,     0.34113,     0.34013,     0.33914,     0.33814,     0.32732,     0.31417,     0.30779,     0.29993,     0.29888,     0.29783,     0.29678,     0.29573,     0.29468,     0.29363,     0.29257,     0.27625,     0.27485,     0.27346,     0.27206,     0.27067,\n",
       "            0.26927,     0.26261,     0.25666,     0.25214,      0.2488,     0.24545,     0.24061,     0.23507,      0.2307,     0.21719,     0.20815,     0.20489,      0.1992,      0.1813,     0.17692,     0.17083,     0.16508,       0.161,      0.1573,     0.15544,     0.15358,     0.15171,     0.14984,\n",
       "            0.14671,     0.14047,      0.1343,     0.12912,     0.12623,     0.12333,     0.12019,     0.11346,    0.098985,    0.095077,    0.090216,    0.081447,    0.076725,    0.072012,     0.06806,    0.064091,    0.059574,     0.05454,    0.050976,    0.048819,    0.046657,     0.04449,    0.042318,\n",
       "           0.040389,    0.038517,    0.036642,    0.034763,    0.032881,    0.030391,    0.026544,    0.022682,    0.019255,    0.016107,    0.012949,           0,           0,           0,           0,           0,           0,           0,           0,           0,           0,           0,           0,\n",
       "                  0,           0,           0,           0,           0,           0,           0,           0,           0,           0,           0]]), 'Confidence', 'F1'], [array([          0,    0.001001,    0.002002,    0.003003,    0.004004,    0.005005,    0.006006,    0.007007,    0.008008,    0.009009,     0.01001,    0.011011,    0.012012,    0.013013,    0.014014,    0.015015,    0.016016,    0.017017,    0.018018,    0.019019,     0.02002,    0.021021,    0.022022,    0.023023,\n",
       "          0.024024,    0.025025,    0.026026,    0.027027,    0.028028,    0.029029,     0.03003,    0.031031,    0.032032,    0.033033,    0.034034,    0.035035,    0.036036,    0.037037,    0.038038,    0.039039,     0.04004,    0.041041,    0.042042,    0.043043,    0.044044,    0.045045,    0.046046,    0.047047,\n",
       "          0.048048,    0.049049,     0.05005,    0.051051,    0.052052,    0.053053,    0.054054,    0.055055,    0.056056,    0.057057,    0.058058,    0.059059,     0.06006,    0.061061,    0.062062,    0.063063,    0.064064,    0.065065,    0.066066,    0.067067,    0.068068,    0.069069,     0.07007,    0.071071,\n",
       "          0.072072,    0.073073,    0.074074,    0.075075,    0.076076,    0.077077,    0.078078,    0.079079,     0.08008,    0.081081,    0.082082,    0.083083,    0.084084,    0.085085,    0.086086,    0.087087,    0.088088,    0.089089,     0.09009,    0.091091,    0.092092,    0.093093,    0.094094,    0.095095,\n",
       "          0.096096,    0.097097,    0.098098,    0.099099,      0.1001,      0.1011,      0.1021,      0.1031,      0.1041,     0.10511,     0.10611,     0.10711,     0.10811,     0.10911,     0.11011,     0.11111,     0.11211,     0.11311,     0.11411,     0.11512,     0.11612,     0.11712,     0.11812,     0.11912,\n",
       "           0.12012,     0.12112,     0.12212,     0.12312,     0.12412,     0.12513,     0.12613,     0.12713,     0.12813,     0.12913,     0.13013,     0.13113,     0.13213,     0.13313,     0.13413,     0.13514,     0.13614,     0.13714,     0.13814,     0.13914,     0.14014,     0.14114,     0.14214,     0.14314,\n",
       "           0.14414,     0.14515,     0.14615,     0.14715,     0.14815,     0.14915,     0.15015,     0.15115,     0.15215,     0.15315,     0.15415,     0.15516,     0.15616,     0.15716,     0.15816,     0.15916,     0.16016,     0.16116,     0.16216,     0.16316,     0.16416,     0.16517,     0.16617,     0.16717,\n",
       "           0.16817,     0.16917,     0.17017,     0.17117,     0.17217,     0.17317,     0.17417,     0.17518,     0.17618,     0.17718,     0.17818,     0.17918,     0.18018,     0.18118,     0.18218,     0.18318,     0.18418,     0.18519,     0.18619,     0.18719,     0.18819,     0.18919,     0.19019,     0.19119,\n",
       "           0.19219,     0.19319,     0.19419,      0.1952,      0.1962,      0.1972,      0.1982,      0.1992,      0.2002,      0.2012,      0.2022,      0.2032,      0.2042,     0.20521,     0.20621,     0.20721,     0.20821,     0.20921,     0.21021,     0.21121,     0.21221,     0.21321,     0.21421,     0.21522,\n",
       "           0.21622,     0.21722,     0.21822,     0.21922,     0.22022,     0.22122,     0.22222,     0.22322,     0.22422,     0.22523,     0.22623,     0.22723,     0.22823,     0.22923,     0.23023,     0.23123,     0.23223,     0.23323,     0.23423,     0.23524,     0.23624,     0.23724,     0.23824,     0.23924,\n",
       "           0.24024,     0.24124,     0.24224,     0.24324,     0.24424,     0.24525,     0.24625,     0.24725,     0.24825,     0.24925,     0.25025,     0.25125,     0.25225,     0.25325,     0.25425,     0.25526,     0.25626,     0.25726,     0.25826,     0.25926,     0.26026,     0.26126,     0.26226,     0.26326,\n",
       "           0.26426,     0.26527,     0.26627,     0.26727,     0.26827,     0.26927,     0.27027,     0.27127,     0.27227,     0.27327,     0.27427,     0.27528,     0.27628,     0.27728,     0.27828,     0.27928,     0.28028,     0.28128,     0.28228,     0.28328,     0.28428,     0.28529,     0.28629,     0.28729,\n",
       "           0.28829,     0.28929,     0.29029,     0.29129,     0.29229,     0.29329,     0.29429,      0.2953,      0.2963,      0.2973,      0.2983,      0.2993,      0.3003,      0.3013,      0.3023,      0.3033,      0.3043,     0.30531,     0.30631,     0.30731,     0.30831,     0.30931,     0.31031,     0.31131,\n",
       "           0.31231,     0.31331,     0.31431,     0.31532,     0.31632,     0.31732,     0.31832,     0.31932,     0.32032,     0.32132,     0.32232,     0.32332,     0.32432,     0.32533,     0.32633,     0.32733,     0.32833,     0.32933,     0.33033,     0.33133,     0.33233,     0.33333,     0.33433,     0.33534,\n",
       "           0.33634,     0.33734,     0.33834,     0.33934,     0.34034,     0.34134,     0.34234,     0.34334,     0.34434,     0.34535,     0.34635,     0.34735,     0.34835,     0.34935,     0.35035,     0.35135,     0.35235,     0.35335,     0.35435,     0.35536,     0.35636,     0.35736,     0.35836,     0.35936,\n",
       "           0.36036,     0.36136,     0.36236,     0.36336,     0.36436,     0.36537,     0.36637,     0.36737,     0.36837,     0.36937,     0.37037,     0.37137,     0.37237,     0.37337,     0.37437,     0.37538,     0.37638,     0.37738,     0.37838,     0.37938,     0.38038,     0.38138,     0.38238,     0.38338,\n",
       "           0.38438,     0.38539,     0.38639,     0.38739,     0.38839,     0.38939,     0.39039,     0.39139,     0.39239,     0.39339,     0.39439,      0.3954,      0.3964,      0.3974,      0.3984,      0.3994,      0.4004,      0.4014,      0.4024,      0.4034,      0.4044,     0.40541,     0.40641,     0.40741,\n",
       "           0.40841,     0.40941,     0.41041,     0.41141,     0.41241,     0.41341,     0.41441,     0.41542,     0.41642,     0.41742,     0.41842,     0.41942,     0.42042,     0.42142,     0.42242,     0.42342,     0.42442,     0.42543,     0.42643,     0.42743,     0.42843,     0.42943,     0.43043,     0.43143,\n",
       "           0.43243,     0.43343,     0.43443,     0.43544,     0.43644,     0.43744,     0.43844,     0.43944,     0.44044,     0.44144,     0.44244,     0.44344,     0.44444,     0.44545,     0.44645,     0.44745,     0.44845,     0.44945,     0.45045,     0.45145,     0.45245,     0.45345,     0.45445,     0.45546,\n",
       "           0.45646,     0.45746,     0.45846,     0.45946,     0.46046,     0.46146,     0.46246,     0.46346,     0.46446,     0.46547,     0.46647,     0.46747,     0.46847,     0.46947,     0.47047,     0.47147,     0.47247,     0.47347,     0.47447,     0.47548,     0.47648,     0.47748,     0.47848,     0.47948,\n",
       "           0.48048,     0.48148,     0.48248,     0.48348,     0.48448,     0.48549,     0.48649,     0.48749,     0.48849,     0.48949,     0.49049,     0.49149,     0.49249,     0.49349,     0.49449,      0.4955,      0.4965,      0.4975,      0.4985,      0.4995,      0.5005,      0.5015,      0.5025,      0.5035,\n",
       "            0.5045,     0.50551,     0.50651,     0.50751,     0.50851,     0.50951,     0.51051,     0.51151,     0.51251,     0.51351,     0.51451,     0.51552,     0.51652,     0.51752,     0.51852,     0.51952,     0.52052,     0.52152,     0.52252,     0.52352,     0.52452,     0.52553,     0.52653,     0.52753,\n",
       "           0.52853,     0.52953,     0.53053,     0.53153,     0.53253,     0.53353,     0.53453,     0.53554,     0.53654,     0.53754,     0.53854,     0.53954,     0.54054,     0.54154,     0.54254,     0.54354,     0.54454,     0.54555,     0.54655,     0.54755,     0.54855,     0.54955,     0.55055,     0.55155,\n",
       "           0.55255,     0.55355,     0.55455,     0.55556,     0.55656,     0.55756,     0.55856,     0.55956,     0.56056,     0.56156,     0.56256,     0.56356,     0.56456,     0.56557,     0.56657,     0.56757,     0.56857,     0.56957,     0.57057,     0.57157,     0.57257,     0.57357,     0.57457,     0.57558,\n",
       "           0.57658,     0.57758,     0.57858,     0.57958,     0.58058,     0.58158,     0.58258,     0.58358,     0.58458,     0.58559,     0.58659,     0.58759,     0.58859,     0.58959,     0.59059,     0.59159,     0.59259,     0.59359,     0.59459,      0.5956,      0.5966,      0.5976,      0.5986,      0.5996,\n",
       "            0.6006,      0.6016,      0.6026,      0.6036,      0.6046,     0.60561,     0.60661,     0.60761,     0.60861,     0.60961,     0.61061,     0.61161,     0.61261,     0.61361,     0.61461,     0.61562,     0.61662,     0.61762,     0.61862,     0.61962,     0.62062,     0.62162,     0.62262,     0.62362,\n",
       "           0.62462,     0.62563,     0.62663,     0.62763,     0.62863,     0.62963,     0.63063,     0.63163,     0.63263,     0.63363,     0.63463,     0.63564,     0.63664,     0.63764,     0.63864,     0.63964,     0.64064,     0.64164,     0.64264,     0.64364,     0.64464,     0.64565,     0.64665,     0.64765,\n",
       "           0.64865,     0.64965,     0.65065,     0.65165,     0.65265,     0.65365,     0.65465,     0.65566,     0.65666,     0.65766,     0.65866,     0.65966,     0.66066,     0.66166,     0.66266,     0.66366,     0.66466,     0.66567,     0.66667,     0.66767,     0.66867,     0.66967,     0.67067,     0.67167,\n",
       "           0.67267,     0.67367,     0.67467,     0.67568,     0.67668,     0.67768,     0.67868,     0.67968,     0.68068,     0.68168,     0.68268,     0.68368,     0.68468,     0.68569,     0.68669,     0.68769,     0.68869,     0.68969,     0.69069,     0.69169,     0.69269,     0.69369,     0.69469,      0.6957,\n",
       "            0.6967,      0.6977,      0.6987,      0.6997,      0.7007,      0.7017,      0.7027,      0.7037,      0.7047,     0.70571,     0.70671,     0.70771,     0.70871,     0.70971,     0.71071,     0.71171,     0.71271,     0.71371,     0.71471,     0.71572,     0.71672,     0.71772,     0.71872,     0.71972,\n",
       "           0.72072,     0.72172,     0.72272,     0.72372,     0.72472,     0.72573,     0.72673,     0.72773,     0.72873,     0.72973,     0.73073,     0.73173,     0.73273,     0.73373,     0.73473,     0.73574,     0.73674,     0.73774,     0.73874,     0.73974,     0.74074,     0.74174,     0.74274,     0.74374,\n",
       "           0.74474,     0.74575,     0.74675,     0.74775,     0.74875,     0.74975,     0.75075,     0.75175,     0.75275,     0.75375,     0.75475,     0.75576,     0.75676,     0.75776,     0.75876,     0.75976,     0.76076,     0.76176,     0.76276,     0.76376,     0.76476,     0.76577,     0.76677,     0.76777,\n",
       "           0.76877,     0.76977,     0.77077,     0.77177,     0.77277,     0.77377,     0.77477,     0.77578,     0.77678,     0.77778,     0.77878,     0.77978,     0.78078,     0.78178,     0.78278,     0.78378,     0.78478,     0.78579,     0.78679,     0.78779,     0.78879,     0.78979,     0.79079,     0.79179,\n",
       "           0.79279,     0.79379,     0.79479,      0.7958,      0.7968,      0.7978,      0.7988,      0.7998,      0.8008,      0.8018,      0.8028,      0.8038,      0.8048,     0.80581,     0.80681,     0.80781,     0.80881,     0.80981,     0.81081,     0.81181,     0.81281,     0.81381,     0.81481,     0.81582,\n",
       "           0.81682,     0.81782,     0.81882,     0.81982,     0.82082,     0.82182,     0.82282,     0.82382,     0.82482,     0.82583,     0.82683,     0.82783,     0.82883,     0.82983,     0.83083,     0.83183,     0.83283,     0.83383,     0.83483,     0.83584,     0.83684,     0.83784,     0.83884,     0.83984,\n",
       "           0.84084,     0.84184,     0.84284,     0.84384,     0.84484,     0.84585,     0.84685,     0.84785,     0.84885,     0.84985,     0.85085,     0.85185,     0.85285,     0.85385,     0.85485,     0.85586,     0.85686,     0.85786,     0.85886,     0.85986,     0.86086,     0.86186,     0.86286,     0.86386,\n",
       "           0.86486,     0.86587,     0.86687,     0.86787,     0.86887,     0.86987,     0.87087,     0.87187,     0.87287,     0.87387,     0.87487,     0.87588,     0.87688,     0.87788,     0.87888,     0.87988,     0.88088,     0.88188,     0.88288,     0.88388,     0.88488,     0.88589,     0.88689,     0.88789,\n",
       "           0.88889,     0.88989,     0.89089,     0.89189,     0.89289,     0.89389,     0.89489,      0.8959,      0.8969,      0.8979,      0.8989,      0.8999,      0.9009,      0.9019,      0.9029,      0.9039,      0.9049,     0.90591,     0.90691,     0.90791,     0.90891,     0.90991,     0.91091,     0.91191,\n",
       "           0.91291,     0.91391,     0.91491,     0.91592,     0.91692,     0.91792,     0.91892,     0.91992,     0.92092,     0.92192,     0.92292,     0.92392,     0.92492,     0.92593,     0.92693,     0.92793,     0.92893,     0.92993,     0.93093,     0.93193,     0.93293,     0.93393,     0.93493,     0.93594,\n",
       "           0.93694,     0.93794,     0.93894,     0.93994,     0.94094,     0.94194,     0.94294,     0.94394,     0.94494,     0.94595,     0.94695,     0.94795,     0.94895,     0.94995,     0.95095,     0.95195,     0.95295,     0.95395,     0.95495,     0.95596,     0.95696,     0.95796,     0.95896,     0.95996,\n",
       "           0.96096,     0.96196,     0.96296,     0.96396,     0.96496,     0.96597,     0.96697,     0.96797,     0.96897,     0.96997,     0.97097,     0.97197,     0.97297,     0.97397,     0.97497,     0.97598,     0.97698,     0.97798,     0.97898,     0.97998,     0.98098,     0.98198,     0.98298,     0.98398,\n",
       "           0.98498,     0.98599,     0.98699,     0.98799,     0.98899,     0.98999,     0.99099,     0.99199,     0.99299,     0.99399,     0.99499,       0.996,       0.997,       0.998,       0.999,           1]), array([[   0.035445,    0.035512,    0.096642,     0.18154,     0.24169,      0.2735,     0.29902,     0.32019,     0.33647,     0.35538,     0.36204,     0.37314,     0.38696,     0.39383,      0.3976,     0.40156,     0.41606,     0.42309,     0.42678,     0.43002,     0.43513,     0.43951,     0.44721,\n",
       "            0.45254,     0.45769,      0.4609,     0.46256,     0.46675,     0.46972,     0.47084,     0.47499,     0.47927,     0.48294,     0.48385,      0.4862,     0.48886,     0.49018,     0.49213,     0.50009,     0.50095,     0.50209,     0.50476,     0.51014,     0.51238,     0.51385,      0.5148,\n",
       "            0.51711,     0.52328,     0.52435,     0.52591,     0.53103,     0.53557,     0.53677,     0.53793,     0.54168,     0.54231,     0.54293,     0.54378,     0.54642,     0.55087,     0.55296,     0.55461,     0.55573,     0.55774,     0.55914,     0.56074,     0.56393,     0.56611,      0.5683,\n",
       "            0.57069,     0.57325,     0.57368,     0.57411,     0.57454,     0.57606,     0.57759,     0.57857,     0.58167,     0.58386,     0.58497,      0.5856,     0.58623,     0.58709,     0.58944,     0.59081,     0.59367,     0.59704,     0.59612,     0.59827,     0.59921,     0.60007,     0.60052,\n",
       "            0.60096,     0.60141,     0.60186,       0.602,     0.60154,     0.60108,      0.6028,     0.60213,     0.60145,     0.60213,      0.6028,     0.60348,     0.60397,     0.60441,     0.60485,     0.60529,     0.60573,     0.60611,     0.60647,     0.60683,      0.6072,     0.60756,     0.60792,\n",
       "            0.60983,     0.61084,     0.61148,     0.61213,     0.61347,     0.61666,      0.6186,     0.62058,     0.62227,     0.62338,     0.62656,     0.62751,     0.62845,     0.62971,     0.63114,     0.63279,     0.63323,     0.63252,     0.63096,     0.63138,     0.63205,     0.63271,     0.63336,\n",
       "            0.63396,     0.63456,     0.63517,      0.6362,     0.64341,     0.64496,     0.64523,     0.64442,     0.64497,     0.64582,     0.64668,     0.64944,     0.65188,     0.65258,     0.65319,     0.65379,      0.6544,     0.65758,     0.65821,     0.65885,     0.65948,     0.66003,     0.66039,\n",
       "            0.66076,     0.66112,     0.66148,     0.66184,      0.6622,     0.66256,      0.6623,     0.66196,     0.66162,     0.66127,     0.66149,     0.66179,      0.6621,      0.6624,     0.66271,     0.66302,     0.66332,     0.66363,     0.66394,     0.66486,     0.66577,     0.66738,     0.67072,\n",
       "            0.67213,     0.67259,     0.67299,      0.6734,      0.6738,     0.67421,     0.67462,     0.67494,     0.67372,     0.68005,     0.68123,     0.68764,     0.68971,     0.69133,      0.6927,       0.694,     0.69443,     0.69485,     0.69527,      0.6957,     0.69612,     0.69655,     0.69698,\n",
       "            0.69816,     0.69933,     0.70085,     0.70281,     0.70352,     0.70405,     0.70458,     0.70511,     0.70564,     0.70616,     0.70639,     0.70662,     0.70685,     0.70708,     0.70731,     0.70755,     0.70778,     0.70801,     0.70824,     0.70847,     0.70871,     0.70894,     0.70917,\n",
       "            0.70974,      0.7105,     0.71126,     0.71202,     0.71111,     0.71422,     0.71413,     0.71403,     0.71394,     0.71385,     0.71375,     0.71366,     0.71357,     0.71348,     0.71338,     0.71329,      0.7132,     0.71311,     0.71301,     0.71361,     0.71429,     0.71497,     0.71565,\n",
       "            0.71658,     0.71868,     0.72372,     0.72463,     0.72408,     0.72665,     0.72755,     0.72831,     0.72907,     0.72983,     0.73036,     0.73062,     0.73088,     0.73114,      0.7314,     0.73166,     0.73192,     0.73218,     0.73244,     0.73271,     0.73297,     0.73323,     0.73349,\n",
       "            0.73458,     0.73687,     0.73792,     0.73885,     0.73977,     0.74075,     0.74214,     0.74353,     0.74434,     0.74476,     0.74519,     0.74561,     0.74604,     0.74646,     0.74689,     0.74731,     0.74865,     0.75159,     0.75288,     0.75417,     0.75554,       0.757,     0.75846,\n",
       "            0.75932,     0.76018,     0.76104,      0.7619,     0.76338,      0.7651,     0.76956,     0.76936,     0.76916,     0.76896,     0.76876,     0.76856,     0.76908,     0.77019,      0.7713,     0.77265,     0.77593,     0.77984,     0.77948,     0.77912,     0.78317,      0.7848,     0.78643,\n",
       "            0.78705,     0.78737,     0.78769,       0.788,     0.78832,     0.78864,     0.78896,     0.78928,      0.7896,     0.78991,     0.79023,     0.79055,     0.79092,     0.79151,     0.79211,     0.79271,     0.79331,     0.79391,     0.79451,     0.79577,     0.79808,     0.79939,     0.80008,\n",
       "            0.80078,     0.80147,     0.80216,     0.80285,     0.80413,     0.80577,     0.80742,      0.8093,     0.81117,     0.82033,     0.82093,     0.82153,     0.82213,     0.82274,     0.82334,     0.82394,     0.82496,     0.82879,     0.83759,     0.83776,     0.83767,     0.83759,      0.8375,\n",
       "            0.83742,     0.83733,     0.83725,     0.83716,     0.83708,     0.83699,     0.84143,     0.84132,     0.84112,     0.84091,      0.8407,     0.84139,     0.84228,     0.84317,     0.84406,     0.84495,     0.84561,     0.84612,     0.84663,     0.84715,     0.84766,     0.84817,     0.84868,\n",
       "             0.8492,     0.84971,     0.84996,     0.84986,     0.84976,     0.84967,     0.84957,     0.84947,     0.84938,     0.84928,     0.84918,     0.84959,     0.85013,     0.85068,     0.85123,     0.85177,     0.85232,     0.85287,     0.85342,      0.8541,     0.85708,     0.85945,     0.86104,\n",
       "            0.86262,     0.86646,     0.86767,     0.86712,     0.86697,     0.86687,     0.86678,     0.86668,     0.86658,     0.86649,     0.86639,      0.8663,      0.8668,     0.86745,     0.86809,     0.86873,     0.86938,     0.87002,     0.87067,     0.87131,     0.87103,     0.87599,     0.87654,\n",
       "             0.8771,     0.87765,      0.8782,     0.87875,     0.87931,     0.87986,     0.88041,     0.88094,     0.88055,     0.88237,     0.88927,     0.89209,     0.89376,     0.89544,     0.89709,      0.8987,     0.90031,     0.90181,     0.90103,     0.90055,     0.90047,      0.9004,     0.90032,\n",
       "            0.90025,     0.90017,      0.9001,     0.90002,     0.89989,     0.89972,     0.89956,     0.89939,     0.90006,     0.90085,     0.90163,     0.90241,     0.90319,     0.90397,     0.90475,       0.905,     0.90489,     0.90479,     0.90468,     0.90458,     0.90447,     0.90479,     0.90597,\n",
       "            0.90715,     0.90833,     0.90951,     0.91212,     0.91497,     0.91545,     0.91528,      0.9151,     0.91521,     0.91552,     0.91584,     0.91615,     0.91646,     0.91677,     0.91708,     0.91739,      0.9177,     0.91801,     0.91832,     0.91864,     0.91895,     0.91926,     0.91957,\n",
       "            0.91988,     0.92019,      0.9205,     0.92081,     0.92103,     0.92091,     0.92079,     0.92067,     0.92056,     0.92043,      0.9203,     0.92018,     0.92005,     0.91965,     0.92045,     0.92194,     0.92343,     0.92493,     0.92561,     0.92547,     0.92533,     0.92519,     0.92546,\n",
       "             0.9258,     0.92614,     0.92648,     0.92682,     0.92715,     0.92749,     0.92783,     0.92817,     0.92851,     0.92885,     0.92919,     0.92952,     0.92986,      0.9302,     0.93054,     0.93088,     0.93122,     0.93149,      0.9314,      0.9313,     0.93121,     0.93111,     0.93103,\n",
       "              0.931,     0.93097,     0.93094,     0.93092,     0.93089,     0.93086,     0.93083,      0.9308,     0.93078,     0.93075,     0.93072,     0.93069,     0.93066,     0.93064,     0.93061,     0.93058,     0.93071,     0.93162,     0.93253,     0.93344,     0.93434,     0.93525,     0.93616,\n",
       "            0.93707,     0.93808,     0.93908,     0.94009,      0.9411,     0.94211,     0.94312,     0.94452,     0.94637,     0.94822,     0.95007,     0.95001,      0.9496,     0.94956,     0.94951,     0.94947,     0.94942,     0.94938,     0.94933,     0.94929,     0.95026,     0.95163,     0.95299,\n",
       "            0.95436,     0.95573,     0.95613,     0.95602,      0.9559,     0.95583,     0.95576,     0.95569,     0.95563,     0.95556,     0.95664,     0.95778,     0.95891,     0.96005,     0.96119,     0.96233,     0.96265,      0.9626,     0.96254,     0.96249,     0.96243,     0.96219,     0.96326,\n",
       "            0.96433,      0.9654,     0.96648,     0.96755,     0.96862,     0.96946,     0.96943,     0.96941,     0.96938,     0.96936,     0.96933,     0.96931,     0.96928,     0.96926,     0.96923,     0.97656,     0.97649,     0.97643,     0.97635,     0.97625,     0.97618,     0.97615,     0.97612,\n",
       "             0.9761,     0.97607,     0.97604,     0.97602,     0.97599,     0.97596,     0.97593,     0.97591,     0.97588,     0.97585,     0.97582,     0.97577,     0.97567,     0.97559,     0.97553,     0.97548,     0.97542,     0.97521,     0.97518,     0.97515,     0.97512,     0.97509,     0.97507,\n",
       "            0.97504,     0.97501,     0.97497,     0.97492,     0.97487,     0.97483,     0.97472,     0.97456,     0.97453,      0.9745,     0.97447,     0.97443,      0.9744,     0.97437,     0.97434,     0.97431,     0.97427,     0.97424,     0.97421,     0.97418,     0.97415,     0.97389,     0.97378,\n",
       "            0.97368,     0.97354,      0.9733,      0.9741,     0.97526,     0.97642,     0.97758,     0.97874,      0.9799,     0.98106,     0.98197,     0.98192,     0.98187,     0.98182,     0.98175,     0.98167,     0.98153,     0.98261,     0.98413,     0.98566,     0.98718,     0.98871,     0.99023,\n",
       "            0.99056,     0.99053,      0.9905,     0.99046,     0.99039,     0.99034,     0.99029,     0.99027,     0.99025,     0.99023,      0.9902,     0.99018,     0.99014,     0.99011,     0.99004,     0.98979,     0.98978,     0.98977,     0.98976,     0.98975,     0.98973,     0.98972,     0.98971,\n",
       "             0.9897,     0.98957,      0.9894,     0.98934,     0.98932,     0.98929,     0.98926,     0.98921,     0.98914,      0.9891,     0.98906,     0.98902,     0.98863,     0.98854,     0.98829,     0.98813,     0.98808,     0.98805,     0.98803,     0.98801,     0.98798,     0.98796,     0.98792,\n",
       "            0.98786,     0.98781,     0.98778,     0.98775,     0.98773,      0.9877,     0.98767,     0.98762,     0.98752,     0.98747,     0.98744,     0.98741,     0.98738,     0.98735,     0.98717,     0.98716,     0.98714,     0.98712,     0.98711,     0.98709,     0.98707,     0.98706,     0.98704,\n",
       "            0.98703,     0.98695,     0.98677,     0.98668,     0.98661,     0.98654,     0.98648,     0.98647,     0.98646,     0.98645,     0.98644,     0.98643,     0.98642,     0.98641,      0.9864,     0.98639,     0.98638,     0.98637,     0.98636,     0.98635,     0.98634,     0.98633,     0.98632,\n",
       "            0.98631,      0.9863,     0.98627,     0.98622,     0.98617,     0.98613,     0.98608,     0.98603,     0.98597,     0.98592,     0.98582,     0.98571,     0.98569,     0.98566,     0.98564,     0.98561,     0.98558,     0.98556,     0.98553,     0.98551,     0.98652,     0.98833,     0.99013,\n",
       "            0.99194,     0.99374,     0.99555,     0.99735,     0.99916,           1,           1,           1,           1,           1,           1,           1,           1,           1,           1,           1,           1,           1,           1,           1,           1,           1,           1,\n",
       "                  1,           1,           1,           1,           1,           1,           1,           1,           1,           1,           1,           1,           1,           1,           1,           1,           1,           1,           1,           1,           1,           1,           1,\n",
       "                  1,           1,           1,           1,           1,           1,           1,           1,           1,           1,           1,           1,           1,           1,           1,           1,           1,           1,           1,           1,           1,           1,           1,\n",
       "                  1,           1,           1,           1,           1,           1,           1,           1,           1,           1,           1,           1,           1,           1,           1,           1,           1,           1,           1,           1,           1,           1,           1,\n",
       "                  1,           1,           1,           1,           1,           1,           1,           1,           1,           1,           1,           1,           1,           1,           1,           1,           1,           1,           1,           1,           1,           1,           1,\n",
       "                  1,           1,           1,           1,           1,           1,           1,           1,           1,           1,           1,           1,           1,           1,           1,           1,           1,           1,           1,           1,           1,           1,           1,\n",
       "                  1,           1,           1,           1,           1,           1,           1,           1,           1,           1,           1,           1,           1,           1,           1,           1,           1,           1,           1,           1,           1,           1,           1,\n",
       "                  1,           1,           1,           1,           1,           1,           1,           1,           1,           1,           1]]), 'Confidence', 'Precision'], [array([          0,    0.001001,    0.002002,    0.003003,    0.004004,    0.005005,    0.006006,    0.007007,    0.008008,    0.009009,     0.01001,    0.011011,    0.012012,    0.013013,    0.014014,    0.015015,    0.016016,    0.017017,    0.018018,    0.019019,     0.02002,    0.021021,    0.022022,    0.023023,\n",
       "          0.024024,    0.025025,    0.026026,    0.027027,    0.028028,    0.029029,     0.03003,    0.031031,    0.032032,    0.033033,    0.034034,    0.035035,    0.036036,    0.037037,    0.038038,    0.039039,     0.04004,    0.041041,    0.042042,    0.043043,    0.044044,    0.045045,    0.046046,    0.047047,\n",
       "          0.048048,    0.049049,     0.05005,    0.051051,    0.052052,    0.053053,    0.054054,    0.055055,    0.056056,    0.057057,    0.058058,    0.059059,     0.06006,    0.061061,    0.062062,    0.063063,    0.064064,    0.065065,    0.066066,    0.067067,    0.068068,    0.069069,     0.07007,    0.071071,\n",
       "          0.072072,    0.073073,    0.074074,    0.075075,    0.076076,    0.077077,    0.078078,    0.079079,     0.08008,    0.081081,    0.082082,    0.083083,    0.084084,    0.085085,    0.086086,    0.087087,    0.088088,    0.089089,     0.09009,    0.091091,    0.092092,    0.093093,    0.094094,    0.095095,\n",
       "          0.096096,    0.097097,    0.098098,    0.099099,      0.1001,      0.1011,      0.1021,      0.1031,      0.1041,     0.10511,     0.10611,     0.10711,     0.10811,     0.10911,     0.11011,     0.11111,     0.11211,     0.11311,     0.11411,     0.11512,     0.11612,     0.11712,     0.11812,     0.11912,\n",
       "           0.12012,     0.12112,     0.12212,     0.12312,     0.12412,     0.12513,     0.12613,     0.12713,     0.12813,     0.12913,     0.13013,     0.13113,     0.13213,     0.13313,     0.13413,     0.13514,     0.13614,     0.13714,     0.13814,     0.13914,     0.14014,     0.14114,     0.14214,     0.14314,\n",
       "           0.14414,     0.14515,     0.14615,     0.14715,     0.14815,     0.14915,     0.15015,     0.15115,     0.15215,     0.15315,     0.15415,     0.15516,     0.15616,     0.15716,     0.15816,     0.15916,     0.16016,     0.16116,     0.16216,     0.16316,     0.16416,     0.16517,     0.16617,     0.16717,\n",
       "           0.16817,     0.16917,     0.17017,     0.17117,     0.17217,     0.17317,     0.17417,     0.17518,     0.17618,     0.17718,     0.17818,     0.17918,     0.18018,     0.18118,     0.18218,     0.18318,     0.18418,     0.18519,     0.18619,     0.18719,     0.18819,     0.18919,     0.19019,     0.19119,\n",
       "           0.19219,     0.19319,     0.19419,      0.1952,      0.1962,      0.1972,      0.1982,      0.1992,      0.2002,      0.2012,      0.2022,      0.2032,      0.2042,     0.20521,     0.20621,     0.20721,     0.20821,     0.20921,     0.21021,     0.21121,     0.21221,     0.21321,     0.21421,     0.21522,\n",
       "           0.21622,     0.21722,     0.21822,     0.21922,     0.22022,     0.22122,     0.22222,     0.22322,     0.22422,     0.22523,     0.22623,     0.22723,     0.22823,     0.22923,     0.23023,     0.23123,     0.23223,     0.23323,     0.23423,     0.23524,     0.23624,     0.23724,     0.23824,     0.23924,\n",
       "           0.24024,     0.24124,     0.24224,     0.24324,     0.24424,     0.24525,     0.24625,     0.24725,     0.24825,     0.24925,     0.25025,     0.25125,     0.25225,     0.25325,     0.25425,     0.25526,     0.25626,     0.25726,     0.25826,     0.25926,     0.26026,     0.26126,     0.26226,     0.26326,\n",
       "           0.26426,     0.26527,     0.26627,     0.26727,     0.26827,     0.26927,     0.27027,     0.27127,     0.27227,     0.27327,     0.27427,     0.27528,     0.27628,     0.27728,     0.27828,     0.27928,     0.28028,     0.28128,     0.28228,     0.28328,     0.28428,     0.28529,     0.28629,     0.28729,\n",
       "           0.28829,     0.28929,     0.29029,     0.29129,     0.29229,     0.29329,     0.29429,      0.2953,      0.2963,      0.2973,      0.2983,      0.2993,      0.3003,      0.3013,      0.3023,      0.3033,      0.3043,     0.30531,     0.30631,     0.30731,     0.30831,     0.30931,     0.31031,     0.31131,\n",
       "           0.31231,     0.31331,     0.31431,     0.31532,     0.31632,     0.31732,     0.31832,     0.31932,     0.32032,     0.32132,     0.32232,     0.32332,     0.32432,     0.32533,     0.32633,     0.32733,     0.32833,     0.32933,     0.33033,     0.33133,     0.33233,     0.33333,     0.33433,     0.33534,\n",
       "           0.33634,     0.33734,     0.33834,     0.33934,     0.34034,     0.34134,     0.34234,     0.34334,     0.34434,     0.34535,     0.34635,     0.34735,     0.34835,     0.34935,     0.35035,     0.35135,     0.35235,     0.35335,     0.35435,     0.35536,     0.35636,     0.35736,     0.35836,     0.35936,\n",
       "           0.36036,     0.36136,     0.36236,     0.36336,     0.36436,     0.36537,     0.36637,     0.36737,     0.36837,     0.36937,     0.37037,     0.37137,     0.37237,     0.37337,     0.37437,     0.37538,     0.37638,     0.37738,     0.37838,     0.37938,     0.38038,     0.38138,     0.38238,     0.38338,\n",
       "           0.38438,     0.38539,     0.38639,     0.38739,     0.38839,     0.38939,     0.39039,     0.39139,     0.39239,     0.39339,     0.39439,      0.3954,      0.3964,      0.3974,      0.3984,      0.3994,      0.4004,      0.4014,      0.4024,      0.4034,      0.4044,     0.40541,     0.40641,     0.40741,\n",
       "           0.40841,     0.40941,     0.41041,     0.41141,     0.41241,     0.41341,     0.41441,     0.41542,     0.41642,     0.41742,     0.41842,     0.41942,     0.42042,     0.42142,     0.42242,     0.42342,     0.42442,     0.42543,     0.42643,     0.42743,     0.42843,     0.42943,     0.43043,     0.43143,\n",
       "           0.43243,     0.43343,     0.43443,     0.43544,     0.43644,     0.43744,     0.43844,     0.43944,     0.44044,     0.44144,     0.44244,     0.44344,     0.44444,     0.44545,     0.44645,     0.44745,     0.44845,     0.44945,     0.45045,     0.45145,     0.45245,     0.45345,     0.45445,     0.45546,\n",
       "           0.45646,     0.45746,     0.45846,     0.45946,     0.46046,     0.46146,     0.46246,     0.46346,     0.46446,     0.46547,     0.46647,     0.46747,     0.46847,     0.46947,     0.47047,     0.47147,     0.47247,     0.47347,     0.47447,     0.47548,     0.47648,     0.47748,     0.47848,     0.47948,\n",
       "           0.48048,     0.48148,     0.48248,     0.48348,     0.48448,     0.48549,     0.48649,     0.48749,     0.48849,     0.48949,     0.49049,     0.49149,     0.49249,     0.49349,     0.49449,      0.4955,      0.4965,      0.4975,      0.4985,      0.4995,      0.5005,      0.5015,      0.5025,      0.5035,\n",
       "            0.5045,     0.50551,     0.50651,     0.50751,     0.50851,     0.50951,     0.51051,     0.51151,     0.51251,     0.51351,     0.51451,     0.51552,     0.51652,     0.51752,     0.51852,     0.51952,     0.52052,     0.52152,     0.52252,     0.52352,     0.52452,     0.52553,     0.52653,     0.52753,\n",
       "           0.52853,     0.52953,     0.53053,     0.53153,     0.53253,     0.53353,     0.53453,     0.53554,     0.53654,     0.53754,     0.53854,     0.53954,     0.54054,     0.54154,     0.54254,     0.54354,     0.54454,     0.54555,     0.54655,     0.54755,     0.54855,     0.54955,     0.55055,     0.55155,\n",
       "           0.55255,     0.55355,     0.55455,     0.55556,     0.55656,     0.55756,     0.55856,     0.55956,     0.56056,     0.56156,     0.56256,     0.56356,     0.56456,     0.56557,     0.56657,     0.56757,     0.56857,     0.56957,     0.57057,     0.57157,     0.57257,     0.57357,     0.57457,     0.57558,\n",
       "           0.57658,     0.57758,     0.57858,     0.57958,     0.58058,     0.58158,     0.58258,     0.58358,     0.58458,     0.58559,     0.58659,     0.58759,     0.58859,     0.58959,     0.59059,     0.59159,     0.59259,     0.59359,     0.59459,      0.5956,      0.5966,      0.5976,      0.5986,      0.5996,\n",
       "            0.6006,      0.6016,      0.6026,      0.6036,      0.6046,     0.60561,     0.60661,     0.60761,     0.60861,     0.60961,     0.61061,     0.61161,     0.61261,     0.61361,     0.61461,     0.61562,     0.61662,     0.61762,     0.61862,     0.61962,     0.62062,     0.62162,     0.62262,     0.62362,\n",
       "           0.62462,     0.62563,     0.62663,     0.62763,     0.62863,     0.62963,     0.63063,     0.63163,     0.63263,     0.63363,     0.63463,     0.63564,     0.63664,     0.63764,     0.63864,     0.63964,     0.64064,     0.64164,     0.64264,     0.64364,     0.64464,     0.64565,     0.64665,     0.64765,\n",
       "           0.64865,     0.64965,     0.65065,     0.65165,     0.65265,     0.65365,     0.65465,     0.65566,     0.65666,     0.65766,     0.65866,     0.65966,     0.66066,     0.66166,     0.66266,     0.66366,     0.66466,     0.66567,     0.66667,     0.66767,     0.66867,     0.66967,     0.67067,     0.67167,\n",
       "           0.67267,     0.67367,     0.67467,     0.67568,     0.67668,     0.67768,     0.67868,     0.67968,     0.68068,     0.68168,     0.68268,     0.68368,     0.68468,     0.68569,     0.68669,     0.68769,     0.68869,     0.68969,     0.69069,     0.69169,     0.69269,     0.69369,     0.69469,      0.6957,\n",
       "            0.6967,      0.6977,      0.6987,      0.6997,      0.7007,      0.7017,      0.7027,      0.7037,      0.7047,     0.70571,     0.70671,     0.70771,     0.70871,     0.70971,     0.71071,     0.71171,     0.71271,     0.71371,     0.71471,     0.71572,     0.71672,     0.71772,     0.71872,     0.71972,\n",
       "           0.72072,     0.72172,     0.72272,     0.72372,     0.72472,     0.72573,     0.72673,     0.72773,     0.72873,     0.72973,     0.73073,     0.73173,     0.73273,     0.73373,     0.73473,     0.73574,     0.73674,     0.73774,     0.73874,     0.73974,     0.74074,     0.74174,     0.74274,     0.74374,\n",
       "           0.74474,     0.74575,     0.74675,     0.74775,     0.74875,     0.74975,     0.75075,     0.75175,     0.75275,     0.75375,     0.75475,     0.75576,     0.75676,     0.75776,     0.75876,     0.75976,     0.76076,     0.76176,     0.76276,     0.76376,     0.76476,     0.76577,     0.76677,     0.76777,\n",
       "           0.76877,     0.76977,     0.77077,     0.77177,     0.77277,     0.77377,     0.77477,     0.77578,     0.77678,     0.77778,     0.77878,     0.77978,     0.78078,     0.78178,     0.78278,     0.78378,     0.78478,     0.78579,     0.78679,     0.78779,     0.78879,     0.78979,     0.79079,     0.79179,\n",
       "           0.79279,     0.79379,     0.79479,      0.7958,      0.7968,      0.7978,      0.7988,      0.7998,      0.8008,      0.8018,      0.8028,      0.8038,      0.8048,     0.80581,     0.80681,     0.80781,     0.80881,     0.80981,     0.81081,     0.81181,     0.81281,     0.81381,     0.81481,     0.81582,\n",
       "           0.81682,     0.81782,     0.81882,     0.81982,     0.82082,     0.82182,     0.82282,     0.82382,     0.82482,     0.82583,     0.82683,     0.82783,     0.82883,     0.82983,     0.83083,     0.83183,     0.83283,     0.83383,     0.83483,     0.83584,     0.83684,     0.83784,     0.83884,     0.83984,\n",
       "           0.84084,     0.84184,     0.84284,     0.84384,     0.84484,     0.84585,     0.84685,     0.84785,     0.84885,     0.84985,     0.85085,     0.85185,     0.85285,     0.85385,     0.85485,     0.85586,     0.85686,     0.85786,     0.85886,     0.85986,     0.86086,     0.86186,     0.86286,     0.86386,\n",
       "           0.86486,     0.86587,     0.86687,     0.86787,     0.86887,     0.86987,     0.87087,     0.87187,     0.87287,     0.87387,     0.87487,     0.87588,     0.87688,     0.87788,     0.87888,     0.87988,     0.88088,     0.88188,     0.88288,     0.88388,     0.88488,     0.88589,     0.88689,     0.88789,\n",
       "           0.88889,     0.88989,     0.89089,     0.89189,     0.89289,     0.89389,     0.89489,      0.8959,      0.8969,      0.8979,      0.8989,      0.8999,      0.9009,      0.9019,      0.9029,      0.9039,      0.9049,     0.90591,     0.90691,     0.90791,     0.90891,     0.90991,     0.91091,     0.91191,\n",
       "           0.91291,     0.91391,     0.91491,     0.91592,     0.91692,     0.91792,     0.91892,     0.91992,     0.92092,     0.92192,     0.92292,     0.92392,     0.92492,     0.92593,     0.92693,     0.92793,     0.92893,     0.92993,     0.93093,     0.93193,     0.93293,     0.93393,     0.93493,     0.93594,\n",
       "           0.93694,     0.93794,     0.93894,     0.93994,     0.94094,     0.94194,     0.94294,     0.94394,     0.94494,     0.94595,     0.94695,     0.94795,     0.94895,     0.94995,     0.95095,     0.95195,     0.95295,     0.95395,     0.95495,     0.95596,     0.95696,     0.95796,     0.95896,     0.95996,\n",
       "           0.96096,     0.96196,     0.96296,     0.96396,     0.96496,     0.96597,     0.96697,     0.96797,     0.96897,     0.96997,     0.97097,     0.97197,     0.97297,     0.97397,     0.97497,     0.97598,     0.97698,     0.97798,     0.97898,     0.97998,     0.98098,     0.98198,     0.98298,     0.98398,\n",
       "           0.98498,     0.98599,     0.98699,     0.98799,     0.98899,     0.98999,     0.99099,     0.99199,     0.99299,     0.99399,     0.99499,       0.996,       0.997,       0.998,       0.999,           1]), array([[    0.93048,     0.93048,     0.93048,     0.93048,     0.93048,     0.93048,     0.93048,     0.92513,     0.91444,     0.91444,     0.91444,     0.91444,     0.91444,     0.91444,     0.91444,     0.91444,     0.91444,     0.91444,     0.91444,     0.91444,     0.91444,     0.91444,     0.91444,\n",
       "            0.91444,     0.91444,     0.90909,     0.90669,     0.90374,     0.90374,     0.90374,     0.90374,     0.90374,     0.90374,     0.90374,     0.90374,     0.90374,     0.90374,     0.90374,     0.90374,     0.90374,     0.90374,     0.90374,     0.90374,     0.90374,     0.90374,     0.90374,\n",
       "            0.90374,     0.90374,     0.90374,     0.90374,     0.90374,     0.90374,     0.90374,     0.90374,     0.90374,     0.90374,     0.90374,     0.90374,     0.90374,     0.90374,     0.90374,     0.90374,     0.90374,     0.90374,     0.90374,     0.90374,     0.90374,     0.90374,     0.90374,\n",
       "            0.90374,     0.90374,     0.90374,     0.90374,     0.90374,     0.90374,     0.90374,     0.90374,     0.90374,     0.90374,     0.90374,     0.90374,     0.90374,     0.90374,     0.90374,     0.90374,     0.90374,     0.90326,      0.8998,      0.8984,      0.8984,      0.8984,      0.8984,\n",
       "             0.8984,      0.8984,      0.8984,     0.89782,     0.89611,      0.8944,     0.89273,     0.89021,      0.8877,      0.8877,      0.8877,      0.8877,      0.8877,      0.8877,      0.8877,      0.8877,      0.8877,      0.8877,      0.8877,      0.8877,      0.8877,      0.8877,      0.8877,\n",
       "             0.8877,      0.8877,      0.8877,      0.8877,      0.8877,      0.8877,      0.8877,      0.8877,      0.8877,      0.8877,      0.8877,      0.8877,      0.8877,      0.8877,      0.8877,      0.8877,     0.88632,     0.88364,     0.87771,     0.87701,     0.87701,     0.87701,     0.87701,\n",
       "            0.87701,     0.87701,     0.87701,     0.87701,     0.87701,     0.87701,     0.87533,     0.87222,     0.87166,     0.87166,     0.87166,     0.87166,     0.87166,     0.87166,     0.87166,     0.87166,     0.87166,     0.87166,     0.87166,     0.87166,     0.87166,     0.87166,     0.87166,\n",
       "            0.87166,     0.87166,     0.87166,     0.87166,     0.87166,     0.87166,     0.87048,     0.86916,     0.86783,     0.86651,     0.86631,     0.86631,     0.86631,     0.86631,     0.86631,     0.86631,     0.86631,     0.86631,     0.86631,     0.86631,     0.86631,     0.86631,     0.86631,\n",
       "            0.86631,     0.86631,     0.86631,     0.86631,     0.86631,     0.86631,     0.86631,     0.86606,     0.86126,     0.86096,     0.86096,     0.86096,     0.86096,     0.86096,     0.86096,     0.86096,     0.86096,     0.86096,     0.86096,     0.86096,     0.86096,     0.86096,     0.86096,\n",
       "            0.86096,     0.86096,     0.86096,     0.86096,     0.86096,     0.86096,     0.86096,     0.86096,     0.86096,     0.86096,     0.86096,     0.86096,     0.86096,     0.86096,     0.86096,     0.86096,     0.86096,     0.86096,     0.86096,     0.86096,     0.86096,     0.86096,     0.86096,\n",
       "            0.86096,     0.86096,     0.86096,     0.86096,     0.85562,     0.85533,     0.85494,     0.85456,     0.85417,     0.85379,      0.8534,     0.85301,     0.85263,     0.85224,     0.85185,     0.85147,     0.85108,      0.8507,     0.85031,     0.85027,     0.85027,     0.85027,     0.85027,\n",
       "            0.85027,     0.85027,     0.85027,     0.84431,     0.83957,     0.83957,     0.83957,     0.83957,     0.83957,     0.83957,     0.83957,     0.83957,     0.83957,     0.83957,     0.83957,     0.83957,     0.83957,     0.83957,     0.83957,     0.83957,     0.83957,     0.83957,     0.83957,\n",
       "            0.83957,     0.83957,     0.83957,     0.83957,     0.83957,     0.83957,     0.83957,     0.83957,     0.83957,     0.83957,     0.83957,     0.83957,     0.83957,     0.83957,     0.83957,     0.83957,     0.83957,     0.83957,     0.83957,     0.83957,     0.83957,     0.83957,     0.83957,\n",
       "            0.83957,     0.83957,     0.83957,     0.83957,     0.83957,     0.83957,     0.83937,     0.83842,     0.83748,     0.83654,     0.83559,     0.83465,     0.83422,     0.83422,     0.83422,     0.83422,     0.83422,     0.83344,      0.8317,     0.82997,     0.82888,     0.82888,     0.82888,\n",
       "            0.82888,     0.82888,     0.82888,     0.82888,     0.82888,     0.82888,     0.82888,     0.82888,     0.82888,     0.82888,     0.82888,     0.82888,     0.82888,     0.82888,     0.82888,     0.82888,     0.82888,     0.82888,     0.82888,     0.82888,     0.82888,     0.82888,     0.82888,\n",
       "            0.82888,     0.82888,     0.82888,     0.82888,     0.82888,     0.82888,     0.82888,     0.82888,     0.82888,     0.82888,     0.82888,     0.82888,     0.82888,     0.82888,     0.82888,     0.82888,     0.82888,     0.82888,     0.82888,     0.82839,     0.82788,     0.82736,     0.82685,\n",
       "            0.82633,     0.82582,      0.8253,     0.82479,     0.82427,     0.82376,     0.82353,     0.82226,     0.82098,      0.8197,     0.81842,     0.81818,     0.81818,     0.81818,     0.81818,     0.81818,     0.81818,     0.81818,     0.81818,     0.81818,     0.81818,     0.81818,     0.81818,\n",
       "            0.81818,     0.81818,     0.81792,      0.8173,     0.81668,     0.81606,     0.81544,     0.81483,     0.81421,     0.81359,     0.81297,     0.81283,     0.81283,     0.81283,     0.81283,     0.81283,     0.81283,     0.81283,     0.81283,     0.81283,     0.81283,     0.81283,     0.81283,\n",
       "            0.81283,     0.81283,     0.80646,     0.80264,     0.80156,      0.8009,     0.80023,     0.79957,     0.79891,     0.79824,     0.79758,     0.79691,     0.79679,     0.79679,     0.79679,     0.79679,     0.79679,     0.79679,     0.79679,     0.79679,     0.79144,     0.79144,     0.79144,\n",
       "            0.79144,     0.79144,     0.79144,     0.79144,     0.79144,     0.79144,     0.79144,     0.79137,     0.78842,      0.7861,      0.7861,      0.7861,      0.7861,      0.7861,      0.7861,      0.7861,      0.7861,     0.78584,     0.77897,     0.77478,     0.77414,     0.77349,     0.77284,\n",
       "             0.7722,     0.77155,      0.7709,     0.77026,     0.76909,     0.76768,     0.76627,     0.76486,     0.76471,     0.76471,     0.76471,     0.76471,     0.76471,     0.76471,     0.76471,     0.76415,     0.76322,     0.76229,     0.76136,     0.76043,     0.75949,     0.75401,     0.75401,\n",
       "            0.75401,     0.75401,     0.75401,     0.75401,     0.75401,      0.7527,     0.75103,     0.74936,     0.74866,     0.74866,     0.74866,     0.74866,     0.74866,     0.74866,     0.74866,     0.74866,     0.74866,     0.74866,     0.74866,     0.74866,     0.74866,     0.74866,     0.74866,\n",
       "            0.74866,     0.74866,     0.74866,     0.74866,     0.74838,     0.74719,     0.74599,     0.74479,     0.74359,     0.74233,     0.74104,     0.73975,     0.73846,     0.73451,     0.73262,     0.73262,     0.73262,     0.73262,     0.73189,     0.73042,     0.72895,     0.72748,     0.72727,\n",
       "            0.72727,     0.72727,     0.72727,     0.72727,     0.72727,     0.72727,     0.72727,     0.72727,     0.72727,     0.72727,     0.72727,     0.72727,     0.72727,     0.72727,     0.72727,     0.72727,     0.72727,     0.72712,     0.72604,     0.72496,     0.72389,     0.72281,     0.72187,\n",
       "            0.72155,     0.72124,     0.72093,     0.72061,      0.7203,     0.71998,     0.71967,     0.71935,     0.71904,     0.71872,     0.71841,      0.7181,     0.71778,     0.71747,     0.71715,     0.71684,     0.71658,     0.71658,     0.71658,     0.71658,     0.71658,     0.71658,     0.71658,\n",
       "            0.71658,     0.71658,     0.71658,     0.71658,     0.71658,     0.71658,     0.71658,     0.71658,     0.71658,     0.71658,     0.71658,      0.7114,     0.70534,     0.70468,     0.70402,     0.70336,      0.7027,     0.70204,     0.70138,     0.70072,     0.70053,     0.70053,     0.70053,\n",
       "            0.70053,     0.70053,      0.6993,     0.69741,     0.69552,     0.69428,     0.69319,     0.69209,     0.69099,     0.68989,     0.68984,     0.68984,     0.68984,     0.68984,     0.68984,     0.68984,     0.68914,     0.68811,     0.68709,     0.68606,     0.68504,     0.67914,     0.67914,\n",
       "            0.67914,     0.67914,     0.67914,     0.67914,     0.67914,     0.67902,     0.67845,     0.67787,     0.67729,     0.67671,     0.67614,     0.67556,     0.67498,      0.6744,     0.67383,     0.66839,     0.66647,     0.66455,     0.66237,     0.65939,     0.65741,     0.65666,      0.6559,\n",
       "            0.65514,     0.65439,     0.65363,     0.65287,     0.65212,     0.65136,      0.6506,     0.64984,     0.64908,     0.64832,     0.64756,     0.64613,     0.64334,     0.64111,     0.63964,     0.63818,     0.63672,     0.63101,     0.63029,     0.62956,     0.62884,     0.62812,      0.6274,\n",
       "            0.62668,     0.62596,     0.62493,     0.62369,     0.62245,     0.62121,     0.61864,     0.61466,     0.61386,     0.61306,     0.61226,     0.61147,     0.61067,     0.60987,      0.6091,     0.60833,     0.60756,      0.6068,     0.60603,     0.60526,      0.6045,     0.59831,     0.59594,\n",
       "            0.59355,     0.59025,     0.58491,     0.58289,     0.58289,     0.58289,     0.58289,     0.58289,     0.58289,     0.58289,     0.58255,     0.58094,     0.57932,      0.5777,     0.57531,     0.57285,     0.56824,     0.56684,     0.56684,     0.56684,     0.56684,     0.56684,     0.56684,\n",
       "            0.56124,     0.55939,     0.55754,     0.55515,     0.55108,     0.54815,     0.54539,     0.54418,     0.54298,     0.54177,     0.54056,     0.53898,     0.53717,     0.53536,     0.53139,      0.5185,     0.51791,     0.51733,     0.51674,     0.51615,     0.51557,     0.51498,     0.51439,\n",
       "            0.51381,     0.50736,     0.49928,     0.49647,     0.49518,     0.49389,     0.49261,     0.49038,     0.48727,      0.4852,     0.48339,     0.48159,     0.46516,     0.46128,     0.45136,       0.445,     0.44314,     0.44228,     0.44142,     0.44056,      0.4397,     0.43885,      0.4373,\n",
       "            0.43531,     0.43331,     0.43228,     0.43133,     0.43038,     0.42943,     0.42848,     0.42676,     0.42312,     0.42158,     0.42051,     0.41944,     0.41837,      0.4173,      0.4115,     0.41099,     0.41047,     0.40995,     0.40944,     0.40892,      0.4084,     0.40789,     0.40737,\n",
       "            0.40686,     0.40448,     0.39901,     0.39621,     0.39404,       0.392,     0.39032,     0.39003,     0.38974,     0.38945,     0.38916,     0.38887,     0.38858,     0.38829,       0.388,     0.38771,     0.38742,     0.38713,     0.38684,     0.38655,     0.38626,     0.38597,     0.38568,\n",
       "            0.38539,      0.3851,     0.38406,     0.38274,     0.38142,      0.3801,     0.37873,     0.37733,     0.37594,     0.37454,     0.37168,      0.3689,     0.36825,      0.3676,     0.36694,     0.36629,     0.36564,     0.36499,     0.36434,     0.36369,     0.35829,     0.35829,     0.35829,\n",
       "            0.35829,     0.35829,     0.35829,     0.35829,     0.35829,     0.35683,      0.3541,      0.3522,     0.35091,     0.34962,     0.34834,     0.34717,     0.34617,     0.34517,     0.34417,     0.34317,      0.3421,     0.34027,     0.33843,     0.33655,     0.33447,      0.3324,     0.32572,\n",
       "             0.3244,     0.32307,     0.32175,     0.32038,     0.31889,     0.31741,     0.31592,     0.31341,     0.31049,     0.30903,     0.30776,     0.30649,     0.30521,     0.30037,     0.29774,     0.29573,      0.2938,     0.29222,     0.29064,     0.28906,     0.27035,     0.26283,     0.25688,\n",
       "            0.25596,     0.25521,     0.25447,     0.25372,     0.25297,     0.25222,     0.25147,     0.25038,     0.24922,     0.24805,     0.24688,     0.23975,     0.23306,     0.22955,     0.22861,     0.22766,     0.22672,     0.22578,     0.22484,     0.22236,     0.21935,     0.21603,     0.20853,\n",
       "            0.20781,     0.20708,     0.20636,     0.20564,     0.20492,     0.20419,     0.20347,     0.19568,     0.18636,     0.18189,     0.17642,      0.1757,     0.17497,     0.17425,     0.17352,      0.1728,     0.17208,     0.17135,     0.16026,     0.15932,     0.15839,     0.15745,     0.15651,\n",
       "            0.15558,     0.15115,     0.14722,     0.14426,     0.14207,     0.13989,     0.13676,     0.13319,     0.13039,     0.12182,     0.11616,     0.11414,     0.11062,    0.099685,    0.097042,    0.093394,    0.089966,    0.087548,    0.085366,    0.084272,    0.083178,    0.082084,     0.08099,\n",
       "           0.079162,    0.075542,    0.071985,    0.069018,    0.067368,    0.065718,    0.063936,    0.060144,    0.052069,    0.049911,    0.047239,    0.042453,    0.039893,    0.037351,    0.035229,    0.033107,    0.030702,    0.028034,    0.026155,     0.02502,    0.023886,    0.022751,    0.021616,\n",
       "           0.020611,    0.019637,    0.018663,    0.017689,    0.016715,     0.01543,    0.013451,    0.011471,   0.0097211,   0.0081188,   0.0065165,           0,           0,           0,           0,           0,           0,           0,           0,           0,           0,           0,           0,\n",
       "                  0,           0,           0,           0,           0,           0,           0,           0,           0,           0,           0]]), 'Confidence', 'Recall']]\n",
       "fitness: 0.5836239985410028\n",
       "keys: ['metrics/precision(B)', 'metrics/recall(B)', 'metrics/mAP50(B)', 'metrics/mAP50-95(B)']\n",
       "maps: array([    0.55137])\n",
       "names: {0: 'block'}\n",
       "nt_per_class: array([187], dtype=int64)\n",
       "nt_per_image: array([26], dtype=int64)\n",
       "results_dict: {'metrics/precision(B)': 0.8610351923906111, 'metrics/recall(B)': 0.8128342245989305, 'metrics/mAP50(B)': 0.873942309877756, 'metrics/mAP50-95(B)': 0.5513664083924746, 'fitness': 0.5836239985410028}\n",
       "save_dir: WindowsPath('runs/detect/val')\n",
       "speed: {'preprocess': 1.3211769233189092, 'inference': 15.167465385345098, 'loss': 0.0005538458935916424, 'postprocess': 1.049353845211534}\n",
       "stats: {'tp': [], 'conf': [], 'pred_cls': [], 'target_cls': [], 'target_img': []}\n",
       "task: 'detect'"
      ]
     },
     "execution_count": 15,
     "metadata": {},
     "output_type": "execute_result"
    }
   ],
   "source": [
    "# 加载训练好的模型\n",
    "model = YOLO(\"runs/detect/train16/weights/best.pt\")\n",
    "\n",
    "# 测试单张图像\n",
    "results = model(\"block_data/images/test/test_image.jpg\", device=0)\n",
    "results[0].show()  # 显示结果\n",
    "\n",
    "# 评估验证集\n",
    "model.val(data=\"block_data/data.yaml\", device=0)"
   ]
  },
  {
   "cell_type": "code",
   "execution_count": null,
   "id": "2216acde",
   "metadata": {},
   "outputs": [
    {
     "name": "stdout",
     "output_type": "stream",
     "text": [
      "\n",
      "image 1/1 e:\\\\\\SMT\\yolo_roadblock\\block_data\\images\\test\\103.jpg: 288x416 4 blocks, 13.7ms\n",
      "Speed: 1.9ms preprocess, 13.7ms inference, 1.5ms postprocess per image at shape (1, 3, 288, 416)\n",
      "Saved validated image: block_data/images/test/validate\\103.jpg\n",
      "\n",
      "image 1/1 e:\\\\\\SMT\\yolo_roadblock\\block_data\\images\\test\\104.jpg: 384x416 7 blocks, 62.2ms\n",
      "Speed: 4.2ms preprocess, 62.2ms inference, 1.5ms postprocess per image at shape (1, 3, 384, 416)\n",
      "Saved validated image: block_data/images/test/validate\\104.jpg\n",
      "\n",
      "image 1/1 e:\\\\\\SMT\\yolo_roadblock\\block_data\\images\\test\\107.jpg: 416x352 1 block, 65.2ms\n",
      "Speed: 3.3ms preprocess, 65.2ms inference, 9.2ms postprocess per image at shape (1, 3, 416, 352)\n",
      "Saved validated image: block_data/images/test/validate\\107.jpg\n",
      "\n",
      "image 1/1 e:\\\\\\SMT\\yolo_roadblock\\block_data\\images\\test\\118.jpg: 288x416 7 blocks, 14.2ms\n",
      "Speed: 2.7ms preprocess, 14.2ms inference, 2.6ms postprocess per image at shape (1, 3, 288, 416)\n",
      "Saved validated image: block_data/images/test/validate\\118.jpg\n",
      "\n",
      "image 1/1 e:\\\\\\SMT\\yolo_roadblock\\block_data\\images\\test\\12.jpg: 416x320 4 blocks, 16.3ms\n",
      "Speed: 2.8ms preprocess, 16.3ms inference, 3.8ms postprocess per image at shape (1, 3, 416, 320)\n",
      "Saved validated image: block_data/images/test/validate\\12.jpg\n",
      "\n",
      "image 1/1 e:\\\\\\SMT\\yolo_roadblock\\block_data\\images\\test\\126.jpg: 416x288 1 block, 47.1ms\n",
      "Speed: 1.9ms preprocess, 47.1ms inference, 1.4ms postprocess per image at shape (1, 3, 416, 288)\n",
      "Saved validated image: block_data/images/test/validate\\126.jpg\n",
      "\n",
      "image 1/1 e:\\\\\\SMT\\yolo_roadblock\\block_data\\images\\test\\132.jpg: 288x416 3 blocks, 14.1ms\n",
      "Speed: 2.7ms preprocess, 14.1ms inference, 1.7ms postprocess per image at shape (1, 3, 288, 416)\n",
      "Saved validated image: block_data/images/test/validate\\132.jpg\n",
      "\n",
      "image 1/1 e:\\\\\\SMT\\yolo_roadblock\\block_data\\images\\test\\153.jpg: 288x416 11 blocks, 12.5ms\n",
      "Speed: 1.5ms preprocess, 12.5ms inference, 1.8ms postprocess per image at shape (1, 3, 288, 416)\n",
      "Saved validated image: block_data/images/test/validate\\153.jpg\n",
      "\n",
      "image 1/1 e:\\\\\\SMT\\yolo_roadblock\\block_data\\images\\test\\159.jpg: 416x288 9 blocks, 15.7ms\n",
      "Speed: 2.3ms preprocess, 15.7ms inference, 3.1ms postprocess per image at shape (1, 3, 416, 288)\n",
      "Saved validated image: block_data/images/test/validate\\159.jpg\n",
      "\n",
      "image 1/1 e:\\\\\\SMT\\yolo_roadblock\\block_data\\images\\test\\168.jpg: 416x320 2 blocks, 17.1ms\n",
      "Speed: 4.2ms preprocess, 17.1ms inference, 2.8ms postprocess per image at shape (1, 3, 416, 320)\n",
      "Saved validated image: block_data/images/test/validate\\168.jpg\n",
      "\n",
      "image 1/1 e:\\\\\\SMT\\yolo_roadblock\\block_data\\images\\test\\188.jpg: 416x320 1 block, 14.8ms\n",
      "Speed: 2.8ms preprocess, 14.8ms inference, 2.8ms postprocess per image at shape (1, 3, 416, 320)\n",
      "Saved validated image: block_data/images/test/validate\\188.jpg\n",
      "\n",
      "image 1/1 e:\\\\\\SMT\\yolo_roadblock\\block_data\\images\\test\\198.jpg: 416x320 1 block, 18.5ms\n",
      "Speed: 2.9ms preprocess, 18.5ms inference, 1.8ms postprocess per image at shape (1, 3, 416, 320)\n",
      "Saved validated image: block_data/images/test/validate\\198.jpg\n",
      "\n",
      "image 1/1 e:\\\\\\SMT\\yolo_roadblock\\block_data\\images\\test\\202.jpg: 288x416 6 blocks, 14.7ms\n",
      "Speed: 2.3ms preprocess, 14.7ms inference, 2.5ms postprocess per image at shape (1, 3, 288, 416)\n",
      "Saved validated image: block_data/images/test/validate\\202.jpg\n",
      "\n",
      "image 1/1 e:\\\\\\SMT\\yolo_roadblock\\block_data\\images\\test\\210.jpg: 416x320 3 blocks, 16.9ms\n",
      "Speed: 2.9ms preprocess, 16.9ms inference, 2.0ms postprocess per image at shape (1, 3, 416, 320)\n",
      "Saved validated image: block_data/images/test/validate\\210.jpg\n",
      "\n",
      "image 1/1 e:\\\\\\SMT\\yolo_roadblock\\block_data\\images\\test\\213.jpg: 288x416 2 blocks, 16.6ms\n",
      "Speed: 4.6ms preprocess, 16.6ms inference, 2.3ms postprocess per image at shape (1, 3, 288, 416)\n",
      "Saved validated image: block_data/images/test/validate\\213.jpg\n",
      "\n",
      "image 1/1 e:\\\\\\SMT\\yolo_roadblock\\block_data\\images\\test\\235.jpg: 288x416 1 block, 12.9ms\n",
      "Speed: 2.3ms preprocess, 12.9ms inference, 2.7ms postprocess per image at shape (1, 3, 288, 416)\n",
      "Saved validated image: block_data/images/test/validate\\235.jpg\n",
      "\n",
      "image 1/1 e:\\\\\\SMT\\yolo_roadblock\\block_data\\images\\test\\239.jpg: 288x416 5 blocks, 14.6ms\n",
      "Speed: 2.4ms preprocess, 14.6ms inference, 3.9ms postprocess per image at shape (1, 3, 288, 416)\n",
      "Saved validated image: block_data/images/test/validate\\239.jpg\n",
      "\n",
      "image 1/1 e:\\\\\\SMT\\yolo_roadblock\\block_data\\images\\test\\30.jpg: 320x416 6 blocks, 59.6ms\n",
      "Speed: 3.1ms preprocess, 59.6ms inference, 1.3ms postprocess per image at shape (1, 3, 320, 416)\n",
      "Saved validated image: block_data/images/test/validate\\30.jpg\n",
      "\n",
      "image 1/1 e:\\\\\\SMT\\yolo_roadblock\\block_data\\images\\test\\45.jpg: 288x416 19 blocks, 13.7ms\n",
      "Speed: 2.0ms preprocess, 13.7ms inference, 1.6ms postprocess per image at shape (1, 3, 288, 416)\n",
      "Saved validated image: block_data/images/test/validate\\45.jpg\n",
      "\n",
      "image 1/1 e:\\\\\\SMT\\yolo_roadblock\\block_data\\images\\test\\46.jpg: 416x288 1 block, 19.5ms\n",
      "Speed: 2.6ms preprocess, 19.5ms inference, 3.3ms postprocess per image at shape (1, 3, 416, 288)\n",
      "Saved validated image: block_data/images/test/validate\\46.jpg\n",
      "\n",
      "image 1/1 e:\\\\\\SMT\\yolo_roadblock\\block_data\\images\\test\\47.jpg: 320x416 1 block, 15.5ms\n",
      "Speed: 2.7ms preprocess, 15.5ms inference, 3.0ms postprocess per image at shape (1, 3, 320, 416)\n",
      "Saved validated image: block_data/images/test/validate\\47.jpg\n",
      "\n",
      "image 1/1 e:\\\\\\SMT\\yolo_roadblock\\block_data\\images\\test\\501.jpg: 416x320 1 block, 16.0ms\n",
      "Speed: 2.6ms preprocess, 16.0ms inference, 2.5ms postprocess per image at shape (1, 3, 416, 320)\n",
      "Saved validated image: block_data/images/test/validate\\501.jpg\n",
      "\n",
      "image 1/1 e:\\\\\\SMT\\yolo_roadblock\\block_data\\images\\test\\502.jpg: 416x288 2 blocks, 17.1ms\n",
      "Speed: 2.8ms preprocess, 17.1ms inference, 2.2ms postprocess per image at shape (1, 3, 416, 288)\n",
      "Saved validated image: block_data/images/test/validate\\502.jpg\n",
      "\n",
      "image 1/1 e:\\\\\\SMT\\yolo_roadblock\\block_data\\images\\test\\7.jpg: 288x416 13 blocks, 13.9ms\n",
      "Speed: 2.5ms preprocess, 13.9ms inference, 4.4ms postprocess per image at shape (1, 3, 288, 416)\n",
      "Saved validated image: block_data/images/test/validate\\7.jpg\n",
      "\n",
      "image 1/1 e:\\\\\\SMT\\yolo_roadblock\\block_data\\images\\test\\70.jpg: 416x320 11 blocks, 16.2ms\n",
      "Speed: 2.8ms preprocess, 16.2ms inference, 4.4ms postprocess per image at shape (1, 3, 416, 320)\n",
      "Saved validated image: block_data/images/test/validate\\70.jpg\n",
      "\n",
      "image 1/1 e:\\\\\\SMT\\yolo_roadblock\\block_data\\images\\test\\84.jpg: 288x416 1 block, 14.2ms\n",
      "Speed: 2.3ms preprocess, 14.2ms inference, 3.6ms postprocess per image at shape (1, 3, 288, 416)\n",
      "Saved validated image: block_data/images/test/validate\\84.jpg\n",
      "\n",
      "image 1/1 e:\\\\\\SMT\\yolo_roadblock\\block_data\\images\\test\\97.jpg: 416x416 1 block, 17.4ms\n",
      "Speed: 2.9ms preprocess, 17.4ms inference, 2.7ms postprocess per image at shape (1, 3, 416, 416)\n",
      "Saved validated image: block_data/images/test/validate\\97.jpg\n",
      "\n",
      "image 1/1 e:\\\\\\SMT\\yolo_roadblock\\block_data\\images\\test\\test_image.jpg: 416x320 3 blocks, 16.7ms\n",
      "Speed: 2.3ms preprocess, 16.7ms inference, 3.1ms postprocess per image at shape (1, 3, 416, 320)\n",
      "Saved validated image: block_data/images/test/validate\\test_image.jpg\n"
     ]
    }
   ],
   "source": [
    "import os\n",
    "from ultralytics import YOLO\n",
    "\n",
    "# 加载训练好的模型\n",
    "model = YOLO(\"runs/detect/train16/weights/best.pt\")\n",
    "\n",
    "# 获取test文件夹下的所有图片\n",
    "test_folder = \"block_data/images/test\"\n",
    "validate_folder = \"block_data/images/test/validate\"\n",
    "\n",
    "# 如果validate文件夹不存在，则创建它\n",
    "if not os.path.exists(validate_folder):\n",
    "    os.makedirs(validate_folder)\n",
    "\n",
    "# 遍历test文件夹下的所有图片\n",
    "for filename in os.listdir(test_folder):\n",
    "    # 只处理图像文件，假设是jpg和png格式\n",
    "    if filename.endswith((\".jpg\", \".png\")):\n",
    "        image_path = os.path.join(test_folder, filename)\n",
    "\n",
    "        # 执行验证\n",
    "        results = model(image_path, device=0)\n",
    "\n",
    "        # 显示图片 (可选)\n",
    "        # results[0].show()  # 显示第一张图像的检测结果\n",
    "        \n",
    "        # 保存结果到validate文件夹\n",
    "        save_path = os.path.join(validate_folder, filename)\n",
    "        results[0].save()  # 保存到当前文件夹\n",
    "        print(f\"Saved validated image: {save_path}\")"
   ]
  },
  {
   "cell_type": "code",
   "execution_count": null,
   "id": "d459b724",
   "metadata": {},
   "outputs": [],
   "source": [
    "# 配置用户\n",
    "!git config --global user.name \"XIQUQIX\"\n",
    "!git config --global user.email \"sun.rongj@northeastern.edu\"\n"
   ]
  },
  {
   "cell_type": "code",
   "execution_count": 7,
   "id": "57cebb91",
   "metadata": {},
   "outputs": [
    {
     "name": "stdout",
     "output_type": "stream",
     "text": [
      "Initialized empty Git repository in E:/杂项/实习经历/SMT/yolo_roadblock/.git/\n"
     ]
    }
   ],
   "source": [
    "!git init\n",
    "# 设置远程仓库地址\n",
    "!git remote add origin https://github.com/XIQUQIX/roadblock_recognition_yolo8.git"
   ]
  },
  {
   "cell_type": "code",
   "execution_count": 8,
   "id": "2cfc7ee2",
   "metadata": {},
   "outputs": [
    {
     "name": "stdout",
     "output_type": "stream",
     "text": [
      "origin\thttps://github.com/XIQUQIX/roadblock_recognition_yolo8.git (fetch)\n",
      "origin\thttps://github.com/XIQUQIX/roadblock_recognition_yolo8.git (push)\n"
     ]
    }
   ],
   "source": [
    "!git remote -v"
   ]
  }
 ],
 "metadata": {
  "kernelspec": {
   "display_name": "Python 3",
   "language": "python",
   "name": "python3"
  },
  "language_info": {
   "codemirror_mode": {
    "name": "ipython",
    "version": 3
   },
   "file_extension": ".py",
   "mimetype": "text/x-python",
   "name": "python",
   "nbconvert_exporter": "python",
   "pygments_lexer": "ipython3",
   "version": "3.10.11"
  }
 },
 "nbformat": 4,
 "nbformat_minor": 5
}
